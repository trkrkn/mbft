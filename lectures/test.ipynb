{
 "cells": [
  {
   "cell_type": "markdown",
   "id": "b129a8d1",
   "metadata": {
    "slideshow": {
     "slide_type": "slide"
    }
   },
   "source": [
    "\n",
    "# Lecture 01 - Introduction to Python"
   ]
  },
  {
   "cell_type": "markdown",
   "id": "94c237ca",
   "metadata": {
    "slideshow": {
     "slide_type": "slide"
    }
   },
   "source": [
    "## 1. Motivation "
   ]
  },
  {
   "cell_type": "markdown",
   "id": "63c7829b",
   "metadata": {
    "slideshow": {
     "slide_type": "slide"
    }
   },
   "source": [
    "### What is Python?"
   ]
  },
  {
   "cell_type": "markdown",
   "id": "a2c734ad",
   "metadata": {
    "slideshow": {
     "slide_type": "-"
    }
   },
   "source": [
    "Python is a high-level, interpreted programming language known for its simplicity and readability.\n",
    "\n",
    "**Key Features of Python**\n",
    "\n",
    "- **Easy to Learn:** Python's syntax is straightforward.\n",
    "- **Interpreted Language:** Python code is executed line by line, which makes debugging easier.\n",
    "- **Dynamically Typed:** You don't need to declare variable types explicitly; Python handles it automatically.\n",
    "- **Versatile:** Python is used in web development, data analysis, automation, and much more.\n",
    "- **Huge Ecosystem:** Python has a large standard library and third-party modules for a wide variety of applications.\n",
    "\n",
    "  "
   ]
  },
  {
   "cell_type": "markdown",
   "id": "43033346",
   "metadata": {
    "slideshow": {
     "slide_type": "slide"
    }
   },
   "source": [
    "### Why Python for Finance?"
   ]
  },
  {
   "cell_type": "markdown",
   "id": "06c6808c",
   "metadata": {
    "slideshow": {
     "slide_type": "-"
    }
   },
   "source": [
    "- **Data Handling:** In finance, you often work with large datasets—Python's libraries like `pandas` and `NumPy` are designed to handle and analyze financial data efficiently.\n",
    "- **Automation:** Python can automate repetitive tasks like data retrieval, report generation, and portfolio analysis.\n",
    "- **Financial Modeling:** Python is a great tool for building complex models such as forecasting, risk management, and pricing.\n",
    "- **Integration with Data Science:** Python is the most popular language for data science, offering extensive support for statistical analysis, machine learning, and data visualization."
   ]
  },
  {
   "cell_type": "markdown",
   "id": "d5a4977e",
   "metadata": {
    "slideshow": {
     "slide_type": "slide"
    }
   },
   "source": [
    "## 2. Setting up the environment"
   ]
  },
  {
   "cell_type": "markdown",
   "id": "7d0b06cc",
   "metadata": {
    "slideshow": {
     "slide_type": "slide"
    }
   },
   "source": [
    "### 2.1 Installing a Python environment"
   ]
  },
  {
   "cell_type": "markdown",
   "id": "ca1947f3",
   "metadata": {
    "slideshow": {
     "slide_type": "slide"
    }
   },
   "source": [
    "#### Python\n",
    "- Download Python from the [official website](https://www.python.org/downloads/).\n",
    "- Installation includes the Python interpreter and Integrated Development Environment (IDLE) for coding.\n",
    " \n",
    " "
   ]
  },
  {
   "cell_type": "markdown",
   "id": "986be56d",
   "metadata": {
    "slideshow": {
     "slide_type": "slide"
    }
   },
   "source": [
    "#### Installing Anaconda\n",
    "- Anaconda is a suite of useful tools and packages for Python development.\n",
    "- Download Anaconda from the [official website](https://www.anaconda.com/download)\n",
    "- Once it is installed, confirm the following environments and packages are available:\n",
    "    - [Spyder](https://www.spyder-ide.org/)\n",
    "    - [Jupyter Notebook](https://jupyter.org/)"
   ]
  },
  {
   "cell_type": "markdown",
   "id": "c2851658",
   "metadata": {
    "slideshow": {
     "slide_type": "slide"
    }
   },
   "source": [
    "### 2.2 Running Python Code"
   ]
  },
  {
   "cell_type": "markdown",
   "id": "cc4d15c6",
   "metadata": {
    "slideshow": {
     "slide_type": "slide"
    }
   },
   "source": [
    "There are multiple ways to run Python.\n",
    "\n",
    "Consider the following code line which instructs to simply print out \"Hello World!\"\n",
    "\n",
    "```python\n",
    "    print (\"Hello World!\")\n",
    "```"
   ]
  },
  {
   "cell_type": "markdown",
   "id": "2319c746",
   "metadata": {
    "slideshow": {
     "slide_type": "slide"
    }
   },
   "source": [
    "#### Python Shell"
   ]
  },
  {
   "cell_type": "markdown",
   "id": "874d9539",
   "metadata": {
    "slideshow": {
     "slide_type": "-"
    }
   },
   "source": [
    "- Use the Python IDLE (from terminal of from any IDE setting like Spyder)\n",
    "- Type the code and press `Enter`\n",
    "- Check the output"
   ]
  },
  {
   "cell_type": "markdown",
   "id": "f2b202f9",
   "metadata": {
    "slideshow": {
     "slide_type": "slide"
    }
   },
   "source": [
    "#### Python Script"
   ]
  },
  {
   "cell_type": "markdown",
   "id": "28a72ae2",
   "metadata": {
    "slideshow": {
     "slide_type": "-"
    }
   },
   "source": [
    "- Open an empty file (Spyder, [Sublime Text Editor](https://www.sublimetext.com), etc.)\n",
    "- Write the code\n",
    "- Save file as `helloworld.py`\n",
    "- Run the script\n",
    "    - From the terminal, run the script by typing\n",
    "    ```bash\n",
    "        python helloworld.py\n",
    "    ```\n",
    "    - From the IDE (like Spyder), launch the run\n",
    "- Check the output"
   ]
  },
  {
   "cell_type": "markdown",
   "id": "3b6b4176",
   "metadata": {
    "slideshow": {
     "slide_type": "slide"
    }
   },
   "source": [
    "#### Notebook (*This is a Notebook*)"
   ]
  },
  {
   "cell_type": "markdown",
   "id": "08890419",
   "metadata": {
    "slideshow": {
     "slide_type": "-"
    }
   },
   "source": [
    "Platforms like [Jupyter Notebooks](https://jupyter.org/) are widely used in data science for documenting and running code interactively.\n",
    "- Open Jupyter Notebook by typing in the terminal\n",
    "```bash\n",
    "    Jupyter Notebook\n",
    "```\n",
    "- Creat a new notebook with a Python environment\n",
    "- Write the code in the first cell\n",
    "- Run the cell\n",
    "- Check the output (see below)"
   ]
  },
  {
   "cell_type": "code",
   "execution_count": null,
   "id": "ddab293d",
   "metadata": {
    "slideshow": {
     "slide_type": "-"
    }
   },
   "outputs": [],
   "source": [
    "print ('Hello World!')"
   ]
  },
  {
   "cell_type": "markdown",
   "id": "e1703347",
   "metadata": {
    "slideshow": {
     "slide_type": "slide"
    }
   },
   "source": [
    "## 3. Overview of the Python environment"
   ]
  },
  {
   "cell_type": "markdown",
   "id": "8b3cd38b",
   "metadata": {
    "slideshow": {
     "slide_type": "slide"
    }
   },
   "source": [
    "### 3.1 Syntax"
   ]
  },
  {
   "cell_type": "markdown",
   "id": "507ee05a",
   "metadata": {
    "slideshow": {
     "slide_type": "slide"
    }
   },
   "source": [
    "#### 3.1.1 Python as a calculator"
   ]
  },
  {
   "cell_type": "code",
   "execution_count": null,
   "id": "4a597930",
   "metadata": {
    "slideshow": {
     "slide_type": "-"
    }
   },
   "outputs": [],
   "source": [
    "5000 + 250"
   ]
  },
  {
   "cell_type": "code",
   "execution_count": null,
   "id": "b75aba81",
   "metadata": {
    "slideshow": {
     "slide_type": "-"
    }
   },
   "outputs": [],
   "source": [
    "10000 * 1.05"
   ]
  },
  {
   "cell_type": "code",
   "execution_count": null,
   "id": "dfbfb2cc",
   "metadata": {
    "slideshow": {
     "slide_type": "-"
    }
   },
   "outputs": [],
   "source": [
    "10000 / 2"
   ]
  },
  {
   "cell_type": "markdown",
   "id": "b4eca8f1",
   "metadata": {
    "slideshow": {
     "slide_type": "slide"
    }
   },
   "source": [
    "**Comments:** Use comments (`#`) to explain code, particularly useful for documenting underlying logic."
   ]
  },
  {
   "cell_type": "code",
   "execution_count": null,
   "id": "b0a6bba8",
   "metadata": {
    "slideshow": {
     "slide_type": "-"
    }
   },
   "outputs": [],
   "source": [
    "# Basic financial arithmetic\n",
    "print(5000 + 250)    # Adding investment returns\n",
    "print(10000 * 1.05)  # Calculating interest (5% growth)\n",
    "print(10000 / 2) # Splitting an investment"
   ]
  },
  {
   "cell_type": "code",
   "execution_count": null,
   "id": "33d01f1e",
   "metadata": {
    "slideshow": {
     "slide_type": "-"
    }
   },
   "outputs": [],
   "source": [
    "# This is a comment\n",
    "print(\"Welcome to Python for Finance!\")  # This prints a message"
   ]
  },
  {
   "cell_type": "markdown",
   "id": "4c73e4b6",
   "metadata": {
    "slideshow": {
     "slide_type": "slide"
    }
   },
   "source": [
    "#### 3.1.2 Variables and Data Types"
   ]
  },
  {
   "cell_type": "markdown",
   "id": "e637541a",
   "metadata": {
    "slideshow": {
     "slide_type": "slide"
    }
   },
   "source": [
    "- **Variables**: Store data for calculations. \n",
    "\n",
    "The operation `=` assigns a value to a variable."
   ]
  },
  {
   "cell_type": "code",
   "execution_count": null,
   "id": "58a4a5d3",
   "metadata": {
    "slideshow": {
     "slide_type": "-"
    }
   },
   "outputs": [],
   "source": [
    "# Variable assignment in a financial scenario\n",
    "stock_price = 150.25  # Price of a stock\n",
    "investment_amount = 10000  # Amount invested\n",
    "shares = investment_amount / stock_price  # Number of shares"
   ]
  },
  {
   "cell_type": "code",
   "execution_count": null,
   "id": "078a237a",
   "metadata": {
    "slideshow": {
     "slide_type": "-"
    }
   },
   "outputs": [],
   "source": [
    "shares"
   ]
  },
  {
   "cell_type": "markdown",
   "id": "bfdc7259",
   "metadata": {
    "slideshow": {
     "slide_type": "slide"
    }
   },
   "source": [
    "- **Data types**: Variables can be of different types.\n",
    "\n",
    "    - Strings (`str`): Text\n",
    "    - Integers (`int`): Integer value\n",
    "    - Floats (`float`): Real value\n",
    "    - Booleans (`bool`): True or False\n",
    "\n",
    "Because Python is dynamically typed, there is no need to explicitly mention the type of the variable. Yet, in some cases, it may be important to cast variables from one type to another. \n",
    "\n",
    "*More on this in the next lecture.*"
   ]
  },
  {
   "cell_type": "markdown",
   "id": "103dda53",
   "metadata": {
    "slideshow": {
     "slide_type": "slide"
    }
   },
   "source": [
    "### 3.2 Control structures"
   ]
  },
  {
   "cell_type": "markdown",
   "id": "d63ad3d5",
   "metadata": {
    "slideshow": {
     "slide_type": "slide"
    }
   },
   "source": [
    "**Control structures** allow to condition the sequence of action of a code on the particular value a variable exhibits at the time of execution.\n",
    "\n",
    "**Note:** `tabs` are organizational pillars of the Python code structure"
   ]
  },
  {
   "cell_type": "markdown",
   "id": "60baed8c",
   "metadata": {
    "slideshow": {
     "slide_type": "slide"
    }
   },
   "source": [
    "#### 3.2.1 Conditional statements"
   ]
  },
  {
   "cell_type": "markdown",
   "id": "3bbd45e6",
   "metadata": {
    "slideshow": {
     "slide_type": "-"
    }
   },
   "source": [
    "**Conditional statements** consider the specific value of a variable at the time of execution and determine the outcome based on a logical operation."
   ]
  },
  {
   "cell_type": "markdown",
   "id": "acd5ce94",
   "metadata": {
    "slideshow": {
     "slide_type": "-"
    }
   },
   "source": [
    "**Structure**"
   ]
  },
  {
   "cell_type": "markdown",
   "id": "be2356e4",
   "metadata": {
    "slideshow": {
     "slide_type": "-"
    }
   },
   "source": [
    "```bash\n",
    "    If CONDITON HOLDS:\n",
    "        OUTCOME 1\n",
    "    Elif OTHER CONDITION HOLDS:\n",
    "        OUTCOME 2\n",
    "    Else:\n",
    "        OUTCOME 3\n",
    "```\n",
    "**Note:** check the `tabs`"
   ]
  },
  {
   "cell_type": "code",
   "execution_count": null,
   "id": "f4fbe089",
   "metadata": {
    "slideshow": {
     "slide_type": "slide"
    }
   },
   "outputs": [],
   "source": [
    "balance = 5000\n",
    "if balance >= 10000:\n",
    "    print(\"You are eligible for premium services.\")\n",
    "else:\n",
    "    print(\"Standard services apply.\")"
   ]
  },
  {
   "cell_type": "markdown",
   "id": "cef6b964",
   "metadata": {
    "slideshow": {
     "slide_type": "slide"
    }
   },
   "source": [
    "#### 3.2.2 Loops "
   ]
  },
  {
   "cell_type": "markdown",
   "id": "e771515a",
   "metadata": {
    "slideshow": {
     "slide_type": "-"
    }
   },
   "source": [
    "**Loops** repeat a sequence of actions until a condition is satisfied. There are two types of loops: \n",
    "\n",
    "- `while`\n",
    "- `for`"
   ]
  },
  {
   "cell_type": "markdown",
   "id": "937dfa5f",
   "metadata": {
    "slideshow": {
     "slide_type": "slide"
    }
   },
   "source": [
    "##### `While`"
   ]
  },
  {
   "cell_type": "markdown",
   "id": "fd705844",
   "metadata": {
    "slideshow": {
     "slide_type": "-"
    }
   },
   "source": [
    "**Structure**\n",
    "```bash\n",
    "    While CONDITION HOLDS:\n",
    "        ACTION(s)\n",
    "```"
   ]
  },
  {
   "cell_type": "code",
   "execution_count": null,
   "id": "0c134d6a",
   "metadata": {
    "slideshow": {
     "slide_type": "slide"
    }
   },
   "outputs": [],
   "source": [
    "# Use case: Simulating monthly deposit growth\n",
    "balance = 1000\n",
    "months = 0\n",
    "while balance < 2000:\n",
    "    balance += 100  # Monthly deposit\n",
    "    months += 1\n",
    "print(f\"It took {months} months to double the balance.\")"
   ]
  },
  {
   "cell_type": "markdown",
   "id": "315be617",
   "metadata": {
    "slideshow": {
     "slide_type": "slide"
    }
   },
   "source": [
    "##### `For`"
   ]
  },
  {
   "cell_type": "markdown",
   "id": "54d35d86",
   "metadata": {
    "slideshow": {
     "slide_type": "-"
    }
   },
   "source": [
    "**Structure**\n",
    "```bash\n",
    "    For CONDITION HOLDS | Increment action:\n",
    "        ACTION(s)\n",
    "```"
   ]
  },
  {
   "cell_type": "code",
   "execution_count": null,
   "id": "69142e34",
   "metadata": {
    "slideshow": {
     "slide_type": "slide"
    }
   },
   "outputs": [],
   "source": [
    "# Use case: Summing up daily returns from a list\n",
    "daily_returns = [0.01, -0.02, 0.03, 0.02, -0.01]\n",
    "total_return = 0\n",
    "for r in daily_returns:\n",
    "    total_return += r\n",
    "print(\"Total return for the week:\", total_return)"
   ]
  },
  {
   "cell_type": "markdown",
   "id": "773ca4bf",
   "metadata": {
    "slideshow": {
     "slide_type": "slide"
    }
   },
   "source": [
    "### 3.3 Functions "
   ]
  },
  {
   "cell_type": "markdown",
   "id": "2c39ef68",
   "metadata": {
    "slideshow": {
     "slide_type": "-"
    }
   },
   "source": [
    "A **function** is a reusable block of code that is saved up and can be called at multiple places in the main script.\n",
    "\n",
    "**Structure**\n",
    "```bash\n",
    "    def my_function (parameters):\n",
    "        ACTION(s)\n",
    "        return VALUE\n",
    "```"
   ]
  },
  {
   "cell_type": "code",
   "execution_count": null,
   "id": "f969d239",
   "metadata": {
    "slideshow": {
     "slide_type": "slide"
    }
   },
   "outputs": [],
   "source": [
    "# Function to calculate compound interest\n",
    "def calculate_compound_interest(principal, rate, time):\n",
    "    return principal * (1 + rate) ** time"
   ]
  },
  {
   "cell_type": "code",
   "execution_count": null,
   "id": "ca974a32",
   "metadata": {
    "slideshow": {
     "slide_type": "-"
    }
   },
   "outputs": [],
   "source": [
    "# Example usage\n",
    "result = calculate_compound_interest(1000, 0.05, 5)\n",
    "print(\"Compound Interest:\", result)"
   ]
  },
  {
   "cell_type": "markdown",
   "id": "1a509d32",
   "metadata": {
    "slideshow": {
     "slide_type": "slide"
    }
   },
   "source": [
    "### 3.4 Data structures"
   ]
  },
  {
   "cell_type": "markdown",
   "id": "0f4b2a4e",
   "metadata": {
    "slideshow": {
     "slide_type": "slide"
    }
   },
   "source": [
    "#### 3.4.1 Lists"
   ]
  },
  {
   "cell_type": "markdown",
   "id": "a7fb2842",
   "metadata": {
    "slideshow": {
     "slide_type": "-"
    }
   },
   "source": [
    "**Lists** allow to store and treat mutliple data points into one variable"
   ]
  },
  {
   "cell_type": "code",
   "execution_count": null,
   "id": "1823b99e",
   "metadata": {
    "slideshow": {
     "slide_type": "-"
    }
   },
   "outputs": [],
   "source": [
    "# Example: List of daily stock prices\n",
    "stock_prices = [150.25, 153.50, 152.00, 155.00]\n",
    "print(stock_prices[0])  # Accessing the first day's price\n",
    "stock_prices.append(157.25)  # Adding a new day's price\n",
    "print(stock_prices)"
   ]
  },
  {
   "cell_type": "markdown",
   "id": "b6460f94",
   "metadata": {
    "slideshow": {
     "slide_type": "slide"
    }
   },
   "source": [
    "#### 3.4.2 Dictionaries"
   ]
  },
  {
   "cell_type": "markdown",
   "id": "81cd2f07",
   "metadata": {
    "slideshow": {
     "slide_type": "-"
    }
   },
   "source": [
    "**Dictionnaries** allow store and treat multiple pairs of data point associating keys and values."
   ]
  },
  {
   "cell_type": "code",
   "execution_count": null,
   "id": "626d08eb",
   "metadata": {
    "slideshow": {
     "slide_type": "-"
    }
   },
   "outputs": [],
   "source": [
    "# Example: Dictionary to store portfolio allocation\n",
    "portfolio = {\n",
    "    \"AAPL\": 5000,\n",
    "    \"GOOGL\": 3000,\n",
    "    \"AMZN\": 2000\n",
    "}\n",
    "print(portfolio[\"AAPL\"])  # Accessing allocation for AAPL\n",
    "portfolio[\"GOOGL\"] += 1000  # Updating allocation for GOOGL\n",
    "print(portfolio)"
   ]
  },
  {
   "cell_type": "markdown",
   "id": "f477bf68",
   "metadata": {
    "slideshow": {
     "slide_type": "slide"
    }
   },
   "source": [
    "### 3.5 Libraries "
   ]
  },
  {
   "cell_type": "markdown",
   "id": "637251a5",
   "metadata": {
    "slideshow": {
     "slide_type": "-"
    }
   },
   "source": [
    "**Libraries** are pre-built packages of functions for tasks like data analysis and visualization.\n",
    "  "
   ]
  },
  {
   "cell_type": "markdown",
   "id": "caff3198",
   "metadata": {
    "slideshow": {
     "slide_type": "slide"
    }
   },
   "source": [
    "##### Key Libraries for Finance"
   ]
  },
  {
   "cell_type": "markdown",
   "id": "ecf2af60",
   "metadata": {
    "slideshow": {
     "slide_type": "-"
    }
   },
   "source": [
    "  - **`NumPy`**: For numerical computations \n",
    "          matrix operations in portfolio analysis\n",
    "  - **`pandas`**: Used for data manipulation \n",
    "          handling financial datasets\n",
    "  - **`matplotlib`**: For data visualization \n",
    "          plotting stock prices"
   ]
  },
  {
   "cell_type": "code",
   "execution_count": null,
   "id": "568494b4",
   "metadata": {
    "slideshow": {
     "slide_type": "slide"
    }
   },
   "outputs": [],
   "source": [
    "import numpy \n",
    "\n",
    "print(numpy.sqrt(16))  # Square root\n",
    "print(numpy.pi)        # Value of pi"
   ]
  },
  {
   "cell_type": "markdown",
   "id": "48e78eb7",
   "metadata": {
    "slideshow": {
     "slide_type": "slide"
    }
   },
   "source": [
    "##### Documentation"
   ]
  },
  {
   "cell_type": "markdown",
   "id": "cf56b55b",
   "metadata": {
    "slideshow": {
     "slide_type": "-"
    }
   },
   "source": [
    "Libraries come with **documentation**. \n",
    "\n",
    "On Notebooks, they can be directly accessed from the cell pressing `maj` + `tab` after the function."
   ]
  },
  {
   "cell_type": "markdown",
   "id": "430c0c68",
   "metadata": {
    "slideshow": {
     "slide_type": "slide"
    }
   },
   "source": [
    "###### Example of documentation `numpy.sqrt()`"
   ]
  },
  {
   "cell_type": "markdown",
   "id": "de2ab4c0",
   "metadata": {
    "slideshow": {
     "slide_type": "-"
    }
   },
   "source": [
    "```bash\n",
    "    Call signature:  numpy.sqrt(*args, **kwargs)\n",
    "Type:            ufunc\n",
    "String form:     <ufunc 'sqrt'>\n",
    "File:            ~/opt/anaconda3/lib/python3.9/site-packages/numpy/__init__.py\n",
    "Docstring:      \n",
    "sqrt(x, /, out=None, *, where=True, casting='same_kind', order='K', dtype=None, subok=True[, signature, extobj])\n",
    "\n",
    "Return the non-negative square-root of an array, element-wise.\n",
    "\n",
    "Parameters\n",
    "----------\n",
    "x : array_like\n",
    "    The values whose square-roots are required.\n",
    "out : ndarray, None, or tuple of ndarray and None, optional\n",
    "    A location into which the result is stored. If provided, it must have\n",
    "    a shape that the inputs broadcast to. If not provided or None,\n",
    "    a freshly-allocated array is returned. A tuple (possible only as a\n",
    "    keyword argument) must have length equal to the number of outputs.\n",
    "where : array_like, optional\n",
    "    This condition is broadcast over the input. At locations where the\n",
    "    condition is True, the `out` array will be set to the ufunc result.\n",
    "    Elsewhere, the `out` array will retain its original value.\n",
    "    Note that if an uninitialized `out` array is created via the default\n",
    "    ``out=None``, locations within it where the condition is False will\n",
    "    remain uninitialized.\n",
    "**kwargs\n",
    "    For other keyword-only arguments, see the\n",
    "    :ref:`ufunc docs <ufuncs.kwargs>`.\n",
    "\n",
    "Returns\n",
    "-------\n",
    "y : ndarray\n",
    "    An array of the same shape as `x`, containing the positive\n",
    "    square-root of each element in `x`.  If any element in `x` is\n",
    "    complex, a complex array is returned (and the square-roots of\n",
    "    negative reals are calculated).  If all of the elements in `x`\n",
    "    are real, so is `y`, with negative elements returning ``nan``.\n",
    "    If `out` was provided, `y` is a reference to it.\n",
    "    This is a scalar if `x` is a scalar.\n",
    "\n",
    "See Also\n",
    "--------\n",
    "lib.scimath.sqrt\n",
    "    A version which returns complex numbers when given negative reals.\n",
    "\n",
    "Notes\n",
    "-----\n",
    "*sqrt* has--consistent with common convention--as its branch cut the\n",
    "real \"interval\" [`-inf`, 0), and is continuous from above on it.\n",
    "A branch cut is a curve in the complex plane across which a given\n",
    "complex function fails to be continuous.\n",
    "\n",
    "Examples\n",
    "--------\n",
    ">>> np.sqrt([1,4,9])\n",
    "array([ 1.,  2.,  3.])\n",
    "\n",
    ">>> np.sqrt([4, -1, -3+4J])\n",
    "array([ 2.+0.j,  0.+1.j,  1.+2.j])\n",
    "\n",
    ">>> np.sqrt([4, -1, np.inf])\n",
    "array([ 2., nan, inf])\n",
    "Class docstring:\n",
    "Functions that operate element by element on whole arrays.\n",
    "\n",
    "To see the documentation for a specific ufunc, use `info`.  For\n",
    "example, ``np.info(np.sin)``.  Because ufuncs are written in C\n",
    "(for speed) and linked into Python with NumPy's ufunc facility,\n",
    "Python's help() function finds this page whenever help() is called\n",
    "on a ufunc.\n",
    "\n",
    "A detailed explanation of ufuncs can be found in the docs for :ref:`ufuncs`.\n",
    "\n",
    "**Calling ufuncs:** ``op(*x[, out], where=True, **kwargs)``\n",
    "\n",
    "Apply `op` to the arguments `*x` elementwise, broadcasting the arguments.\n",
    "\n",
    "The broadcasting rules are:\n",
    "\n",
    "* Dimensions of length 1 may be prepended to either array.\n",
    "* Arrays may be repeated along dimensions of length 1.\n",
    "\n",
    "Parameters\n",
    "----------\n",
    "*x : array_like\n",
    "    Input arrays.\n",
    "out : ndarray, None, or tuple of ndarray and None, optional\n",
    "    Alternate array object(s) in which to put the result; if provided, it\n",
    "    must have a shape that the inputs broadcast to. A tuple of arrays\n",
    "    (possible only as a keyword argument) must have length equal to the\n",
    "    number of outputs; use None for uninitialized outputs to be\n",
    "    allocated by the ufunc.\n",
    "where : array_like, optional\n",
    "    This condition is broadcast over the input. At locations where the\n",
    "    condition is True, the `out` array will be set to the ufunc result.\n",
    "    Elsewhere, the `out` array will retain its original value.\n",
    "    Note that if an uninitialized `out` array is created via the default\n",
    "    ``out=None``, locations within it where the condition is False will\n",
    "    remain uninitialized.\n",
    "**kwargs\n",
    "    For other keyword-only arguments, see the :ref:`ufunc docs <ufuncs.kwargs>`.\n",
    "\n",
    "Returns\n",
    "-------\n",
    "r : ndarray or tuple of ndarray\n",
    "    `r` will have the shape that the arrays in `x` broadcast to; if `out` is\n",
    "    provided, it will be returned. If not, `r` will be allocated and\n",
    "    may contain uninitialized values. If the function has more than one\n",
    "    output, then the result will be a tuple of arrays.\n",
    "```"
   ]
  },
  {
   "cell_type": "markdown",
   "id": "c703ba62",
   "metadata": {
    "slideshow": {
     "slide_type": "slide"
    }
   },
   "source": [
    "# 4. Organisation\n",
    "\n",
    "The rest of the class is organized as follows:\n",
    "\n",
    "| Lecture   | Topic  |  Content\n",
    "|---|---| ---|\n",
    "| **Lecture 02** | Data types and structures | `int`, `float`, `list`|\n",
    "| **Lecture 03** | Control structures | `if`, `for` |\n",
    "| **Lecture 04** | Functions | `def` |\n",
    "| **Lecture 05** | OO Programming | `class` |\n",
    "| **Lecture 06** | Libraries | \n",
    "| **Lecture 07** | Numerical computing | `numpy`|\n",
    "| **Lecture 08** | Data manipulation | `pandas` |\n",
    "| **Lecture 09** | Input & output | `read`, `write` |\n",
    "| **Lecture 10** | Data visualization | `matplotlib`|\n",
    "| **Lecture 11** | Time series | |\n",
    "| **Lecture 12** | Network analysis | `networkx`|\n",
    "| **Lecture 13&14** | Machine learning | `scikit-learn`|\n",
    "\n"
   ]
  }
 ],
 "metadata": {
  "celltoolbar": "Slideshow",
  "kernelspec": {
   "display_name": "Python 3 (ipykernel)",
   "language": "python",
   "name": "python3"
  },
  "language_info": {
   "codemirror_mode": {
    "name": "ipython",
    "version": 3
   },
   "file_extension": ".py",
   "mimetype": "text/x-python",
   "name": "python",
   "nbconvert_exporter": "python",
   "pygments_lexer": "ipython3",
   "version": "3.12.7"
  }
 },
 "nbformat": 4,
 "nbformat_minor": 5
}
