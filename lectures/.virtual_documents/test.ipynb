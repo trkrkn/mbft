





















































print ('Hello World!')











5000 + 250


10000 * 1.05


10000 / 2





# Basic financial arithmetic
print(5000 + 250)    # Adding investment returns
print(10000 * 1.05)  # Calculating interest (5% growth)
print(10000 / 2) # Splitting an investment


# This is a comment
print("Welcome to Python for Finance!")  # This prints a message








# Variable assignment in a financial scenario
stock_price = 150.25  # Price of a stock
investment_amount = 10000  # Amount invested
shares = investment_amount / stock_price  # Number of shares


shares























balance = 5000
if balance >= 10000:
    print("You are eligible for premium services.")
else:
    print("Standard services apply.")














# Use case: Simulating monthly deposit growth
balance = 1000
months = 0
while balance < 2000:
    balance += 100  # Monthly deposit
    months += 1
print(f"It took {months} months to double the balance.")








# Use case: Summing up daily returns from a list
daily_returns = [0.01, -0.02, 0.03, 0.02, -0.01]
total_return = 0
for r in daily_returns:
    total_return += r
print("Total return for the week:", total_return)








# Function to calculate compound interest
def calculate_compound_interest(principal, rate, time):
    return principal * (1 + rate) ** time


# Example usage
result = calculate_compound_interest(1000, 0.05, 5)
print("Compound Interest:", result)











# Example: List of daily stock prices
stock_prices = [150.25, 153.50, 152.00, 155.00]
print(stock_prices[0])  # Accessing the first day's price
stock_prices.append(157.25)  # Adding a new day's price
print(stock_prices)








# Example: Dictionary to store portfolio allocation
portfolio = {
    "AAPL": 5000,
    "GOOGL": 3000,
    "AMZN": 2000
}
print(portfolio["AAPL"])  # Accessing allocation for AAPL
portfolio["GOOGL"] += 1000  # Updating allocation for GOOGL
print(portfolio)














import numpy 

print(numpy.sqrt(16))  # Square root
print(numpy.pi)        # Value of pi















