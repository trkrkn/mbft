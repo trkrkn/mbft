{
 "cells": [
  {
   "cell_type": "markdown",
   "id": "e38f2a30-4f3b-4b00-8e21-6d34ceab219d",
   "metadata": {
    "editable": true,
    "slideshow": {
     "slide_type": "slide"
    },
    "tags": []
   },
   "source": [
    "# Deposits\n",
    "## 5 Key Questions"
   ]
  },
  {
   "cell_type": "markdown",
   "id": "ad0c1ca2-8799-4005-a645-db8fb59bd079",
   "metadata": {
    "editable": true,
    "slideshow": {
     "slide_type": "slide"
    },
    "tags": []
   },
   "source": [
    "## 1. What are deposits?"
   ]
  },
  {
   "cell_type": "code",
   "execution_count": null,
   "id": "ecc4bced-2e11-4a0b-b11e-9cd82b16480c",
   "metadata": {
    "editable": true,
    "slideshow": {
     "slide_type": ""
    },
    "tags": []
   },
   "outputs": [],
   "source": []
  },
  {
   "cell_type": "markdown",
   "id": "42e984be-772a-46fd-921e-9cf74a8f58d0",
   "metadata": {
    "editable": true,
    "slideshow": {
     "slide_type": "slide"
    },
    "tags": []
   },
   "source": [
    "## 2. Why do we need deposits?"
   ]
  },
  {
   "cell_type": "code",
   "execution_count": null,
   "id": "8712df7b-d2cb-48c7-8ce6-c48a220aabf0",
   "metadata": {
    "editable": true,
    "slideshow": {
     "slide_type": ""
    },
    "tags": []
   },
   "outputs": [],
   "source": []
  },
  {
   "cell_type": "markdown",
   "id": "53a8fa3b-8037-4657-a40c-0a6c4e24af74",
   "metadata": {
    "editable": true,
    "slideshow": {
     "slide_type": "slide"
    },
    "tags": []
   },
   "source": [
    "## 3. What is the risk of offering deposits?"
   ]
  },
  {
   "cell_type": "code",
   "execution_count": null,
   "id": "076b2659-2782-4364-be12-dc883f8a842b",
   "metadata": {
    "editable": true,
    "slideshow": {
     "slide_type": ""
    },
    "tags": []
   },
   "outputs": [],
   "source": []
  },
  {
   "cell_type": "markdown",
   "id": "1a88f102-85dd-492c-8477-4d2241197a46",
   "metadata": {
    "editable": true,
    "slideshow": {
     "slide_type": "slide"
    },
    "tags": []
   },
   "source": [
    "## 4. How can we prevent such risk?"
   ]
  },
  {
   "cell_type": "code",
   "execution_count": null,
   "id": "49d47f58-9adf-4ca0-9d00-3fefabf60374",
   "metadata": {
    "editable": true,
    "slideshow": {
     "slide_type": ""
    },
    "tags": []
   },
   "outputs": [],
   "source": []
  },
  {
   "cell_type": "markdown",
   "id": "f917c5dd-f051-4c81-93df-e402bdcdf228",
   "metadata": {
    "editable": true,
    "slideshow": {
     "slide_type": "slide"
    },
    "tags": []
   },
   "source": [
    "## 5. What are shadow banks?"
   ]
  },
  {
   "cell_type": "code",
   "execution_count": null,
   "id": "c4d513a1-36ae-41ca-8d0b-9b475ee0a5d1",
   "metadata": {
    "editable": true,
    "slideshow": {
     "slide_type": ""
    },
    "tags": []
   },
   "outputs": [],
   "source": []
  },
  {
   "cell_type": "markdown",
   "id": "b51f560a-a727-4df7-a5ce-75b389c97e82",
   "metadata": {
    "editable": true,
    "slideshow": {
     "slide_type": "slide"
    },
    "tags": []
   },
   "source": [
    "# Map"
   ]
  },
  {
   "cell_type": "markdown",
   "id": "ad46d643-fae9-4030-abeb-f4bf86ffaaa0",
   "metadata": {
    "editable": true,
    "slideshow": {
     "slide_type": ""
    },
    "tags": []
   },
   "source": [
    "1. Value of Deposits\n",
    "2. A Model of Deposits\n",
    "3. The Fragility of Deposits\n",
    "4. Policy Implications\n",
    "5. Shadow Banks\n",
    "6. Information and Runs"
   ]
  },
  {
   "cell_type": "markdown",
   "id": "439792c6-4574-4c65-978e-a86a70a49488",
   "metadata": {
    "editable": true,
    "jp-MarkdownHeadingCollapsed": true,
    "slideshow": {
     "slide_type": "slide"
    },
    "tags": []
   },
   "source": [
    "# 1. The Value of Deposits"
   ]
  },
  {
   "cell_type": "markdown",
   "id": "4603baec-b65a-4356-8ac9-0631839fbb00",
   "metadata": {
    "editable": true,
    "slideshow": {
     "slide_type": "slide"
    },
    "tags": []
   },
   "source": [
    "## What is a Deposit?\n",
    "- Funds placed by customers at a bank\n",
    "- Bank liability, withdrawable **on demand**\n",
    "- Earns an **interest rate** for the depositor\n",
    "- Forms part of the **money supply** (means of payment)"
   ]
  },
  {
   "cell_type": "markdown",
   "id": "15401caf-4dcf-46c7-8a61-a3352aa6f116",
   "metadata": {
    "editable": true,
    "slideshow": {
     "slide_type": "slide"
    },
    "tags": []
   },
   "source": [
    "## Functions and Implications\n",
    "- **Liquidity creation**: Banks hold **illiquid loans/assets** but issue **liquid deposits**.\n",
    "    - **Shortest-maturity liability** in the system\n",
    "    - **Only banks** (and bank-like entities) issue them at scale → *unique service*.\n",
    "- **Payment function**: Deposits are directly usable for transfers and settlements.  \n",
    "- **Fragility**: Most **runnable** liability → central to **banking crises**.\n",
    "    - **Regulatory core**: Special protections (deposit insurance, prudential rules).  \n",
    "\n",
    "<center>Deposits are the <b>defining liability of banks</b — both their greatest strength (liquidity insurance) and their key vulnerability (runs).</center>"
   ]
  },
  {
   "cell_type": "markdown",
   "id": "71f04a1b-41a9-4d92-b26d-1238caff70f4",
   "metadata": {
    "editable": true,
    "slideshow": {
     "slide_type": "slide"
    },
    "tags": []
   },
   "source": [
    "## Importance of Deposits\n",
    "Deposits are not just cheap funding — they are the **core of money, payments, and stability** in modern economies.  "
   ]
  },
  {
   "cell_type": "markdown",
   "id": "c654a858-6d60-4988-9c14-7e3116e74b46",
   "metadata": {
    "editable": true,
    "slideshow": {
     "slide_type": ""
    },
    "tags": []
   },
   "source": [
    "### For Banks\n",
    "- **Main funding source**:  \n",
    "  - In most banking systems, **50–70% of bank liabilities are deposits**.  \n",
    "  - Example: euro area banks in 2022 relied on **~55% deposits** for total funding (ECB, 2023).  \n",
    "- **Lower cost of funds**: Deposit rates typically below wholesale funding rates → key driver of net interest margin (BIS, 2022).  \n",
    "- **Stability**: Retail deposits are more “sticky” than wholesale markets, providing resilience in crises (Gatev & Strahan, 2006).  \n",
    "- **Crisis evidence**: Banks with larger deposit bases were more stable in 2008 vs. wholesale-funded banks (Huang & Ratnovski, 2011).  "
   ]
  },
  {
   "cell_type": "markdown",
   "id": "560df857-6f78-4c86-83e0-12032179c9ec",
   "metadata": {
    "editable": true,
    "slideshow": {
     "slide_type": "slide"
    },
    "tags": []
   },
   "source": [
    "### For the Economy\n",
    "- **Money supply backbone**: Deposits are the dominant form of broad money.  \n",
    "  - In the euro area, about **85% of the total stock of money** in the economy consists of bank deposits (ECB, Statistical Data Warehouse, 2023)\n",
    "- **Payment system**: Deposits are the medium of most electronic payments and transfers.  \n",
    "- **Monetary policy transmission**: Deposit and lending rates are the key channels for central bank rate changes (Bernanke & Blinder, 1992).  \n",
    "- **Financial stability**: Deposit runs have repeatedly triggered systemic crises (Calomiris & Gorton, 1991; Shin, 2009; Federal Reserve Board, 2023 on SVB).  "
   ]
  },
  {
   "cell_type": "markdown",
   "id": "f3a04b5e-b848-4bfe-9594-49665962a09e",
   "metadata": {
    "editable": true,
    "slideshow": {
     "slide_type": "slide"
    },
    "tags": []
   },
   "source": [
    "# 2. A Model of Deposits"
   ]
  },
  {
   "cell_type": "markdown",
   "id": "756d1132-c977-4685-8003-02c20f9c1e34",
   "metadata": {
    "editable": true,
    "slideshow": {
     "slide_type": "slide"
    },
    "tags": []
   },
   "source": [
    "**Diamond and Dybvig (1983)** introduced a simple model of deposit contracts.\n",
    ">10k citations; foundation for **Nobel Prize (2022)** in part (Diamond, Dybvig, Bernanke).\n",
    "\n",
    "The model explains **why banks exist** and **why they are fragile**.\n",
    "\n",
    "**Key insight**\n",
    "- `incomplete information`: Because depositors don’t know when they’ll need money, banks provide an insurance: anyone can withdraw on demand.\n",
    "- Drawback: if depositors expect others to withdraw, they will rush to withdraw too → a **self-fulfilling bank run**.\n",
    "- Bank runs cause real economic damage because banks are forced to sell assets early at a loss.\n",
    "\n",
    "**Paper impact**\n",
    "- It gave economists and policymakers a formal model showing that bank runs are not just random accidents, but a natural outcome of how banks work.\n",
    "- It explained the importance of **deposit insurance** and **lenders of last resort** \n",
    "- It shaped modern banking regulation and is one of the main reasons almost all countries insure deposits today."
   ]
  },
  {
   "cell_type": "markdown",
   "id": "d8701402-6951-4d9a-a038-194b83283237",
   "metadata": {
    "editable": true,
    "slideshow": {
     "slide_type": "slide"
    },
    "tags": []
   },
   "source": [
    "## Economic Intuition"
   ]
  },
  {
   "cell_type": "markdown",
   "id": "2bbd3fb5-e14d-486e-a304-08633299877e",
   "metadata": {
    "editable": true,
    "slideshow": {
     "slide_type": ""
    },
    "tags": []
   },
   "source": [
    "- Investors face **idiosyncratic, privately observed** timing shocks (early vs late consumption).\n",
    "- Markets alone can’t insure this (information is private).\n",
    "- **Banks pool liquidity** and offer a simple contract (demand deposits) that beats autarky/exchange.\n",
    "- Downside: **multiple equilibria** including self-fulfilling runs."
   ]
  },
  {
   "cell_type": "markdown",
   "id": "b6b9b11a-1891-4613-96d3-dd139f1b2d86",
   "metadata": {
    "editable": true,
    "slideshow": {
     "slide_type": "slide"
    },
    "tags": []
   },
   "source": [
    "## The Environment\n",
    "\n",
    "Three dates: $T=0,1,2$.\n",
    "\n",
    "One **illiquid asset**: \n",
    "- **Invest** 1 unit at $T=0$.\n",
    "    - If **liquidated** early at $T=1$: gross return $1$.\n",
    "    - If **held to maturity** at $T=2$: gross return $R>1$.\n",
    "- Alternative **storage technology** (perfectly liquid):\n",
    "    - Returns **1** at both dates.\n",
    "\n"
   ]
  },
  {
   "cell_type": "markdown",
   "id": "b0fc238c-50ee-4910-aaaa-24034e4b200a",
   "metadata": {
    "editable": true,
    "slideshow": {
     "slide_type": "slide"
    },
    "tags": []
   },
   "source": [
    "**Preferences & Types**\n",
    "\n",
    "Investors are **risk-averse**:\n",
    "- Utility function $U(c)$ with $U’’(c) < 0 \\quad \\text{for all } c$ (concave).\n",
    "    - Example: $U(c)=1-\\frac{1}{c}$\n",
    "\n",
    "There are **two types** of investors.\n",
    "- `Type 1` are **early** consumers: need to liquidate asset at $T=1$\n",
    "- `Type 2` are **late** consumers: can liquidate asset at $T=2$"
   ]
  },
  {
   "cell_type": "markdown",
   "id": "ee322109-1091-425f-b348-567c835a3784",
   "metadata": {
    "editable": true,
    "slideshow": {
     "slide_type": ""
    },
    "tags": []
   },
   "source": [
    "**Expected utility**: \n",
    "\n",
    "Let $t$ be the prob. of `Type 1`; $1-t$ be the prob. of `Type 2`.\n",
    "\n",
    "At $T=0$, investors do not know their types (&rarr; `incomplete information`):\n",
    " \n",
    "  $$\n",
    "  \\mathbb{E}[U] =  t\\,U(c_1)+(1-t)\\,U(c_2).\n",
    "  $$"
   ]
  },
  {
   "cell_type": "markdown",
   "id": "c0bf3c29-18a7-4185-b5d9-be0bd1a830a1",
   "metadata": {
    "editable": true,
    "slideshow": {
     "slide_type": "slide"
    },
    "tags": []
   },
   "source": [
    "## Investment Strategies"
   ]
  },
  {
   "cell_type": "markdown",
   "id": "11cc90ef-0bfe-4bb2-a11d-472a64bf8c5f",
   "metadata": {
    "editable": true,
    "slideshow": {
     "slide_type": ""
    },
    "tags": []
   },
   "source": [
    "<u>**Without banks**</u> (Pure market allocation)\n",
    "\n",
    "Two “pure” investments:\n",
    "- **Storage**: $(1,1)$ `autarky`\n",
    "- **Illiquid asset**: $(1,R)$ (if not liquidated) `market`\n",
    "\n",
    "<u>**With banks**</u>\n",
    "\n",
    "**Deposit contract**: promise depositors $(r_1,r_2)$ with $r_1<r_2$, where:\n",
    "- `Type 1` withdraws at $T=1$ &rarr; $r_1$\n",
    "- `Type 2` waits to $T=2$ &rarr; $r_2$"
   ]
  },
  {
   "cell_type": "markdown",
   "id": "0652fb33-c431-4214-8ec1-806e536944a4",
   "metadata": {
    "editable": true,
    "slideshow": {
     "slide_type": "slide"
    },
    "tags": []
   },
   "source": [
    "<center><u><b>Goal</b></u>: show that <b>bank deposits</b> offer superior option to <b>autarky</b> and <b>market</b></center>\n",
    "\n",
    "&rarr; Implement $(r_1,r_2)$ that **Pareto-dominates** market alternatives when $1<r_1<r_2<R$.\n",
    "\n",
    "- **Risk-aversion**: investors prefer $(r_1,r_2)$ over $(1,R)$ and $(1,1)$"
   ]
  },
  {
   "cell_type": "markdown",
   "id": "3cec20b6-3131-42e3-a42b-b0f16d264af6",
   "metadata": {
    "editable": true,
    "slideshow": {
     "slide_type": "slide"
    },
    "tags": []
   },
   "source": [
    "## Manufacturing Deposits\n",
    "\n",
    "Let $N$ investors deposit 1 each in the bank at $T=0$ &rarr; Bank invests $N$ into the illiquid asset.\n",
    "\n",
    "At $T=1$: fraction $t$ withdraw; bank must repay $r_1Nt$.\n",
    "- Liquidates fraction to raise **1** per unit.\n",
    "- Remaining position: $N - r_1Nt = N(1 - r_1 t)$.\n",
    "\n",
    "At $T=2$: remaining assets return $R$.\n",
    "- Resources: $R\\,N(1 - r_1 t)$.\n",
    "- Must repay late withdrawals: $r_2N(1-t)$.\n",
    "\n",
    "**Feasibility**:\n",
    "\n",
    "$$r_2N(1-t) \\le R\\,(N - r_1Nt)\\\\\n",
    "\\leftrightarrow \\\\\n",
    "r_2 \\le \\frac{R\\,(1 - r_1 t)}{1-t},\\quad \\text{with } 1<r_1<r_2<R.\n",
    "$$"
   ]
  },
  {
   "cell_type": "markdown",
   "id": "ff97abc7-cc88-4675-a09f-cc767f1bb528",
   "metadata": {
    "editable": true,
    "slideshow": {
     "slide_type": "slide"
    },
    "tags": []
   },
   "source": [
    "### Optimal Policy for the Bank\n",
    "Find the optimal risk sharing across dates:\n",
    "\n",
    "$$\n",
    "\\max_{r_1,r_2} \\; tU(r_1)+(1-t)U(r_2)\n",
    "$$\n",
    "Subject to <u>feasibility constrain</u>: $ 0 \\leq\\; 1 - t r_1 - \\frac{1-t}{R} r_2 \\;$"
   ]
  },
  {
   "cell_type": "markdown",
   "id": "176a2c77-a64a-4989-a4f4-ae92025ecf22",
   "metadata": {
    "editable": true,
    "slideshow": {
     "slide_type": "slide"
    },
    "tags": []
   },
   "source": [
    "**Analysis**\n",
    "\n",
    "- Set up the Lagrangian:\n",
    "$$ \\mathcal{L} = tU(r_1) + (1-t)U(r_2) + \\lambda\\Big(1 - t r_1 - \\frac{1-t}{R}r_2 \\Big)$$\n",
    "\n",
    "\n",
    "- Differentiate w.r.t. $r_1$:\n",
    "$\\frac{\\partial \\mathcal{L}}{\\partial r_1} = tU’(r_1) - \\lambda t = 0\n",
    "\\quad \\Rightarrow \\quad U’(r_1) = \\lambda.$\n",
    "\n",
    "- Differentiate w.r.t. $r_2$:\n",
    "$\\frac{\\partial \\mathcal{L}}{\\partial r_2} = (1-t)U’(r_2) - \\lambda\\frac{1-t}{R} = 0\n",
    "\\quad \\Rightarrow \\quad U’(r_2) = \\frac{\\lambda}{R}.$"
   ]
  },
  {
   "cell_type": "markdown",
   "id": "84a38c8c-cb87-4001-9920-8b174f5560d3",
   "metadata": {
    "editable": true,
    "slideshow": {
     "slide_type": "slide"
    },
    "tags": []
   },
   "source": [
    "**Result** \n",
    "\n",
    "**Optimal policy** &rarr; chose $(r_1,r_2)$ such that:\n",
    "$$\n",
    "\\boxed{U'(r_1) \\;=\\; R\\,U'(r_2)}\n",
    "$$\n",
    "\n",
    "**Intuition** \n",
    "\n",
    "A marginal unit consumed early costs **$R$** units late → equate **marginal utilities** adjusted by **opportunity cost**.\n",
    "\n",
    "**Implication**\n",
    "\n",
    "If the bank offers such $(r^*_1,r^*_2)$, then offer superior to the market and all investors chose the bank\n",
    "<center>&rarr;<b>Liquidity creation through pooling and insurance!</b></center>"
   ]
  },
  {
   "cell_type": "markdown",
   "id": "8edca744-b403-46a1-aa70-1aa311841423",
   "metadata": {
    "editable": true,
    "jp-MarkdownHeadingCollapsed": true,
    "slideshow": {
     "slide_type": "slide"
    },
    "tags": []
   },
   "source": [
    "# 3. From Value to Fragility"
   ]
  },
  {
   "cell_type": "markdown",
   "id": "886147ad-ffdf-42f3-bb97-51890341eda8",
   "metadata": {
    "editable": true,
    "slideshow": {
     "slide_type": "slide"
    },
    "tags": []
   },
   "source": [
    "**Value Created**\n",
    "\n",
    "The model shows that\n",
    "- Deposit contracts optimally **share risk** between early and late consumers.  \n",
    "- They provide **liquidity insurance** and improve welfare compared to market allocations.  \n",
    "- **Why banks exist**: they create value by transforming illiquid assets into liquid deposits.  \n",
    "\n",
    "**… But fragility emerges**\n",
    "- This solution relies on **beliefs about withdrawals**.  \n",
    "- If everyone withdraws as expected (only true early types), the contract works perfectly.  \n",
    "- But if depositors **fear others may run**, they may rush to withdraw too (**self-fulfilling prophecies**) \n",
    "\n",
    "**Key:** The very feature that makes deposits valuable (liquidity on demand) also makes them **fragile**."
   ]
  },
  {
   "cell_type": "markdown",
   "id": "1699e228-dc43-4640-a125-8aac9664eaf8",
   "metadata": {
    "editable": true,
    "slideshow": {
     "slide_type": "slide"
    },
    "tags": []
   },
   "source": [
    "## Runs and Self-fulfilling Prophecies"
   ]
  },
  {
   "cell_type": "markdown",
   "id": "400f2e2e-f2e2-42ee-9342-2ef45b570f15",
   "metadata": {
    "editable": true,
    "slideshow": {
     "slide_type": ""
    },
    "tags": []
   },
   "source": [
    "**Expectations**\n",
    "\n",
    "Let $f$ be the **actual fraction withdrawing** at $T=1$.  \n",
    "Let $\\hat f$ be the **depositors’ expectation** of $f$.\n",
    "\n",
    "- If everyone expects only `Type 1` withdraw $(\\hat f = t)$, the **good equilibrium** is feasible.\n",
    "- If $\\hat f$ is high, `Type 2` may fear there won’t be enough left at $T=2$ and **withdraw early**, making $f$ rise → **self-fulfilling run**."
   ]
  },
  {
   "cell_type": "markdown",
   "id": "fce1d520-f19f-4ff1-8b56-bdd782c9cc0f",
   "metadata": {
    "editable": true,
    "slideshow": {
     "slide_type": "slide"
    },
    "tags": []
   },
   "source": [
    "## When Do Late Types Run?\n",
    "\n",
    "`Type 2` compares:\n",
    "- **Wait**: receive $r_2(f)$ at $T=2$ (declines with $f$).\n",
    "- **Run**: receive $r_1$ at $T=1$.\n",
    "\n",
    "**Run condition**:\n",
    "$$\n",
    "r_2(\\hat f)\\;<\\; r_1.\n",
    "$$"
   ]
  },
  {
   "cell_type": "markdown",
   "id": "9ba82794-171c-4fa4-86dc-4ca6ff307935",
   "metadata": {
    "editable": true,
    "slideshow": {
     "slide_type": "slide"
    },
    "tags": []
   },
   "source": [
    "**Run threshold**: $\\hat f^*$\n",
    "\n",
    "If $\\hat f>\\hat f^*$ → **run equilibrium**."
   ]
  },
  {
   "cell_type": "markdown",
   "id": "75c51282-2c1c-4cb3-9c01-e883613e1f02",
   "metadata": {
    "editable": true,
    "slideshow": {
     "slide_type": ""
    },
    "tags": []
   },
   "source": [
    "1. Use the feasibility relation: $r_2(f)=\\frac{R\\,(1-r_1 f)}{1-f}$\n",
    "2. Set $r_2(\\hat f^*) = r_1$ and solve for $\\hat f^*$:\n",
    "\n",
    "$$r_1=\\frac{R(1-r_1 \\hat f^*)}{1-\\hat f^*}$$\n",
    "\n",
    "3. Multiply both sides by $1-\\hat f^*$:\n",
    "\n",
    "$$r_1(1-\\hat f^*)=R(1-r_1 \\hat f^*)$$\n",
    "\n",
    "4. Isolate $\\hat f^*$:\n",
    "\n",
    "$$\\boxed{\\;\\hat f^* \\;=\\; \\frac{R - r_1}{\\,r_1\\,(R-1)\\,}\\;}$$"
   ]
  },
  {
   "cell_type": "markdown",
   "id": "f1267ec7-5bd6-4da5-9449-ae4aafd35092",
   "metadata": {
    "editable": true,
    "slideshow": {
     "slide_type": ""
    },
    "tags": []
   },
   "source": [
    "**Interpretation** \n",
    "\n",
    "If depositors expect more than $\\hat f^*$ of investors to withdraw early, late types will prefer to withdraw too. This is an **expectations-driven fragility** threshold."
   ]
  },
  {
   "cell_type": "markdown",
   "id": "eecc63e2-639c-4e88-bf56-37c3e25aae24",
   "metadata": {
    "editable": true,
    "slideshow": {
     "slide_type": "slide"
    },
    "tags": []
   },
   "source": [
    "## From Runs to Default\n",
    "\n",
    "Bank fails at $T=1$ if cash demand exceeds what can be raised by early liquidation:\n",
    "\n",
    "$$\n",
    "r_1\\,f\\,N \\;>\\; N \\quad \\Longleftrightarrow \\quad f > \\frac{1}{r_1}.\n",
    "$$\n",
    "\n",
    "**Interpretation** \n",
    "\n",
    "If the actual fraction of withdrawals $f$ exceeds $1/r_1$, the bank literally runs out of cash (**defaults**). This is a **mechanical solvency threshold**."
   ]
  },
  {
   "cell_type": "markdown",
   "id": "071c29ed-bd8b-40d8-bb0f-0214ddae47db",
   "metadata": {
    "editable": true,
    "slideshow": {
     "slide_type": "slide"
    },
    "tags": []
   },
   "source": [
    "## Overview"
   ]
  },
  {
   "cell_type": "markdown",
   "id": "f1b19edd-1c5c-4ca2-902b-2b99848456db",
   "metadata": {
    "editable": true,
    "slideshow": {
     "slide_type": ""
    },
    "tags": []
   },
   "source": [
    "| Threshold Comparison | Condition | Outcome |\n",
    "|----------------------|-----------|---------|\n",
    "| **Run threshold** $\\hat f^*$ | $\\hat f \\leq \\hat f^*$ | Only true early types withdraw → **Good equilibrium** |\n",
    "| | $\\hat f > \\hat f^*$ | Late types also withdraw → **Bad equilibrium (run)** |\n",
    "| **Insolvency threshold** $1/r_1$ | $f \\leq 1/r_1$ | Bank can still meet obligations (but inefficient liquidation) |\n",
    "| | $f > 1/r_1$ | Bank becomes **insolvent and fails** |"
   ]
  },
  {
   "cell_type": "markdown",
   "id": "d44e758f-17a6-4c31-a19f-594bb9320df6",
   "metadata": {
    "editable": true,
    "slideshow": {
     "slide_type": ""
    },
    "tags": []
   },
   "source": [
    "**Cases**\n",
    "- If $f = t$: no problem, bank works as intended.\n",
    "- If $\\hat f^* < f < 1/r_1$: bank is still able to meet withdrawals, but value is destroyed by early liquidation → **inefficient run**.\n",
    "- If $f \\geq 1/r_1$: bank defaults because late types run, pushing withdrawals beyond what can be funded.\n"
   ]
  },
  {
   "cell_type": "markdown",
   "id": "1af9f45d-f634-40a1-ae79-77a02de5b5b5",
   "metadata": {
    "editable": true,
    "slideshow": {
     "slide_type": "slide"
    },
    "tags": []
   },
   "source": [
    "# 4. Policy Implications"
   ]
  },
  {
   "cell_type": "markdown",
   "id": "40c248fe-4712-4561-860d-7e0430b18593",
   "metadata": {
    "editable": true,
    "slideshow": {
     "slide_type": "slide"
    },
    "tags": []
   },
   "source": [
    "**“Feature, Not a Bug”**\n",
    "\n",
    "- **Value**: deposits **insure** private liquidity shocks and improve risk sharing.\n",
    "- **Cost**: admit a **bad equilibrium** (run) due to **information frictions** (private types) and **coordination**.\n",
    "\n",
    "<center>How to mitigate the cost while enabling the value proprosition?</center>"
   ]
  },
  {
   "cell_type": "markdown",
   "id": "cced575f-f5b2-4129-8c91-45119e090054",
   "metadata": {
    "editable": true,
    "slideshow": {
     "slide_type": "slide"
    },
    "tags": []
   },
   "source": [
    "## Instruments\n",
    "1. **Public Commitment/Disclosure**\n",
    "2. **Suspension of convertibility**\n",
    "3. **Lender of last resort (LOLR)**\n",
    "4. **Deposit insurance**"
   ]
  },
  {
   "cell_type": "markdown",
   "id": "08ecf5e8-ad37-48ea-b6bf-00901e6c8692",
   "metadata": {
    "editable": true,
    "slideshow": {
     "slide_type": "slide"
    },
    "tags": []
   },
   "source": [
    "### 1. Public Commitment / Disclosure\n",
    "- **Idea**: Use information policy to anchor beliefs $\\hat f$ on the good equilibrium.  \n",
    "- **Mechanism**: Transparent disclosure of solvency, liquidity, and guarantees.  \n",
    "- **Upside**: Low-cost if credible; can prevent panic without direct intervention.  \n",
    "- **Downside**: Credibility is fragile — if information is delayed, partial, or mistrusted, it may backfire.  \n",
    "- **Example**: Central bank announcements during 2008 and 2023 crises (e.g., Fed’s joint statement on SVB deposit guarantees).\n",
    "  "
   ]
  },
  {
   "cell_type": "markdown",
   "id": "c2c64086-b2e4-496e-9b1a-25cdc500ecc3",
   "metadata": {
    "editable": true,
    "slideshow": {
     "slide_type": "slide"
    },
    "tags": []
   },
   "source": [
    "### 2. Suspension of Convertibility\n",
    "- **Idea**: Temporarily freeze withdrawals, forcing all depositors to wait.  \n",
    "- **Mechanism**: Breaks the run dynamic since $f$ is fixed regardless of beliefs $\\hat f$.  \n",
    "- **Upside**: Stops panic instantly.  \n",
    "- **Downside**: Very costly → disrupts payments, destroys trust, can trigger broader panic.  \n",
    "- **Historical use**: 19th century U.S. banks and Argentina’s “corralito” in 2001."
   ]
  },
  {
   "cell_type": "markdown",
   "id": "e46b4fd3-a22d-45bc-87e4-6c0c46cffe6e",
   "metadata": {
    "editable": true,
    "slideshow": {
     "slide_type": "slide"
    },
    "tags": []
   },
   "source": [
    "### 3. Lender of Last Resort (LOLR)\n",
    "- **Idea**: Central bank provides emergency liquidity when banks face sudden outflows.  \n",
    "- **Mechanism**: By lending against **good collateral**, the central bank substitutes for deposits that run away.  \n",
    "- **Upside**: Stabilizes funding without guaranteeing all deposits.  \n",
    "- **Downside**: Risk of lending to insolvent banks (“bailouts”); stigma can deter use.  \n",
    "- **Example**: Bank of England in 19th century (“Bagehot’s rule” — lend freely, against good collateral, at a penalty rate)."
   ]
  },
  {
   "cell_type": "markdown",
   "id": "0c7e6dc8-4f75-41dd-9047-075c06711648",
   "metadata": {
    "editable": true,
    "slideshow": {
     "slide_type": "slide"
    },
    "tags": []
   },
   "source": [
    "### 4. Deposit Insurance\n",
    "- **Idea**: Government (or guarantee scheme) promises to repay depositors even if the bank fails.\n",
    "    - Eligibility for such insurance is the definition of banking \n",
    "- **Mechanism**: Eliminates the late-type incentive to withdraw early → removes the bad equilibrium.  \n",
    "- **Upside**: Restores depositor confidence; cornerstone of modern banking systems.  \n",
    "- **Downside**: Creates **moral hazard** — banks and depositors may take more risk knowing deposits are guaranteed.  \n",
    "- **Example**: FDIC created in the U.S. in 1933 after widespread bank runs."
   ]
  },
  {
   "cell_type": "markdown",
   "id": "920e8cdd-cb94-4c49-8e6c-66ba217a65b7",
   "metadata": {
    "editable": true,
    "slideshow": {
     "slide_type": "slide"
    },
    "tags": []
   },
   "source": [
    "# 5. Beyond Banks: Shadow Banking and Runs"
   ]
  },
  {
   "cell_type": "markdown",
   "id": "77627089-9604-49ef-b7df-47a3d711f58b",
   "metadata": {
    "editable": true,
    "slideshow": {
     "slide_type": "slide"
    },
    "tags": []
   },
   "source": [
    "## Why Bank Regulation Exists\n",
    "- Classic banks issue **demand deposits**: short-term, liquid, withdrawable at par.  \n",
    "- Because these liabilities are **runnable**, regulation is needed:  \n",
    "  - **Deposit insurance**  \n",
    "  - **Prudential oversight**  \n",
    "  - **Central bank support (LOLR)**  "
   ]
  },
  {
   "cell_type": "markdown",
   "id": "7885c161-7af2-4841-b4df-1fe04742ef99",
   "metadata": {
    "editable": true,
    "slideshow": {
     "slide_type": "slide"
    },
    "tags": []
   },
   "source": [
    "## Shadow Banks\n",
    "- Financial institutions outside traditional banking system.  \n",
    "- Examples: money market funds, structured investment vehicles (SIVs), repo dealers, stablecoin issuers.  \n",
    "- Issue **short-term liabilities** (shares, repo contracts, tokens) that function like deposits:  \n",
    "  - **Redeemable on demand**  \n",
    "  - Promise a stable value  \n",
    "  - Backed by longer-term or opaque assets  "
   ]
  },
  {
   "cell_type": "markdown",
   "id": "2a5d008a-ec6e-421b-b6ec-cfe2dd5a4761",
   "metadata": {
    "editable": true,
    "slideshow": {
     "slide_type": "slide"
    },
    "tags": []
   },
   "source": [
    "## Vulnerability\n",
    "- Same liquidity mismatch: short-term liabilities vs long-term assets.  \n",
    "- **Runnable** just like deposits.  \n",
    "- **Key difference**: no **deposit insurance** or direct central bank guarantee.  \n",
    "- Policy gap: when runs occur, systemic risk can spread through the financial system."
   ]
  },
  {
   "cell_type": "markdown",
   "id": "accde9e1-15a0-457c-a966-f0c7fb9be282",
   "metadata": {
    "editable": true,
    "slideshow": {
     "slide_type": "slide"
    },
    "tags": []
   },
   "source": [
    "## Systemic Risk Link\n",
    "- Shadow banks are often **interconnected with regulated banks**:  \n",
    "  - Banks fund them (e.g., repo, credit lines).  \n",
    "  - Banks hold their liabilities (e.g., money market fund shares).  \n",
    "- Runs in shadow banking can therefore destabilize banks.  \n",
    "- **2008 evidence**:  \n",
    "  - Run on money market funds (Reserve Primary Fund “broke the buck”).  \n",
    "  - Repo market freeze amplified bank funding crisis.  "
   ]
  },
  {
   "cell_type": "markdown",
   "id": "7632c43f-437d-453f-a349-b319e4545b3b",
   "metadata": {
    "editable": true,
    "slideshow": {
     "slide_type": ""
    },
    "tags": []
   },
   "source": [
    "> **Insight:** Deposit services are the reason banks are regulated.  \n",
    "> Shadow banks perform *bank-like functions* without protections → systemic vulnerability."
   ]
  },
  {
   "cell_type": "markdown",
   "id": "ca6b30f2-a833-4402-a3f3-bebacb5f9394",
   "metadata": {
    "editable": true,
    "slideshow": {
     "slide_type": "slide"
    },
    "tags": []
   },
   "source": [
    "# 6. Information & Runs"
   ]
  },
  {
   "cell_type": "markdown",
   "id": "825504fb-ce71-42f1-80ba-6cc4a562de83",
   "metadata": {
    "editable": true,
    "slideshow": {
     "slide_type": "slide"
    },
    "tags": []
   },
   "source": [
    "**Silent Runs**\n",
    "\n",
    "- **Idea**: large outflows without visible queues (institutional/wholesale/online).\n",
    "- **Implication**: absence of lines ≠ stability; need **real-time flow** monitoring."
   ]
  },
  {
   "cell_type": "markdown",
   "id": "0987c78a-a275-4842-891d-d02f59f1fa56",
   "metadata": {
    "editable": true,
    "slideshow": {
     "slide_type": ""
    },
    "tags": []
   },
   "source": [
    "**Social-Media Amplification**\n",
    "\n",
    "- Expectations $\\hat f$ form **faster**; common knowledge spreads **virally**.\n",
    "- **Result**: intervention window collapses; communications policy is pivotal."
   ]
  },
  {
   "cell_type": "markdown",
   "id": "309ef9cd-8729-49b8-918f-dc9cc170c9e1",
   "metadata": {
    "editable": true,
    "slideshow": {
     "slide_type": "slide"
    },
    "tags": []
   },
   "source": [
    "**Digital Assets & Stablecoins**\n",
    "\n",
    "- Stablecoins mimic deposit contracts: **liquid redemption** vs **opaque/illiquid reserves**.\n",
    "- Same logic: liquidity mismatch + unverifiable backing → **redemption runs**."
   ]
  },
  {
   "cell_type": "markdown",
   "id": "2ed0c719-35a4-4e9d-a788-03487a73ede4",
   "metadata": {
    "editable": true,
    "slideshow": {
     "slide_type": ""
    },
    "tags": []
   },
   "source": [
    "**Currency & Cross-Border Deposits**\n",
    "\n",
    "- FX expectations interact with run risk (e.g., fear of devaluation).\n",
    "- Policy levers include convertibility limits and capital controls (costly)."
   ]
  },
  {
   "cell_type": "markdown",
   "id": "c95809d5-8b8b-4aa4-8250-044ffc9b20b1",
   "metadata": {
    "editable": true,
    "slideshow": {
     "slide_type": ""
    },
    "tags": []
   },
   "source": [
    "**Regulators vs Depositors: Info Gaps**\n",
    "\n",
    "- **Depositors** act on noisy/partial info; **regulators** have better data but communicate with **lags**.\n",
    "- Credible, timely disclosure can anchor $\\hat f$ to $t$."
   ]
  }
 ],
 "metadata": {
  "kernelspec": {
   "display_name": "Python 3 (ipykernel)",
   "language": "python",
   "name": "python3"
  },
  "language_info": {
   "codemirror_mode": {
    "name": "ipython",
    "version": 3
   },
   "file_extension": ".py",
   "mimetype": "text/x-python",
   "name": "python",
   "nbconvert_exporter": "python",
   "pygments_lexer": "ipython3",
   "version": "3.12.7"
  }
 },
 "nbformat": 4,
 "nbformat_minor": 5
}
