{
 "cells": [
  {
   "cell_type": "markdown",
   "id": "90c24e14-6ee9-4ad5-8846-8052db2cbedc",
   "metadata": {
    "jp-MarkdownHeadingCollapsed": true,
    "slideshow": {
     "slide_type": "slide"
    },
    "tags": []
   },
   "source": [
    "# Credit\n",
    "## 4 Key Questions"
   ]
  },
  {
   "cell_type": "markdown",
   "id": "b110e3b9-42f8-4c2f-8229-05a883e1a282",
   "metadata": {
    "slideshow": {
     "slide_type": "slide"
    },
    "tags": []
   },
   "source": [
    "## What is a debt contract?"
   ]
  },
  {
   "cell_type": "code",
   "execution_count": null,
   "id": "c16a76f6-d207-477b-83c8-66fe4eb49b20",
   "metadata": {},
   "outputs": [],
   "source": []
  },
  {
   "cell_type": "markdown",
   "id": "b33dc261-b9a0-459e-bd6c-3ca39edffe54",
   "metadata": {
    "slideshow": {
     "slide_type": "slide"
    },
    "tags": []
   },
   "source": [
    "## Why are debt contracts so prevalent?"
   ]
  },
  {
   "cell_type": "code",
   "execution_count": null,
   "id": "e7e6862a-5741-4c08-94df-ee4a12afad59",
   "metadata": {
    "slideshow": {
     "slide_type": ""
    },
    "tags": []
   },
   "outputs": [],
   "source": []
  },
  {
   "cell_type": "markdown",
   "id": "fea1597b-7e79-479e-a065-a056aa43d174",
   "metadata": {
    "slideshow": {
     "slide_type": "slide"
    },
    "tags": []
   },
   "source": [
    "## When do debt markets fail?"
   ]
  },
  {
   "cell_type": "code",
   "execution_count": null,
   "id": "4e195ea2-f7a8-4c63-b400-03d9230f79ad",
   "metadata": {
    "slideshow": {
     "slide_type": ""
    },
    "tags": []
   },
   "outputs": [],
   "source": []
  },
  {
   "cell_type": "markdown",
   "id": "d09ebf89-ad63-48ba-8a23-81bf4b156aa4",
   "metadata": {
    "slideshow": {
     "slide_type": "slide"
    },
    "tags": []
   },
   "source": [
    "## Why do we need banks for credit?"
   ]
  },
  {
   "cell_type": "code",
   "execution_count": null,
   "id": "fe840ee0-7fdc-4b05-82c6-7ee1907c5d7d",
   "metadata": {
    "slideshow": {
     "slide_type": ""
    },
    "tags": []
   },
   "outputs": [],
   "source": []
  },
  {
   "cell_type": "markdown",
   "id": "dca33079-94bb-406d-beda-626e3c2e8d44",
   "metadata": {
    "slideshow": {
     "slide_type": "slide"
    },
    "tags": []
   },
   "source": [
    "# Map"
   ]
  },
  {
   "cell_type": "markdown",
   "id": "5a2eb888-f797-4e03-aaf9-5e31cb69c100",
   "metadata": {
    "slideshow": {
     "slide_type": ""
    },
    "tags": []
   },
   "source": [
    "1. Financial contracts\n",
    "2. The cheapness of debt\n",
    "3. The failure of credit markets\n",
    "4. The structure of credit markets"
   ]
  },
  {
   "cell_type": "markdown",
   "id": "b494f37e-550d-4b98-8b68-ecbe2b1e840e",
   "metadata": {
    "jp-MarkdownHeadingCollapsed": true,
    "slideshow": {
     "slide_type": "slide"
    },
    "tags": []
   },
   "source": [
    "# 1. Financial Contracts"
   ]
  },
  {
   "cell_type": "markdown",
   "id": "0ba01f45-f632-43e7-beef-d8dd4cccac78",
   "metadata": {
    "slideshow": {
     "slide_type": "slide"
    },
    "tags": []
   },
   "source": [
    "When an investor or a bank lends to an entrepreneur or a corporation, the agreement takes the form of a **financial contract**. \n",
    "\n",
    "Designing such contracts requires balancing the borrower’s **incentives to repay**, the lender’s **willingness to finance**, and the **efficient use of resources**."
   ]
  },
  {
   "cell_type": "markdown",
   "id": "95ea3748-c2f7-48c8-9314-0433574eb8a0",
   "metadata": {
    "slideshow": {
     "slide_type": "slide"
    },
    "tags": []
   },
   "source": [
    "**Ideal World**\n",
    "\n",
    "In a world of **complete information**, the two parties could write a **complete contingent contract** — specifying obligations and repayments for every possible future state of the world.\n",
    "\n",
    "- Repayments could be perfectly linked to realized earnings.  \n",
    "\n",
    "> Example: *lender receives a fixed fraction of profit → **equity-style contract**.*  \n",
    "\n",
    "- **No default** would occur, since payments automatically adjust to outcomes."
   ]
  },
  {
   "cell_type": "markdown",
   "id": "3eb74c38-b942-4d86-ad7f-f752960c544b",
   "metadata": {
    "slideshow": {
     "slide_type": "slide"
    },
    "tags": []
   },
   "source": [
    "**Real-World**\n",
    "\n",
    "However, real-world financial contracts differ markedly:\n",
    "\n",
    "- (Most) Investments are made through **intermediaries**\n",
    "- Some profitable investments **do not get funded**\n",
    "- Repayments are typically **fixed**, not contingent on earnings.  \n",
    "- If earnings are insufficient → **default occurs**.  \n",
    "- Default triggers **costly procedures**: bankruptcy, foreclosure, asset seizure."
   ]
  },
  {
   "cell_type": "markdown",
   "id": "b2028e24-9691-4282-938f-d30d1b0faa24",
   "metadata": {
    "slideshow": {
     "slide_type": "slide"
    },
    "tags": []
   },
   "source": [
    "### Stylized equity-style contract"
   ]
  },
  {
   "cell_type": "markdown",
   "id": "bf01ac04-4180-4ad5-9fad-eeff2c42b96b",
   "metadata": {
    "slideshow": {
     "slide_type": ""
    },
    "tags": []
   },
   "source": [
    "Where $R$ is the return from the financed project and $R_E$ the return to the investor"
   ]
  },
  {
   "cell_type": "markdown",
   "id": "61b1a8ec-d994-4e26-823d-032fdaef7129",
   "metadata": {
    "slideshow": {
     "slide_type": ""
    },
    "tags": []
   },
   "source": [
    "<center><img src=\"figures/equity.png\" width=\"600\"></center>"
   ]
  },
  {
   "cell_type": "markdown",
   "id": "063c4b57-ac7c-4bd4-9ef5-a5ddc4c584fc",
   "metadata": {
    "slideshow": {
     "slide_type": "slide"
    },
    "tags": []
   },
   "source": [
    "### Stylized debt contract"
   ]
  },
  {
   "cell_type": "markdown",
   "id": "f85d21d5-dd7a-4294-b9cd-d10780bf34d7",
   "metadata": {
    "slideshow": {
     "slide_type": ""
    },
    "tags": []
   },
   "source": [
    "Where $R$ is the return from the financed project and $R_D$ the return to the investor"
   ]
  },
  {
   "cell_type": "markdown",
   "id": "584c0132-afb9-4015-a793-117cd5c9244f",
   "metadata": {
    "slideshow": {
     "slide_type": ""
    },
    "tags": []
   },
   "source": [
    "<center><img src=\"figures/debt.png\" width=\"600\"></center>"
   ]
  },
  {
   "cell_type": "markdown",
   "id": "1c29f876-0014-4252-a42c-7470f489ee26",
   "metadata": {
    "slideshow": {
     "slide_type": "slide"
    },
    "tags": []
   },
   "source": [
    "## Overview of the Lecture\n",
    "\n",
    "1. **Why** the standard debt contract dominates other financial contracts in credit?\n",
    "2. **Which** market failures arise from credit contracts?\n",
    "3. **Why** financial intermediation co-exists with direct market lending?\n",
    "\n",
    "<u>**Approach**</u>: Study how different **information frictions**  — costly verification, adverse selection, moral hazard —  shape the **design of credit contracts** and the **role of intermediaries**."
   ]
  },
  {
   "cell_type": "markdown",
   "id": "c3f2f308-f6e8-498b-a407-583beecda644",
   "metadata": {
    "slideshow": {
     "slide_type": "slide"
    },
    "tags": []
   },
   "source": [
    "**Three guiding models**\n",
    "\n",
    "1. Why are **debt contracts** so prevalent?  \n",
    "   → *Townsend (1979): Costly state verification*  \n",
    "2. What is wrong with debt contracts?  \n",
    "   → *Stiglitz & Weiss (1981): Credit rationing*  \n",
    "3. Why do we need **banks** for credit?  \n",
    "   → *Holmström & Tirole (1997): Monitoring and intermediation*\n",
    "\n",
    "**One common framework**: <u>**Information frictions**</u>"
   ]
  },
  {
   "cell_type": "markdown",
   "id": "ded683b0-b655-40bb-833c-3dceda1c569b",
   "metadata": {
    "slideshow": {
     "slide_type": "slide"
    },
    "tags": []
   },
   "source": [
    "### Information Frictions and Credit\n",
    "\n",
    "| Type of Friction        | Model        | Main Problem                     | Technological Fix | Implication for Credit |\n",
    "|--------------------------|---------------------------|----------------------------------|-------------------|------------------------|\n",
    "| **Costly state verification** | Townsend (1979)       | Lender cannot freely observe project outcomes | **Auditing**       | Debt contract minimizes verification cost |\n",
    "| **Adverse selection**         | Stiglitz & Weiss (1981) | Lender cannot observe borrower type | **Screening**      | Credit rationing emerges |\n",
    "| **Moral hazard**              | Holmström & Tirole (1997) | Borrower actions unobservable     | **Monitoring**     | Banks add value through monitoring |"
   ]
  },
  {
   "cell_type": "markdown",
   "id": "c572bedb-a91b-4178-997e-87b9ed9d8482",
   "metadata": {
    "slideshow": {
     "slide_type": "slide"
    },
    "tags": []
   },
   "source": [
    "# 2. The Cheapness of Debt"
   ]
  },
  {
   "cell_type": "markdown",
   "id": "31007366-eb1e-4ac4-a8fb-f1ccbf6f480d",
   "metadata": {
    "slideshow": {
     "slide_type": "slide"
    },
    "tags": []
   },
   "source": [
    "**The Puzzle**\n",
    "\n",
    "> Why do credit markets rely so heavily on **debt contracts**  \n",
    "> — a structure that often leads to costly defaults —  \n",
    "> instead of contingent, equity-like contracts that could avoid them?"
   ]
  },
  {
   "cell_type": "markdown",
   "id": "af0dc0d1-1341-4a7e-804b-a8a7e80ba77e",
   "metadata": {
    "slideshow": {
     "slide_type": "slide"
    },
    "tags": []
   },
   "source": [
    "**The Answer: Information Frictions**\n",
    "\n",
    "- Borrower actions and project outcomes are **not perfectly observable**.  \n",
    "- Information may be **private** or **non-verifiable**.  \n",
    "- Complete contingent contracts are therefore **infeasible**.  \n",
    "- Standard debt contracts emerge as a **constrained-efficient solution**  \n",
    "  once **asymmetric information** and **incentive constraints** are considered."
   ]
  },
  {
   "cell_type": "markdown",
   "id": "d17a1590-f53c-40d5-8e61-339e2673e22b",
   "metadata": {
    "jp-MarkdownHeadingCollapsed": true,
    "slideshow": {
     "slide_type": "slide"
    },
    "tags": []
   },
   "source": [
    "## Costly-State Verification"
   ]
  },
  {
   "cell_type": "markdown",
   "id": "3007f2c5-82f8-409a-ad24-242f77213594",
   "metadata": {
    "slideshow": {
     "slide_type": "slide"
    },
    "tags": []
   },
   "source": [
    "The work of Townsend (1979) and Gale & Hellwig (1985) launched the **modern theory of financial contracting**.\n",
    "\n",
    "It explains **why debt exists** — as the optimal response to **information frictions** and **costly verification** — and how incentives, participation, and efficiency jointly determine contract structure."
   ]
  },
  {
   "cell_type": "markdown",
   "id": "706b915d-3a40-488d-ae1e-4f9a98eb1f71",
   "metadata": {
    "slideshow": {
     "slide_type": "slide"
    },
    "tags": []
   },
   "source": [
    "**Setting**\n",
    "\n",
    "- Entrepreneur and investor write a contract where the investor provides financing for a project.  \n",
    "- The entrepreneur pays back an amount that depends on the **state of the world** (e.g. success / failure).  \n",
    "- The state of the world is **observed only by the entrepreneur**.  \n",
    "- The investor can observe it **only by incurring a monitoring cost**\n",
    "\n",
    "<center>&darr;<br><u><b>costly state verification</b></u></center>\n",
    "\n",
    "**Goal**\n",
    "\n",
    "Show that a **standard debt contract** is optimal:  \n",
    "\n",
    "<center><b> Maximization of the entrepreneur’s wealth subject to the participation of the investor.</b></center>"
   ]
  },
  {
   "cell_type": "markdown",
   "id": "70f12c1d-4a28-4035-beff-bba363fd9ac5",
   "metadata": {
    "slideshow": {
     "slide_type": "slide"
    },
    "tags": []
   },
   "source": [
    "## Framework  \n",
    "*Adapted from Tirole (2006), Chap. 3–7*"
   ]
  },
  {
   "cell_type": "markdown",
   "id": "0857bac2-916e-457d-85c1-326839eaffbc",
   "metadata": {
    "slideshow": {
     "slide_type": "slide"
    },
    "tags": []
   },
   "source": [
    "### Environment\n",
    "\n",
    "**Project**\n",
    "\n",
    "- Investment $I$\n",
    "- Returns $R$: random variable with density $p(R)$ on $[0, +\\infty)$\n",
    "\n",
    "**Entrepreneur**\n",
    "\n",
    "- Own wealth $A$ \n",
    "- Needs to raise $I - A$ from investor\n",
    "\n",
    "**Investors**\n",
    "\n",
    "- Funds > $I$ \n",
    "- **Audit technology**: reveal $R$ at cost $K$"
   ]
  },
  {
   "cell_type": "markdown",
   "id": "2a459ad6-49ad-4c5d-ad40-a2a1b9e326b2",
   "metadata": {
    "slideshow": {
     "slide_type": "slide"
    },
    "tags": []
   },
   "source": [
    "### Financial Contract\n",
    "\n",
    "Specifies:\n",
    "\n",
    "- The entrepreneur engages in project yielding return $R$ and **reports $\\hat{R}$**\n",
    "- The investor provides $(I - A)$  \n",
    "- Investor audits the reported return $\\hat{R}$ with probability $y(\\hat{R})$\n",
    "\n",
    "**Entrepreneur payoff**\n",
    "$$w = y(\\hat{R})w_0(\\hat{R},R) + (1-y(\\hat{R}))w_1(\\hat{R},R)$$\n",
    "\n",
    "**Investor payoff**\n",
    "$$R_i = R - w(\\hat{R},R) - y(\\hat{R}) K$$\n",
    " "
   ]
  },
  {
   "cell_type": "markdown",
   "id": "aa31b2f7-0d9b-439a-95e5-6b3d4968105f",
   "metadata": {
    "slideshow": {
     "slide_type": "slide"
    },
    "tags": []
   },
   "source": [
    "**Timeline**\n",
    "\n",
    "1. Loan agreement\n",
    "2. Investment is sunk\n",
    "3. Income $R$ is realized according to $p(R)$  \n",
    "4. Entrepreneur reports $\\hat{R}$\n",
    "5. Audit decision by investor  \n",
    "6. Repayment $R_i$ to investor"
   ]
  },
  {
   "cell_type": "markdown",
   "id": "661058b9-ac78-4a3d-a34c-0a23deff1ac2",
   "metadata": {
    "slideshow": {
     "slide_type": "slide"
    },
    "tags": []
   },
   "source": [
    "## Optimal Contract"
   ]
  },
  {
   "cell_type": "markdown",
   "id": "12b94228-7b1d-46b1-91af-e9c3f5f8601e",
   "metadata": {
    "slideshow": {
     "slide_type": "slide"
    },
    "tags": []
   },
   "source": [
    "The optimal contract maximizes the **entrepreneur’s expected income** \n",
    "$$\n",
    "\\max_{y(\\cdot), R_i(\\cdot)} \\; \\mathbb{E}[w(\\hat{R}, R)]\n",
    "$$\n",
    "\n",
    "<u>**Constraints**</u>\n",
    "\n",
    "- **[IC]** Entrepreneur’s incentive compatibility (truthful reporting)\n",
    "\n",
    "$$\n",
    "w(R, R) = \\max_{\\hat{R}} \\left\\{ y(\\hat{R})\\,w_{0}(\\hat{R},R) + \\left(1 - y(\\hat{R})\\right)\\,w_{1}(\\hat{R},R) \\right\\}\n",
    "$$\n",
    "    \n",
    "<center>&rarr; Reporting the true return ($R = \\hat{R}$) maximizes $w$</center>\n",
    "\n",
    "- **[IR]** Investor’s individual rationality (participation)\n",
    "\n",
    "$$\n",
    "\\mathbb{E} \\left[ R - w(R) - y(R) K \\right]  \\ge I - A\n",
    "$$\n",
    "\n",
    "<center>&rarr; Investor at least breaks even<br>If perfect competition: zero profit</center> "
   ]
  },
  {
   "cell_type": "markdown",
   "id": "db778bd0-8862-467f-a774-346be95331ab",
   "metadata": {
    "slideshow": {
     "slide_type": "slide"
    },
    "tags": []
   },
   "source": [
    "### Standard Debt Contract\n",
    "\n",
    "- $D =$ debt payment  \n",
    "- $y(\\hat{R}) = 0$ if $\\hat{R} \\ge D$  `no audit`\n",
    "- $y(\\hat{R}) = 1$ if $\\hat{R} < D$  `audit`\n",
    "\n",
    "**Entrepreneur’s payoff**\n",
    "$$w = \\max(R - D, 0)$$  \n",
    "\n",
    "**Investor’s payoff**\n",
    "$$R_i = \\min(R, D)$$  "
   ]
  },
  {
   "cell_type": "markdown",
   "id": "defe1233-0dfd-4b44-8b2a-7fb84bd64d3f",
   "metadata": {
    "slideshow": {
     "slide_type": "fragment"
    },
    "tags": []
   },
   "source": [
    "**Assuming** $y(\\hat{R})$ is **binary** for all $\\hat{R}$ \n",
    "\n",
    "<center>&darr; <br> <b>This debt contract is optimal</b></center>\n"
   ]
  },
  {
   "cell_type": "markdown",
   "id": "2b21d300-3a02-4eba-a986-5209a8c69c38",
   "metadata": {
    "slideshow": {
     "slide_type": "slide"
    },
    "tags": []
   },
   "source": [
    "### Proof"
   ]
  },
  {
   "cell_type": "markdown",
   "id": "5d962335-3d93-4382-8057-937f7878fbbc",
   "metadata": {
    "slideshow": {
     "slide_type": "slide"
    },
    "tags": []
   },
   "source": [
    "#### Step 1: Minimizing audit costs"
   ]
  },
  {
   "cell_type": "markdown",
   "id": "afb37f38-331f-49d0-b770-929766293f78",
   "metadata": {
    "slideshow": {
     "slide_type": ""
    },
    "tags": []
   },
   "source": [
    "As investors' break even (perfect competition), the **[IR]** constraint can be re-written:\n",
    "\n",
    "$$\n",
    "\\mathbb{E} \\left[ R - w(R) - \\left( 1 - y(R) \\right) K \\right] = I - A,\n",
    "$$\n",
    "\n",
    "- Isolate $w(R)$ inside the expectation.\n",
    "\n",
    "$$\n",
    "\\begin{align}\n",
    "\\mathbb{E}[w(R)] &= \\mathbb{E}\\big[ R - (1 - y(R))K \\big] - (I - A)\\\\\n",
    "&= \\mathbb{E}[R] - K\\mathbb{E}[1-y(R)] - (I-A)\n",
    "\\end{align}\n",
    "$$\n",
    "\n",
    "\n",
    "- Constants: $\\mathbb{E}[R]$, $(I-A)$ and $K>0$\n",
    "\n",
    "Therefore,\n",
    "$$\n",
    "\\max \\ \\mathbb{E}[w(R)]\n",
    "\\quad\\Longleftrightarrow\\quad\n",
    "\\min \\ \\mathbb{E}[1-y(R)].\n",
    "$$\n",
    "\n",
    "<center>&darr;<br><b><u>Goal:</u> Minimize audit zone</b></center>"
   ]
  },
  {
   "cell_type": "markdown",
   "id": "1ed663dc-35e4-4f23-91a7-609615c6be83",
   "metadata": {
    "slideshow": {
     "slide_type": "slide"
    },
    "tags": []
   },
   "source": [
    "#### Step 2: Regions of Returns\n",
    "\n",
    "Define the following regions:\n",
    "\n",
    "- $\\mathcal{R}_0$ = `no-audit` zone  \n",
    "- $\\mathcal{R}_1$ = `audit` zone  \n",
    "\n",
    "such that:\n",
    "\n",
    "$$\n",
    "\\mathcal{R}_0 \\cap \\mathcal{R}_1 = \\emptyset, \\qquad \n",
    "\\mathcal{R}_0 \\cup \\mathcal{R}_1 = [0, \\infty)\n",
    "$$"
   ]
  },
  {
   "cell_type": "markdown",
   "id": "d1624502-931e-4cea-8c11-2b0eddda0d29",
   "metadata": {
    "slideshow": {
     "slide_type": "slide"
    },
    "tags": []
   },
   "source": [
    "#### Step 3: Audit cost\n",
    "Any [IC]-satisfying contract must have a **cutoff region** where the borrower repays a **fixed** amount whenever no audit occurs.\n",
    "\n",
    "Why?\n",
    "\n",
    "1. **Flat Payments in No-Audit States**\n",
    "    - If repayments varied with $R$ in no-audit states, borrower would underreport.  \n",
    "    - Thus, all no-audit states must involve the **same repayment $F$**.\n",
    "\n",
    "2. **Cutoff Audit Rule**\n",
    "    - Since borrower’s incentive is always to under-report, audits should target **low reports**.  \n",
    "    - Efficient rule: audit only when reported under a **threshold $F$**.\n",
    "\n",
    "<center> &darr;</center>\n",
    "\n",
    "$$R - w(R) = F \\quad \\text{when} \\quad R \\in \\mathcal{R}_0$$"
   ]
  },
  {
   "cell_type": "markdown",
   "id": "59939ea0-ed6e-42ea-b541-c04035111f3c",
   "metadata": {
    "slideshow": {
     "slide_type": "slide"
    },
    "tags": []
   },
   "source": [
    "**Debt contract**:\n",
    "\n",
    "$$\\boxed{R_i = R - w(R) = D \\quad \\text{when} \\quad R \\in \\mathcal{R}^{*}_0}$$\n",
    "\n",
    "$$\\boxed{\\mathcal{R}_0^{*} = [D,\\infty) ~~~ \\& ~~~ \\mathcal{R}_1^{*} = [0,D[}$$\n",
    "\n",
    "\n",
    "$\\mathcal{R}_0^{*}$ is the largest possible no-audit region consistent with incentive compatibility. \n",
    "\n",
    "Any other contract that satisfies **[IC]** and **[IR]** must audit at least as often:\n",
    "$\\mathcal{R}_0 \\subseteq \\mathcal{R}_0^{*}.$\n",
    "\n",
    "<u>Hence the **expected audit cost is (weakly) lower** than any other contract.</u>"
   ]
  },
  {
   "cell_type": "markdown",
   "id": "846a41d6-1e99-4dd5-92dd-397d9d800f18",
   "metadata": {
    "slideshow": {
     "slide_type": "slide"
    },
    "tags": []
   },
   "source": [
    "#### Step 4: Investor payoff \n",
    "\n",
    "**Debt contract payoff**: $(\\mathcal{R}^*_0,\\mathcal{R}^*_1)$ \n",
    "$$\\boxed{R_i =\n",
    "\\begin{cases}\n",
    "R - w(R) = D, & \\text{if } R \\in \\mathcal{R}^{*}_0, \\\\[6pt]\n",
    "R - K, & \\text{if } R \\in \\mathcal{R}^{*}_1.\n",
    "\\end{cases}}$$\n",
    "\n",
    "Assume any other **arbitrary contract**: $(\\mathcal{R}_0,\\mathcal{R}_1)$\n",
    "\n",
    "\n",
    "- For $R \\in \\mathcal{R}_1 \\cap \\mathcal{R}_0^{*}$\n",
    "    - Arbitrary contract `audit` | Debt contract `no audit`\n",
    "    - But the repayment under no-audit is constant at D &rarr; Same repayment but arbitrary contract pays audit cost\n",
    "  \n",
    "- For $R \\in \\mathcal{R}_1 \\cap \\mathcal{R}_1^{*}$\n",
    "    - Arbitrary contract `audit` | Debt contract `audit` &rarr; Same return\n",
    "\n",
    "The debt contract, when auditing, extracts the maximum enforceable amount $R-K$ (the project’s realized return minus audit cost). \n",
    "\n",
    "No alternative contract can give the investor more.\n",
    "\n",
    "<u>Hence, the **investor’s expected payoff is weakly higher** under the debt contract.</u>"
   ]
  },
  {
   "cell_type": "markdown",
   "id": "b5104675-55d8-4cf2-b667-afd6d728ddd6",
   "metadata": {
    "slideshow": {
     "slide_type": "slide"
    },
    "tags": []
   },
   "source": [
    "#### Step 5: Entrepreneur payoff \n",
    "\n",
    "Given competitive investors, the [IR] constraint binds: $\\mathbb{E}[R_i] = I - A.$\n",
    "\n",
    "If the investor gets the same expected payoff but with lower audit cost, the entrepreneur receives the higher expected income.\n",
    "\n",
    "<u> Debt → fewer audits → smaller total verification cost → <b>larger borrower surplus</b></u>"
   ]
  },
  {
   "cell_type": "markdown",
   "id": "b9a5698d-4902-4afd-af0a-7303b5ec3793",
   "metadata": {
    "slideshow": {
     "slide_type": "slide"
    },
    "tags": []
   },
   "source": [
    "## Discussion"
   ]
  },
  {
   "cell_type": "markdown",
   "id": "7f32c9f2-36c8-4058-8c74-ab1143036c77",
   "metadata": {
    "slideshow": {
     "slide_type": "slide"
    },
    "tags": []
   },
   "source": [
    "### Intuition Recap\n",
    "In presence of **costly state verification**:\n",
    "\n",
    "- **Debt contracts** emerge naturally as the **cheapest funding contract**:\n",
    "  - Flat payments in good states (no audit).  \n",
    "  - Audits only in bad states (defaults).  \n",
    "- **Default is not a system failure** — it is part of the optimal contract when verification is costly."
   ]
  },
  {
   "cell_type": "markdown",
   "id": "07adc806-c535-4c25-b17a-dbefc1e765c0",
   "metadata": {
    "slideshow": {
     "slide_type": "slide"
    },
    "tags": []
   },
   "source": [
    "### Why Alternatives Fail\n",
    "\n",
    "| Alternative | Why It Fails |\n",
    "|--------------|--------------|\n",
    "| **Equity-like contract** <br>(repayment depends on profits) | Requires verifying $R$ in every state → too costly |\n",
    "| **Variable repayment in no-audit states** | Breaks incentive compatibility (borrower lies) |\n",
    "| **Random audits** | Wasteful, not targeted at incentive problem |\n",
    "\n",
    "<center>&darr;<br><b>Debt minimizes verification costs while preserving incentives.</b></center>"
   ]
  },
  {
   "cell_type": "markdown",
   "id": "d8b7f859-743c-403f-87da-e034501b0084",
   "metadata": {
    "slideshow": {
     "slide_type": "slide"
    },
    "tags": []
   },
   "source": [
    "### Policy and Market Implications\n",
    "\n",
    "- **Efficient bankruptcy systems** → reduce verification costs.  \n",
    "- **Collateral registries & credit bureaus** → improve verification and enforcement.  \n",
    "- **Auditing and accounting standards** → lower information asymmetry.  \n",
    "- **Development finance:** where verification/enforcement is costly, credit markets remain underdeveloped."
   ]
  },
  {
   "cell_type": "markdown",
   "id": "879321b7-bcfd-4f7b-b913-50d798c23b47",
   "metadata": {
    "slideshow": {
     "slide_type": "slide"
    },
    "tags": []
   },
   "source": [
    "### Technological Fix: Reducing Verification Costs\n",
    "\n",
    "Technologies that make **performance observable in real time** (data-sharing, digital payments, IoT, blockchain) push markets **closer to the optimal design** by:\n",
    "\n",
    "- Reducing audit frequency or cost.  \n",
    "- Allowing more state-contingent (equity-like) payoffs.  \n",
    "- Expanding access to credit."
   ]
  },
  {
   "cell_type": "markdown",
   "id": "7d254a6c-79ec-4b26-8415-cd0a2e8a05f5",
   "metadata": {
    "slideshow": {
     "slide_type": "slide"
    },
    "tags": []
   },
   "source": [
    "**Applications**\n",
    "\n",
    "| Setting | Mechanism | Effect |\n",
    "|----------|------------|--------|\n",
    "| **Fintech lenders** (e.g., Shopify Capital, Stripe) | Real-time revenue data | Lower verification cost → more flexible contracts |\n",
    "| **Smart contracts / Blockchain** | Automated on-chain verification | Replaces manual auditing |\n",
    "| **DeFi lending** | No verification possible | Requires **over-collateralization** |"
   ]
  },
  {
   "cell_type": "markdown",
   "id": "e02a8f59-e86b-406b-8f42-7aea8c287699",
   "metadata": {
    "slideshow": {
     "slide_type": "slide"
    },
    "tags": []
   },
   "source": [
    "# 3. The Failure of Credit Markets"
   ]
  },
  {
   "cell_type": "markdown",
   "id": "469d141c-af42-4b74-b8d1-5084188322db",
   "metadata": {
    "slideshow": {
     "slide_type": "slide"
    },
    "tags": []
   },
   "source": [
    "## Credit Markets ≠ Standard Markets\n",
    "\n",
    "In most markets, **prices clear**  \n",
    "\n",
    "<center>Supply and Demand: Excess demand → price rises → market equilibrates</center>\n",
    "\n",
    "In **credit markets**, however, **raising the interest rate** changes **who borrows**, not only **how much**. \n",
    "\n",
    "<center>The price (interest rate) itself affects the <b>risk composition</b> of borrowers.</center>"
   ]
  },
  {
   "cell_type": "markdown",
   "id": "cbbfd300-dafe-428a-baaa-b4a31b622a1c",
   "metadata": {
    "slideshow": {
     "slide_type": "slide"
    },
    "tags": []
   },
   "source": [
    "**Why? Information Asymmetry and Adverse Selection**\n",
    "\n",
    "- Borrowers differ in **riskiness** and **project quality**, but lenders **cannot observe** this before lending.\n",
    "- Higher interest rates drive out **safer borrowers**, leaving a **riskier applicant pool** — a case of **adverse selection**."
   ]
  },
  {
   "cell_type": "markdown",
   "id": "901974ab-bf20-4c98-b846-7fb9c55d4c12",
   "metadata": {
    "slideshow": {
     "slide_type": ""
    },
    "tags": []
   },
   "source": [
    "**When Prices Stop Working**: `Credit rationing`\n",
    "\n",
    "- Because of adverse selection the lender’s **expected return** may **decline** when the interest rate rises.\n",
    "- At some point, it becomes **unprofitable** to raise rates further —  even if **loan demand exceeds supply**.\n",
    "\n",
    "<center><b><u>Credit rationing</u></b> → A market where <b>some borrowers remain creditworthy but unfunded</b></center>"
   ]
  },
  {
   "cell_type": "markdown",
   "id": "77e4d2f8-acdf-407a-89c2-83077637f62c",
   "metadata": {
    "slideshow": {
     "slide_type": "slide"
    },
    "tags": []
   },
   "source": [
    "## A Model of Credit Rationing"
   ]
  },
  {
   "cell_type": "markdown",
   "id": "6434fe76-d7e5-44a4-a2cb-5af824812657",
   "metadata": {
    "slideshow": {
     "slide_type": "slide"
    },
    "tags": []
   },
   "source": [
    "The Stiglitz–Weiss (1981) model\n",
    "\n",
    "- Showed formally how **asymmetric information** can produce a **non-clearing equilibrium**  \n",
    "&rarr; *Market failure* in the credit market.  \n",
    "\n",
    "- Formalized the concept of **credit rationing**:\n",
    "    - Banks keep **interest rates below market-clearing levels**   \n",
    "    - **Limit quantity** rather than **raise prices**."
   ]
  },
  {
   "cell_type": "markdown",
   "id": "8359655b-7728-4141-babe-b21358727ad5",
   "metadata": {
    "slideshow": {
     "slide_type": "slide"
    },
    "tags": []
   },
   "source": [
    "### Environment"
   ]
  },
  {
   "cell_type": "markdown",
   "id": "e12c1847-aee6-4cbe-8b17-b3bb7998ac7b",
   "metadata": {
    "slideshow": {
     "slide_type": "slide"
    },
    "tags": []
   },
   "source": [
    "**Project**\n",
    "\n",
    "- Investment $I$\n",
    "- Returns $R$\n",
    "---\n",
    "\n",
    "**NEW**: projects can be of **different risk types** $\\theta$\n",
    "\n",
    "Conditional distribution of returns:  \n",
    "  $$R \\mid \\theta \\sim F(\\cdot \\mid \\theta),$$  \n",
    "  where a higher $\\theta$ implies a **mean-preserving spread** (riskier project).\n",
    "\n",
    "---\n",
    "\n",
    "**Entrepreneur/Borrower**\n",
    "\n",
    "- Own wealth $A$\n",
    "- Associates with a project of risk type $\\theta$\n",
    "- Needs to raise $I - A$ from investor\n",
    "\n",
    "**Investors**\n",
    "\n",
    "- Funds > $I$\n",
    "- Requires repayment $D$ (principal + interest)\n",
    "- **Cannot observe** $\\theta$ ex ante but knows the distribution"
   ]
  },
  {
   "cell_type": "markdown",
   "id": "8c954960-27e7-45c2-a02f-98d021d0fa44",
   "metadata": {
    "slideshow": {
     "slide_type": "slide"
    },
    "tags": []
   },
   "source": [
    "### Riskiness of projects"
   ]
  },
  {
   "cell_type": "markdown",
   "id": "a11b93b8-7dff-4a2f-a403-55989629a136",
   "metadata": {
    "slideshow": {
     "slide_type": ""
    },
    "tags": []
   },
   "source": [
    "<center><img src=\"figures/risk.png\" width=\"700\"></center>"
   ]
  },
  {
   "cell_type": "markdown",
   "id": "3507d978-784f-4594-a372-f26edeca49c4",
   "metadata": {},
   "source": [
    "Riskier borrowers value **limited liability** more:  \n",
    "  $$\n",
    "  \\mathbb{E}\\!\\left[\\max\\{R - D, 0\\} \\mid \\theta\\right]\n",
    "  \\text{ increases with } \\theta.\n",
    "  $$"
   ]
  },
  {
   "cell_type": "markdown",
   "id": "d2622a16-fd3b-4f62-86c3-a6d49bef0efd",
   "metadata": {
    "slideshow": {
     "slide_type": "slide"
    },
    "tags": []
   },
   "source": [
    "### Borrower participation"
   ]
  },
  {
   "cell_type": "markdown",
   "id": "3641c9bb-4cfb-407c-8aa0-07ba871e3e5d",
   "metadata": {},
   "source": [
    "**Outside option $\\pi_0$**\n",
    "  $$\n",
    "  \\mathbb{E}\\!\\left[\\max\\{R - D, 0\\} \\mid \\theta\\right] \\ge \\pi_0.\n",
    "  $$\n",
    "\n",
    "\n",
    "Define **cutoff type** $\\theta^*(D)$ such that\n",
    "\n",
    "$$\n",
    "\\mathbb{E}\\!\\left[\\max\\{R - D, 0\\} \\mid \\theta^*(D)\\right] = \\pi_0\n",
    "$$\n",
    "\n",
    "<u>**Result**</u>: **Borrower type $\\theta$ participates iif $\\theta \\geq \\theta^*$**\n",
    "\n",
    "<u>**Key**</u>: **Safer borrowers exit as $D$ increases**\n",
    "\n",
    "$$\n",
    "\\boxed{\\frac{d\\theta^*(D)}{dD} > 0}\n",
    "$$\n"
   ]
  },
  {
   "cell_type": "markdown",
   "id": "cd887daf-c249-429f-9bef-83c9a2dfa65c",
   "metadata": {
    "slideshow": {
     "slide_type": "slide"
    },
    "tags": []
   },
   "source": [
    "### Benchmark: Perfect Information"
   ]
  },
  {
   "cell_type": "markdown",
   "id": "6948002b-5554-46e8-8f37-5dd2a54b1487",
   "metadata": {
    "jp-MarkdownHeadingCollapsed": true,
    "slideshow": {
     "slide_type": "slide"
    },
    "tags": []
   },
   "source": [
    "Suppose the bank **can observe each borrower’s type** $\\theta$.\n",
    "\n",
    "Then, it would offer a **type-specific contract** $D(\\theta)$ that maximizes expected profit:\n",
    "\n",
    "$$\n",
    "\\max_{D(\\theta)} \\ \\Pi(D(\\theta)\\mid\\theta)\n",
    "= \\mathbb{E}\\!\\left[\\min\\{D(\\theta), R\\} \\mid \\theta\\right] - (I - A)\n",
    "$$\n",
    "\n",
    "subject to borrower participation:\n",
    "\n",
    "$$\n",
    "\\mathbb{E}\\!\\left[\\max\\{R - D(\\theta), 0\\} \\mid \\theta\\right] \\ge \\pi_0.\n",
    "$$\n",
    "\n",
    "Because the lender can price risk perfectly, **each type** gets a distinct rate or face value $D(\\theta)$.\n",
    "\n",
    "- There is **no adverse selection**: the bank faces only project risk.\n",
    "- The market **clears through prices** (interest rates differentiate across borrowers)."
   ]
  },
  {
   "cell_type": "markdown",
   "id": "4cb2111d-c3e2-40c7-b557-45619310803e",
   "metadata": {
    "slideshow": {
     "slide_type": "slide"
    },
    "tags": []
   },
   "source": [
    "### Information Asymmetry: Adverse Selection"
   ]
  },
  {
   "cell_type": "markdown",
   "id": "d0bf2292-a55b-4ad9-b269-cfdb31445d70",
   "metadata": {
    "slideshow": {
     "slide_type": "slide"
    },
    "tags": []
   },
   "source": [
    "<u>Information asymmetry</u>: **$\\theta$ is hidden** - only known to the borrower.\n",
    "\n",
    "The bank **cannot price each type** separately — it must offer a **single contract** $(D)$ to a mixed pool of applicants.\n",
    "\n",
    "- **Per-loan expected profit (conditional on type $\\theta$):**\n",
    "\n",
    "$$\n",
    "\\Pi(D \\mid \\theta)\n",
    "= \\mathbb{E}\\!\\left[\\min\\{D, R\\} \\mid \\theta\\right] - (I - A)\n",
    "$$\n",
    "\n",
    "- **Applicant pool at face value $D$:**\n",
    "\n",
    "$$\n",
    "\\text{Borrowers with }\n",
    "\\theta > \\theta^*(D)\n",
    "$$\n",
    "\n",
    "- **<u>Average</u> (pool) expected profit:**\n",
    "\n",
    "$$\n",
    "E\\Pi(D)\n",
    "=\n",
    "\\mathbb{E}_{\\theta > \\theta^*(D)}\n",
    "\\Big[\n",
    "\\mathbb{E}\\!\\left[\\min\\{D, R\\} \\mid \\theta\\right]\n",
    "\\Big]\n",
    "- (I - A).\n",
    "$$"
   ]
  },
  {
   "cell_type": "markdown",
   "id": "4b17b60b-fd76-49a9-8d69-387782e6b41c",
   "metadata": {
    "slideshow": {
     "slide_type": "slide"
    },
    "tags": []
   },
   "source": [
    "### Equilibrium - Credit Rationing"
   ]
  },
  {
   "cell_type": "markdown",
   "id": "66dc9123-e949-474e-8667-2a4cd7c045ee",
   "metadata": {
    "slideshow": {
     "slide_type": "slide"
    },
    "tags": []
   },
   "source": [
    "The bank’s **expected profit curve** $E\\Pi(D)$ reflects two opposing forces:\n",
    "\n",
    "- **Direct effect (price effect):** raising $D$ increases revenue per loan.\n",
    "- **Composition effect (selection):** higher $D$ drives out safer borrowers (raises $\\theta^*(D)$), worsening the pool."
   ]
  },
  {
   "cell_type": "markdown",
   "id": "1c66beb2-a944-41d3-ac09-0dfb69e84bdf",
   "metadata": {
    "slideshow": {
     "slide_type": "slide"
    },
    "tags": []
   },
   "source": [
    "##### With 2 types"
   ]
  },
  {
   "cell_type": "markdown",
   "id": "cda6ac6c-0911-43b9-b16d-5551fb3e90d3",
   "metadata": {
    "slideshow": {
     "slide_type": ""
    },
    "tags": []
   },
   "source": [
    "Let $r = D - I$"
   ]
  },
  {
   "cell_type": "markdown",
   "id": "6d283fcd-b3c5-4985-a80e-326f7b95bf4f",
   "metadata": {
    "slideshow": {
     "slide_type": ""
    },
    "tags": []
   },
   "source": [
    "<center><img src=\"figures/rationing-2types.png\" width=\"800\"></center>"
   ]
  },
  {
   "cell_type": "markdown",
   "id": "acda14a2-0702-4aec-a066-c60d8f1e4332",
   "metadata": {
    "slideshow": {
     "slide_type": "slide"
    },
    "tags": []
   },
   "source": [
    "**As $D$ (price) rises:**\n",
    "\n",
    "- $E\\Pi(D)$ first **increases** (direct effect dominates),  \n",
    "- then **decreases** (composition effect dominates).\n",
    "\n",
    "$$\n",
    "E\\Pi(D)\n",
    "\\text{ is inverted-U shaped.}\n",
    "$$"
   ]
  },
  {
   "cell_type": "markdown",
   "id": "52603da7-5157-47fb-ab2f-8f33116a1892",
   "metadata": {
    "slideshow": {
     "slide_type": ""
    },
    "tags": []
   },
   "source": [
    "Let $D^*$ be the profit-maximizing face value:\n",
    "\n",
    "$$\n",
    "\\frac{dE\\Pi(D)}{dD}\\bigg|_{D^*} = 0, \\qquad \n",
    "\\frac{d^2E\\Pi(D)}{dD^2}\\bigg|_{D^*} < 0.\n",
    "$$\n",
    "\n",
    "If at $D^*$, **loan demand exceeds supply** (many applicants still want loans), banks do **not** increase $D$ further — doing so would **reduce expected profit** (worse selection).\n",
    "<center>&darr;<br><b>Credit Rationing</b></center>"
   ]
  },
  {
   "cell_type": "markdown",
   "id": "b99b299a-9e3d-4a57-9547-53e4c5e76da3",
   "metadata": {
    "slideshow": {
     "slide_type": "slide"
    },
    "tags": []
   },
   "source": [
    "##### With continuum of types"
   ]
  },
  {
   "cell_type": "markdown",
   "id": "ade9f70c-d4cc-4ba4-ae03-d68512ff54ce",
   "metadata": {
    "slideshow": {
     "slide_type": ""
    },
    "tags": []
   },
   "source": [
    "Let $r^* = D^* - I$"
   ]
  },
  {
   "cell_type": "markdown",
   "id": "8948fefc-f89f-4a49-8fc7-066357342af4",
   "metadata": {
    "slideshow": {
     "slide_type": ""
    },
    "tags": []
   },
   "source": [
    "<center><img src=\"figures/rationing-ntypes.png\" width=\"900\"></center>"
   ]
  },
  {
   "cell_type": "markdown",
   "id": "a97c9316-9595-4cc5-ba08-f30b003eb090",
   "metadata": {
    "slideshow": {
     "slide_type": "slide"
    },
    "tags": []
   },
   "source": [
    "<center><img src=\"figures/rationing-equilibrium.png\" width=\"900\"></center>"
   ]
  },
  {
   "cell_type": "markdown",
   "id": "3b22c90d-22f4-4170-934e-5a4b2ccf2e20",
   "metadata": {
    "slideshow": {
     "slide_type": "slide"
    },
    "tags": []
   },
   "source": [
    "<center><img src=\"figures/rationing-equilibrium-2.png\" width=\"900\"></center>"
   ]
  },
  {
   "cell_type": "markdown",
   "id": "c81ecbfd-5118-480f-95a7-506993213821",
   "metadata": {
    "slideshow": {
     "slide_type": "slide"
    },
    "tags": []
   },
   "source": [
    "<center><img src=\"figures/rationing-equilibrium-3.png\" width=\"900\"></center>"
   ]
  },
  {
   "cell_type": "markdown",
   "id": "4401e2b3-fed8-41f3-9077-094ccbe89a21",
   "metadata": {
    "slideshow": {
     "slide_type": "slide"
    },
    "tags": []
   },
   "source": [
    "Hence,\n",
    "\n",
    "- Banks **do not increase the rate**; they **ration**: lend a fixed quantity at $D^*$ and reject the marginal applicants.\n",
    "- Some borrowers remain **creditworthy but unfunded**.\n",
    "- The **market fails** to clear via price adjustment.\n",
    "- This outcome is **credit rationing**.\n",
    "\n",
    "<u>**Key message:**</u> \n",
    "<center>With <b>adverse selection</b>, the profit-maximizing rate <b>does not clear the market</b>. <br> Credit rationing is an <b>equilibrium</b> outcome.</center>"
   ]
  },
  {
   "cell_type": "markdown",
   "id": "5f1ac7ea-8527-4197-9794-4bd30ee8a465",
   "metadata": {
    "slideshow": {
     "slide_type": "slide"
    },
    "tags": []
   },
   "source": [
    "## Discussion"
   ]
  },
  {
   "cell_type": "markdown",
   "id": "6a0387be-628a-4bdc-836b-10235682c5de",
   "metadata": {
    "slideshow": {
     "slide_type": "slide"
    },
    "tags": []
   },
   "source": [
    "The Stiglitz–Weiss model shows that: \n",
    "\n",
    "- Information asymmetries make bank profit a **non-monotonic function of interest rates**. \n",
    "- Optimal lending rate $D^*$ does not clear the market. \n",
    "- Credit rationing is an equilibrium phenomenon rooted in **adverse selection**.\n",
    "\n",
    "**Implications**\n",
    "\n",
    "- **Banks prefer to ration credit** at $D^*$ rather than raise rates further. \n",
    "- Explains why even solvent, willing borrowers can be denied loans. \n",
    "- Highlights role of **collateral, covenants, relationship lending** to reduce adverse selection. "
   ]
  },
  {
   "cell_type": "markdown",
   "id": "8f0e6fdc-f6ef-4aae-8137-7157eb128266",
   "metadata": {
    "slideshow": {
     "slide_type": "slide"
    },
    "tags": []
   },
   "source": [
    "### Why It Was Such an Impactful Discovery\n",
    "\n",
    "**Classical view (before 1981):** \n",
    "\n",
    "In competitive markets, excess demand is eliminated by raising prices. By analogy, if too many borrowers wanted credit, interest rates should rise until demand = supply. \n",
    "\n",
    "\n",
    "**Stiglitz & Weiss (1981):** \n",
    "\n",
    "- Showed that in credit markets, raising interest rates changes *who* borrows, not just *how much*. \n",
    "- Higher rates drive safe borrowers out, leaving a riskier pool (adverse selection). \n",
    "- Expected bank profit is an inverted-U in the interest rate → banks may stop lending before the market clears. \n",
    "- This means **credit rationing is an equilibrium outcome**, not a temporary imperfection. \n",
    "\n",
    "\n",
    "**Impact (together with Akerlof 1970):** \n",
    "\n",
    "- Akerlof’s *Market for Lemons*: price affects the quality of goods traded. \n",
    "- Stiglitz–Weiss: interest rates affect the quality of borrowers. \n",
    "- Together, these papers reshaped economics by showing how **information asymmetries lead to persistent market failures**. "
   ]
  },
  {
   "cell_type": "markdown",
   "id": "201b0ac2-07a8-4010-b6ed-85b8cf1fc9a1",
   "metadata": {
    "slideshow": {
     "slide_type": "slide"
    },
    "tags": []
   },
   "source": [
    "### What the Model Explains in Practice\n",
    "\n",
    "**Financial exclusion:** \n",
    " Some creditworthy borrowers are systematically denied loans (e.g., SMEs, low-income households). \n",
    "\n",
    "**Underinvestment in innovation:** \n",
    " Innovative projects are harder to evaluate → more likely to be rationed.  \n",
    " Explains why banks prefer lending against collateral (mortgages) rather than financing startups. \n",
    "\n",
    "**Persistence of informal credit markets:** \n",
    " When banks ration, borrowers turn to moneylenders or payday lenders, often at exorbitant rates. \n",
    "\n",
    "**Structural inequality:** \n",
    " Borrowers without collateral, reputation, or long relationships with banks are most likely to be excluded. \n",
    "\n",
    "**Why credit markets look different from goods markets:** \n",
    " In goods markets, prices usually clear demand. In credit markets, queues, rejections, and “no” are common. "
   ]
  },
  {
   "cell_type": "markdown",
   "id": "b3efbad0-6b56-40d8-98c4-da46cdeed9cd",
   "metadata": {
    "slideshow": {
     "slide_type": "slide"
    },
    "tags": []
   },
   "source": [
    "### Interventions\n",
    "\n",
    "**Screening and information tools:** \n",
    "\n",
    "- Credit registries, credit bureaus, big data credit scoring. \n",
    "- Better borrower information reduces adverse selection. \n",
    "\n",
    "**Collateral and covenants:** \n",
    "\n",
    "- Lenders use assets and contractual restrictions to screen and align incentives. \n",
    "\n",
    "\n",
    "**Relationship lending:** \n",
    "\n",
    "- Long-term interactions between bank and borrower reduce information asymmetry. \n",
    "\n",
    "\n",
    "**Public interventions:** \n",
    "\n",
    "- Loan guarantees (e.g., for SMEs). \n",
    "- Targeted credit programs (student loans, housing finance). "
   ]
  },
  {
   "cell_type": "markdown",
   "id": "6c48bd2b-0e9c-45fb-a247-fd1afd8a8053",
   "metadata": {
    "slideshow": {
     "slide_type": "slide"
    },
    "tags": []
   },
   "source": [
    "### Policy Implications\n",
    "\n",
    "**Justification for regulation and intervention:** \n",
    "\n",
    "- Market failures in credit justify government involvement. \n",
    "- Explains the existence of development banks, credit guarantee schemes, and subsidized lending. \n",
    "\n",
    "\n",
    "**Financial stability link:** \n",
    "\n",
    "- Rationing shows banks will not necessarily raise rates in response to stress → instead, they may cut lending (“credit crunch”). \n",
    "- Connects to procyclicality of bank lending during crises. \n",
    "\n",
    "\n",
    "**Distributional effects:** \n",
    "\n",
    "- Credit rationing disproportionately affects marginalized groups, creating inequality of opportunity. \n",
    "- Policies promoting financial inclusion (e.g., open banking, digital ID) have efficiency and equity benefits. "
   ]
  },
  {
   "cell_type": "markdown",
   "id": "e7849783-3143-407b-8853-6ce20bbb02f9",
   "metadata": {
    "slideshow": {
     "slide_type": "slide"
    },
    "tags": []
   },
   "source": [
    "\n",
    "### Modern Issues and Fintech\n",
    "\n",
    "**Fintech credit scoring:** \n",
    "\n",
    "- Use of alternative data (e.g., transaction histories, mobile phone data) reduces information gaps. \n",
    "- Can mitigate adverse selection, expand credit access. \n",
    "\n",
    "\n",
    "**Peer-to-peer and platform lending:** \n",
    "\n",
    "- Platforms claim to overcome rationing by better matching of borrowers and investors. \n",
    "- But information asymmetry and selection issues persist (ratings, defaults). \n",
    "\n",
    "\n",
    "**Stablecoins and DeFi lending:** \n",
    "\n",
    "- Collateral-based lending dominates (e.g., overcollateralized crypto loans). \n",
    "- Illustrates persistence of rationing: without information about borrower quality, only fully collateralized loans are feasible. \n",
    "\n",
    "\n",
    "**Policy debates today:** \n",
    "\n",
    "- Open Banking and data portability as tools to reduce information frictions. \n",
    "- Balancing **financial inclusion** with **privacy**. "
   ]
  },
  {
   "cell_type": "markdown",
   "id": "0272ba1f-e5c2-494c-87b5-8fb7ae8dcbb3",
   "metadata": {
    "slideshow": {
     "slide_type": "slide"
    },
    "tags": []
   },
   "source": [
    "# 4. The Structure of Credit Markets"
   ]
  },
  {
   "cell_type": "markdown",
   "id": "73422eca-610a-4244-9ebd-9e39ad3140cf",
   "metadata": {
    "slideshow": {
     "slide_type": "slide"
    },
    "tags": []
   },
   "source": [
    "So far:\n",
    "\n",
    "- **Townsend (1979)** → *Costly state verification* → why **debt contracts** arise.  \n",
    "- **Stiglitz & Weiss (1981)** → *Adverse selection* → why **credit rationing** occurs.  \n",
    "\n",
    "Now &rarr; a third question:\n",
    "\n",
    "<center><b>Why do banks exist, and why do they coexist with direct market investors?</b></center>"
   ]
  },
  {
   "cell_type": "markdown",
   "id": "84130e2b-5ab5-4797-b4f2-72761dc3e028",
   "metadata": {
    "slideshow": {
     "slide_type": "slide"
    },
    "tags": []
   },
   "source": [
    "In reality, we observe **segmentation** in financing:\n",
    "\n",
    "- Large, established, transparent firms → access **capital markets**.\n",
    "- Smaller, opaque, riskier firms → rely on **banks**.\n",
    "- Some firms → **credit constrained** or excluded.\n",
    "\n",
    "During crises, this segmentation widens leading to **credit crunch** phenomenon."
   ]
  },
  {
   "cell_type": "markdown",
   "id": "621c7800-c9b1-41fa-8f5c-b6b04119874a",
   "metadata": {
    "slideshow": {
     "slide_type": "slide"
    },
    "tags": []
   },
   "source": [
    "## The Core Problem: Moral Hazard"
   ]
  },
  {
   "cell_type": "markdown",
   "id": "e9fe62f4-eb97-4751-9b76-c512af23385c",
   "metadata": {
    "slideshow": {
     "slide_type": "slide"
    },
    "tags": []
   },
   "source": [
    "Many investment projects require **effort** from the entrepreneur/borrower and **monitoring** of the investor to succeed.\n",
    "\n",
    "- **Effort** increases expected returns but is **not observable** by outsiders.\n",
    "- If the entrepreneur can enjoy **private benefits** from **shirking** &rarr; may not exert effort\n",
    "\n",
    "<center>&darr;<br><b><u>Moral hazard</u>: unobservable actions distort incentives and funding decisions.</b></center>"
   ]
  },
  {
   "cell_type": "markdown",
   "id": "d4867541-c2fd-4257-9f1e-4f97348e4fe6",
   "metadata": {
    "slideshow": {
     "slide_type": "slide"
    },
    "tags": []
   },
   "source": [
    "This information friction explains the **boundary between banks and markets** and allows to address:\n",
    "\n",
    "- Which firms **borrow directly** from investors?\n",
    "- Which rely on **intermediated (bank) finance**?\n",
    "- Which cannot obtain finance at all?\n",
    "\n",
    "&rarr; A **micro-foundation** for the structure of the financial system:\n",
    "<center>Banks arise to <b>mitigate incentive problems</b> that markets alone cannot solve.</center>"
   ]
  },
  {
   "cell_type": "markdown",
   "id": "3c73f83c-117e-416d-bb4a-e7b43ef379df",
   "metadata": {
    "slideshow": {
     "slide_type": "slide"
    },
    "tags": []
   },
   "source": [
    "## A Model of Monitoring Effort"
   ]
  },
  {
   "cell_type": "markdown",
   "id": "1ea38545-5558-4bd1-8536-776d01364c71",
   "metadata": {
    "slideshow": {
     "slide_type": "slide"
    },
    "tags": []
   },
   "source": [
    "Holmstrom and Tirole (1997) provide a unified framework showing that:\n",
    "\n",
    "1. **Moral hazard** (hidden effort) limits the **pledgeable income** of projects.  \n",
    "2. **Monitoring** can relax this constraint — but at a **cost**.  \n",
    "3. The optimal allocation features a **coexistence** of:\n",
    "   - **Market-financed projects** (self-enforcing effort),\n",
    "   - **Bank-financed projects** (monitoring needed),\n",
    "   - **Unfunded projects** (inefficient due to severe moral hazard)."
   ]
  },
  {
   "cell_type": "markdown",
   "id": "e7b66c3d-45e5-4af1-9eb5-22452b73da63",
   "metadata": {
    "slideshow": {
     "slide_type": "slide"
    },
    "tags": []
   },
   "source": [
    "This paper was a foundation for theories of:\n",
    "\n",
    "- **Financial intermediation** (banks as delegated monitors),\n",
    "- **Capital structure** (internal vs external finance),\n",
    "- **Credit cycles** and **financial amplification** (via limited pledgeability).\n",
    "- Basel-style **capital regulation** (bank skin in the game),\n",
    "- **Corporate finance hierarchy**: internal → bank → market financing.\n",
    "\n",
    "**<u>Key idea:</u>**  \n",
    "<center>Banks and markets coexist because they address different incentive problems.\n",
    "    <br>\n",
    "Financial structure is not arbitrary — it reflects the <b>nature of information and monitoring</b> in the economy.</center>"
   ]
  },
  {
   "cell_type": "markdown",
   "id": "84083652-2c63-4540-b75b-a96e2d4c7561",
   "metadata": {
    "slideshow": {
     "slide_type": "slide"
    },
    "tags": []
   },
   "source": [
    "### Environment"
   ]
  },
  {
   "cell_type": "markdown",
   "id": "1c6ef562-8a11-4246-8a50-6d9ffababaaa",
   "metadata": {
    "slideshow": {
     "slide_type": ""
    },
    "tags": []
   },
   "source": [
    "**Project**\n",
    "\n",
    "- Investment $I$\n",
    "---\n",
    "\n",
    "**NEW**: \n",
    "- Returns $R\\in\\{R_H,R_L\\}$\n",
    "\n",
    "Project outcome depends on **effort $e$**\n",
    "\n",
    "| Effort | Success probability | Return if success | Return if failure |\n",
    "|---------|--------------------|------------------|-------------------|\n",
    "| **High effort <br>($e=1$)** | $p_H$ | $R_H$ | $0$ |\n",
    "| **Low effort <br> ($e=0$)** <br>(shirking) | $p_L < p_H$ | $R_L < R_H$ | $0$ |\n",
    "\n",
    "---"
   ]
  },
  {
   "cell_type": "markdown",
   "id": "9a100f55-94d5-4ffb-8f62-ffc0f1f0cce8",
   "metadata": {
    "slideshow": {
     "slide_type": "slide"
    }
   },
   "source": [
    "**Entrepreneur/Borrower**\n",
    "\n",
    "- Own wealth $A$\n",
    "- Needs to raise $I - A$ from investor\n",
    "- Choses to exert effort $e$\n",
    "    - When shirking ($e=0$): gets **private benefit $B$**\n",
    "\n",
    "**Investor** (direct market)\n",
    "\n",
    "- Funds > $I$\n",
    "- Requires repayment $D$ (principal + interest)\n",
    "- **Cannot observe** $e$ ex ante\n",
    "\n",
    "**Bank** (intermediary)\n",
    "\n",
    "- Same financing as investor\n",
    "- **Monitoring technology**: $B = 0$ at cost $K$"
   ]
  },
  {
   "cell_type": "markdown",
   "id": "0f80de5c-bf81-412b-9a5e-54f2fe1f94af",
   "metadata": {
    "slideshow": {
     "slide_type": "slide"
    }
   },
   "source": [
    "**NPV assumptions:**\n",
    "\n",
    "$$\n",
    "p_H R_H > I > p_L R_L\n",
    "$$\n",
    "&rarr; The project is socially efficient **only with high effort**.\n",
    "\n"
   ]
  },
  {
   "cell_type": "markdown",
   "id": "ffad46ac-db5f-4314-9e79-e0b0b004c0d9",
   "metadata": {
    "slideshow": {
     "slide_type": "slide"
    }
   },
   "source": [
    "### Entrepreneur’s expected payoff\n",
    "\n",
    "**Limited liability**: Let $D$ be the repayment due **in success** and nothing is paid in failure.\n",
    "\n",
    "**Expected payoff**\n",
    "\n",
    "$$\n",
    "\\mathbb{E}[w] = \n",
    "\\begin{cases}\n",
    " p_H (R_H - D) ~~ &\\text{if} ~~ e=1\\\\ \n",
    "p_L (R_L - D) + B~~ &\\text{if} ~~ e=0\n",
    "\\end{cases}\n",
    "$$"
   ]
  },
  {
   "cell_type": "markdown",
   "id": "d40bb44f-b844-4e80-a16c-359da216ff26",
   "metadata": {
    "slideshow": {
     "slide_type": "slide"
    },
    "tags": []
   },
   "source": [
    "### Incentive Compatibility "
   ]
  },
  {
   "cell_type": "markdown",
   "id": "3ef928ba-48f1-4307-a205-8a4323d39e78",
   "metadata": {},
   "source": [
    "**Without Monitoring**\n",
    "\n",
    "[IC] Effort is **incentive-compatible** iff\n",
    "$$\n",
    "p_H (R_H - D) \\;\\ge\\; p_L (R_L - D) + B.\n",
    "$$\n",
    "\n",
    "- Rearranging:\n",
    "  \n",
    "$$\n",
    "\\big(p_H R_H - p_L R_L\\big) - (p_H - p_L) D \\;\\ge\\; B,\n",
    "$$\n",
    "\n",
    "&rarr; There is a **maximum face value** that can be charged to the entrepreneur while keeping consistent with effort:\n",
    "$$\n",
    "D_{\\max} \\;=\\; \\frac{p_H R_H - p_L R_L - B}{\\,p_H - p_L\\,}.\n",
    "$$\n",
    "\n",
    "- For $D>D_{\\max}$, the entrepeneur prefers to shirk.\n",
    "\n",
    "\n",
    "<!-- - Limited liability under effort also imposes $D \\le R_H$.  \n",
    "\n",
    "Hence any feasible choice must satisfy\n",
    "$$\n",
    "D \\;\\le\\; \\min\\{R_H,\\; D_{\\max}\\}.\n",
    "$$ -->\n",
    "\n"
   ]
  },
  {
   "cell_type": "markdown",
   "id": "a664ff11-2c4d-4a98-9b1c-587b1b012a45",
   "metadata": {
    "slideshow": {
     "slide_type": "slide"
    }
   },
   "source": [
    "### Direct Market Funding"
   ]
  },
  {
   "cell_type": "markdown",
   "id": "8d396f97-d2e5-43ef-aeed-b89931e6f728",
   "metadata": {},
   "source": [
    "**Investor expected payoff**:\n",
    "\n",
    "When $D<D_{max}$: investors expect to receive $p_H D$ (since effort is exerted under [IC]).\n",
    "\n",
    "**Feasibility of direct funding**:\n",
    "\n",
    "- Market finance is feasible if **there exists** $D \\le  D_{\\max}$ such that\n",
    "$$\n",
    "p_H D \\;\\ge\\; I - A.\n",
    "$$\n",
    "\n",
    "- A **necessary condition** is therefore that:\n",
    "$$\n",
    "p_H D_{\\max} \\;\\ge\\; I - A\n",
    "\\quad\\Longleftrightarrow\\quad\n",
    "A \\ge I - p_H\\frac{p_H R_H - p_L R_L - B}{p_H - p_L} = A_M\n",
    "$$\n",
    "Where $A_M$ defines the **minimum capital for market finance**:\n",
    "\n",
    "&rarr; If $A \\ge A_M$, effort is self-enforcing and **direct market funding** is possible."
   ]
  },
  {
   "cell_type": "markdown",
   "id": "45b3a699",
   "metadata": {
    "slideshow": {
     "slide_type": "slide"
    }
   },
   "source": [
    "### Bank Funding\n",
    "\n",
    "A bank can monitor at cost $K>0$ and **prevent shirking**\n",
    "- The [IC] constraint is no longer binding for the monitored loan\n",
    "- $B=0$\n",
    "\n",
    "**Bank’s expected profit**\n",
    "$$\n",
    "\\Pi_B(D) \\;=\\; p_H D \\;-\\; (I - A) \\;-\\; K.\n",
    "$$"
   ]
  },
  {
   "cell_type": "markdown",
   "id": "259dd47e-0175-4498-9339-95e67f16834a",
   "metadata": {
    "slideshow": {
     "slide_type": "slide"
    }
   },
   "source": [
    "**Feasibility of bank funding**:\n",
    "\n",
    "- Bank funding is feasible with monitoring if there exists $D$ such that\n",
    "$$\n",
    "p_H D - K\\;\\ge\\; I - A.\n",
    "$$\n",
    "\n",
    "- A **necessary condition** is therefore that:\n",
    "$$\n",
    "A > A_B \\;=\\; I - p_H R_H + K.\n",
    "$$\n",
    "Where $A_B$ is the **minimum capital** needed for **bank finance** (monitored loan).\n",
    "\n",
    "\n",
    "> The bank chooses the largest feasible repayment, $D = R_H$, to minimize the required own capital while respecting limited liability $D\\le R_H$).\n",
    "\n",
    "&rarr; If $A_B \\le A$, effort is monitored and **bank funding** is possible."
   ]
  },
  {
   "cell_type": "markdown",
   "id": "7ab2bc0a",
   "metadata": {
    "slideshow": {
     "slide_type": "slide"
    }
   },
   "source": [
    "### Credit Market Structure\n",
    "**Co-existence condition**\n",
    "$$A_M > A_B\n",
    "\\quad \\Longleftrightarrow \\quad\n",
    "p_H \\frac{p_L (R_H - R_L) + B}{p_H - p_L} > K.\n",
    "$$\n",
    "\n",
    "As long as the monitoring cost is **not too high**, monitoring is valuable because it **expands** the feasible set:\n",
    "$$\n",
    "A_B \\;<\\; A_M,\n",
    "$$\n",
    "\n",
    "<u>But</u> bank monitoring costs $K$ so banking loans are costlier &rarr; Banks optimally fund the **intermediate region** where monitoring is necessary yet efficient."
   ]
  },
  {
   "cell_type": "markdown",
   "id": "e6494f46-9e70-4776-b4cb-833ee6ecc1d8",
   "metadata": {
    "slideshow": {
     "slide_type": "slide"
    }
   },
   "source": [
    "| Case | Effort enforcement | Monitoring? | Capital condition | Funding source |\n",
    "|------|--------------------|-------------|-------------------|----------------|\n",
    "| **Market finance** | Self-enforced | No | $A \\ge A_M$ | Direct market investors |\n",
    "| **Bank finance** | Needs enforcement | Yes (cost $K$) | $A_B \\le A < A_M$ | Bank (monitored) |\n",
    "| **No finance** | Not profitable even with monitoring | — | $A < A_B$ | Project not funded |"
   ]
  },
  {
   "cell_type": "markdown",
   "id": "03f6dfab-c483-48db-abe4-ff0afa033615",
   "metadata": {
    "slideshow": {
     "slide_type": "slide"
    }
   },
   "source": [
    "### Economic Interpretation\n",
    "\n",
    "- **Positive NPV** requires high effort; otherwise, expected value is insufficient.  \n",
    "- With **enough entrepreneur capital** ($A \\ge A_M$) → **markets** can fund directly.  \n",
    "- With **intermediate capital** ($A_B \\le A < A_M$), effort would fail without discipline; **banks** pay $K$ to monitor and restore feasibility.  \n",
    "- With **low capital** ($A < A_B$), the project remains unviable even with monitoring → **no funding**.\n",
    "\n",
    "**Bottom line:**  \n",
    "<center> Markets fund well-capitalized projects; banks fund monitorable-but-risky ones; bad projects remain unfunded.<br>  \n",
    "This explains the <b>coexistence</b> of banks and markets under moral hazard.</center>"
   ]
  },
  {
   "cell_type": "markdown",
   "id": "223f430a-fd39-46c2-bd7c-52978665c646",
   "metadata": {
    "slideshow": {
     "slide_type": "slide"
    }
   },
   "source": [
    "## Discussion"
   ]
  },
  {
   "cell_type": "markdown",
   "id": "ddfe10f3-3bcd-4a37-86d6-9f42c600ca53",
   "metadata": {
    "slideshow": {
     "slide_type": "slide"
    }
   },
   "source": [
    "### Paper Impact\n",
    "\n",
    "- A **foundational contribution** to the modern theory of **financial intermediation**.\n",
    "- Provided a **microeconomic justification** for why banks and markets coexist:\n",
    "  - Banks = *delegated monitors* under moral hazard.\n",
    "  - Markets = *arm’s-length financiers* when incentives are self-enforcing.\n",
    "\n",
    "The paper reframed finance as a problem of **information governance**, not just capital allocation."
   ]
  },
  {
   "cell_type": "markdown",
   "id": "e2ea32aa-06ff-400b-8b82-c2bdd90ef0e2",
   "metadata": {
    "slideshow": {
     "slide_type": "slide"
    }
   },
   "source": [
    "**Conceptual Breakthroughs**\n",
    "\n",
    "- Introduced the notion of **pledgeable income**:\n",
    "  > Only the part of project returns consistent with incentives can be pledged to investors.\n",
    "- Explained the **hierarchy of finance**:\n",
    "  1. Internal finance (self-enforcing),\n",
    "  2. Intermediated finance (requires monitoring),\n",
    "  3. Market finance (transparent, large-scale).\n",
    "- Linked **firm size**, **transparency**, and **financing mode**:\n",
    "  - Small, opaque → bank-dependent.  \n",
    "  - Large, visible → market-based."
   ]
  },
  {
   "cell_type": "markdown",
   "id": "179bdab4",
   "metadata": {
    "slideshow": {
     "slide_type": "slide"
    }
   },
   "source": [
    "### Monitoring as Information Production\n",
    "\n",
    "- In Holmström & Tirole (1997), banks **monitor borrowers** to prevent shirking.  \n",
    "- Monitoring does not only enforce effort — it also generates **information and data** about:\n",
    "  - borrower performance,\n",
    "  - business viability,\n",
    "  - repayment behavior.\n",
    "\n",
    "In modern terms: **monitoring = data production** about creditworthiness and operations."
   ]
  },
  {
   "cell_type": "markdown",
   "id": "d5c7db9e",
   "metadata": {
    "slideshow": {
     "slide_type": "slide"
    }
   },
   "source": [
    "### The Private Nature of Monitoring Data\n",
    "\n",
    "- The information a bank collects through monitoring is **proprietary**.  \n",
    "- It represents **private capital** in the form of data:\n",
    "  - costly to produce,   \n",
    "  - and difficult for competitors to replicate.\n",
    "\n",
    "- This informational advantage can **lock customers in**:\n",
    "  - Borrowers may stay with their bank because the bank knows them best.  \n",
    "  - Competing lenders cannot easily assess risk without similar data.\n",
    "\n",
    "→ **Private information → informational rents → market power.**"
   ]
  },
  {
   "cell_type": "markdown",
   "id": "e57054fc",
   "metadata": {
    "slideshow": {
     "slide_type": "slide"
    }
   },
   "source": [
    "### Policy Implication: Open Data and Interoperability\n",
    "\n",
    "\n",
    "- From a **social efficiency** perspective, data about borrower quality is **non-rival**:  once produced, it could improve credit allocation if shared.\n",
    "- However, private ownership of monitoring data leads to **under-sharing** and **barriers to entry**.\n",
    "\n",
    "This motivates **open data policies** such as:\n",
    "\n",
    "- **Open Banking / Open Finance**:  \n",
    "  regulated data-sharing between financial institutions to enable competition and switching.\n",
    "\n",
    "- **Standardized APIs and interoperability frameworks**:  \n",
    "  reduce information asymmetry while preserving privacy and security."
   ]
  },
  {
   "cell_type": "markdown",
   "id": "6993b3f2",
   "metadata": {
    "slideshow": {
     "slide_type": "slide"
    }
   },
   "source": [
    "### Economic Trade-Off\n",
    "<center><b> Open Data Policies </b></center>\n",
    "\n",
    "| Benefit | Cost |\n",
    "|----------|------|\n",
    "| Reduces switching costs and enhances competition | Weakens private incentives to monitor and collect data |\n",
    "| Improves market contestability | Unravelling: may reduce banks’ willingness to lend to no-data borrowers |\n",
    "\n",
    "**The policy challenge:**\n",
    "\n",
    "**Balance** the benefits of open access to data with the need to preserve **monitoring incentives** that sustain credit to informationally intensive sectors."
   ]
  },
  {
   "cell_type": "markdown",
   "id": "a65e46a9",
   "metadata": {
    "slideshow": {
     "slide_type": "slide"
    }
   },
   "source": [
    "### Modern Relevance\n",
    "\n",
    "**AI and machine learning**  \n",
    "Technologies to **detect** patterns of shirking or misuse of funds (reduce moral hazard).  \n",
    "As such they can **reduce the cost of monitoring** ($K$) thereby **expanding further access** to monitored credit \n",
    "\n",
    "**Data-driven economy**  \n",
    "Monitoring rents are becoming **data rents**.  \n",
    "\n",
    "- Fintechs and BigTechs enter credit markets not through capital, but through **informational advantage**.  \n",
    "- **Open banking** and **data portability** are policy tools designed to:\n",
    "  - lower barriers to entry,  \n",
    "  - prevent informational monopolies,  \n",
    "  - and reintroduce competition in the monitoring layer of finance.\n",
    "\n",
    "The underlying principle remains Holmström–Tirole’s insight:  \n",
    "\n",
    "- Information is costly to produce and privately valuable\n",
    "- Public policy must decide **when to privatize it and when to share it**."
   ]
  }
 ],
 "metadata": {
  "celltoolbar": "Slideshow",
  "kernelspec": {
   "display_name": "Python 3 (ipykernel)",
   "language": "python",
   "name": "python3"
  },
  "language_info": {
   "codemirror_mode": {
    "name": "ipython",
    "version": 3
   },
   "file_extension": ".py",
   "mimetype": "text/x-python",
   "name": "python",
   "nbconvert_exporter": "python",
   "pygments_lexer": "ipython3",
   "version": "3.12.7"
  }
 },
 "nbformat": 4,
 "nbformat_minor": 5
}
