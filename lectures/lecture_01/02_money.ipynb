{
 "cells": [
  {
   "cell_type": "markdown",
   "id": "5d5749c1-20a2-4d72-8783-bc760ebecf9e",
   "metadata": {
    "editable": true,
    "slideshow": {
     "slide_type": "slide"
    },
    "tags": []
   },
   "source": [
    "# Money\n",
    "## 4 Key Questions"
   ]
  },
  {
   "cell_type": "markdown",
   "id": "6441ba76-f386-454c-af26-388edcc45822",
   "metadata": {
    "editable": true,
    "slideshow": {
     "slide_type": "slide"
    },
    "tags": []
   },
   "source": [
    "## 1. Where Does Money Come From?"
   ]
  },
  {
   "cell_type": "code",
   "execution_count": null,
   "id": "ff2784a4-2c14-4709-8f42-5f2c61f57c43",
   "metadata": {
    "editable": true,
    "slideshow": {
     "slide_type": ""
    },
    "tags": []
   },
   "outputs": [],
   "source": []
  },
  {
   "cell_type": "markdown",
   "id": "59ff766d-0881-4746-a892-063f95eedbbe",
   "metadata": {
    "editable": true,
    "slideshow": {
     "slide_type": "slide"
    },
    "tags": []
   },
   "source": [
    "## 2. Why Do We Need Money?"
   ]
  },
  {
   "cell_type": "code",
   "execution_count": null,
   "id": "2daf8eb9-8025-4f61-9279-26d1483b7355",
   "metadata": {
    "editable": true,
    "slideshow": {
     "slide_type": ""
    },
    "tags": []
   },
   "outputs": [],
   "source": []
  },
  {
   "cell_type": "markdown",
   "id": "37f0037f-50cb-4c6c-84c0-f987ec46c4d3",
   "metadata": {
    "editable": true,
    "slideshow": {
     "slide_type": "slide"
    },
    "tags": []
   },
   "source": [
    "## 3. What is Money?"
   ]
  },
  {
   "cell_type": "code",
   "execution_count": null,
   "id": "ab3eb054-3fc7-4da7-bb0c-5f5ba4ca8493",
   "metadata": {
    "editable": true,
    "slideshow": {
     "slide_type": ""
    },
    "tags": []
   },
   "outputs": [],
   "source": []
  },
  {
   "cell_type": "markdown",
   "id": "f92ac661-2354-436f-ad7c-f0f16bc8f48a",
   "metadata": {
    "editable": true,
    "slideshow": {
     "slide_type": "slide"
    },
    "tags": []
   },
   "source": [
    "## 4. How to Control Money?"
   ]
  },
  {
   "cell_type": "code",
   "execution_count": null,
   "id": "4c2463df-7807-4331-a36e-4da829d6e241",
   "metadata": {
    "editable": true,
    "slideshow": {
     "slide_type": ""
    },
    "tags": []
   },
   "outputs": [],
   "source": []
  },
  {
   "cell_type": "markdown",
   "id": "59446df7-4d9e-4cb5-b4e2-f9ebcf3c1489",
   "metadata": {
    "editable": true,
    "slideshow": {
     "slide_type": "slide"
    },
    "tags": []
   },
   "source": [
    "# Map"
   ]
  },
  {
   "cell_type": "markdown",
   "id": "dda40f25-6855-4df4-abf2-c890f5204de9",
   "metadata": {
    "editable": true,
    "slideshow": {
     "slide_type": ""
    },
    "tags": []
   },
   "source": [
    "1. Origins of Money\n",
    "2. A Model of Money\n",
    "3. The Need for Money\n",
    "4. The Value of Money\n",
    "5. The Definition of Money\n",
    "6. The Governance of Money"
   ]
  },
  {
   "cell_type": "markdown",
   "id": "a2547cc8-c809-4b15-9945-1040c3294dea",
   "metadata": {
    "editable": true,
    "slideshow": {
     "slide_type": "slide"
    },
    "tags": []
   },
   "source": [
    "# 1. The Origins of Money"
   ]
  },
  {
   "cell_type": "markdown",
   "id": "1a7ece2a-411d-4d95-839a-cb25e1f31e39",
   "metadata": {
    "editable": true,
    "slideshow": {
     "slide_type": "slide"
    },
    "tags": []
   },
   "source": [
    "Once upon a time…  \n",
    "- Economy with **heterogeneous skills and needs**  \n",
    "- Trade opportunities emerge due to:  \n",
    "  - **Shocks**  \n",
    "  - **Surplus**"
   ]
  },
  {
   "cell_type": "markdown",
   "id": "a8a22e86-6dcc-482e-b9b9-92d0a303aa49",
   "metadata": {
    "editable": true,
    "slideshow": {
     "slide_type": "slide"
    },
    "tags": []
   },
   "source": [
    "## How do we organise exchange? Debt vs Barter"
   ]
  },
  {
   "cell_type": "markdown",
   "id": "9f6aea30-ee6f-41b1-81fb-dd6eb3cdb036",
   "metadata": {
    "editable": true,
    "slideshow": {
     "slide_type": ""
    },
    "tags": []
   },
   "source": [
    "Two competing stories of the origin of money:  \n",
    "  1. **Metallist theory** `Barter`\n",
    "  2. **Chartalist theory** `Credit`"
   ]
  },
  {
   "cell_type": "markdown",
   "id": "2f92e4ee-06be-464d-944d-196501d69733",
   "metadata": {
    "editable": true,
    "slideshow": {
     "slide_type": "slide"
    },
    "tags": []
   },
   "source": [
    "### Metallist Theory  \n",
    "- Origin of money = **Double coincidence of wants**  \n",
    "- Rooted in **commodity exchange**  \n",
    "> A commodity which few people would be likely to refuse in exchange for the produce of their industry\n",
    ">\n",
    ">  — Adam Smith\n",
    "- Economists’ natural view:  \n",
    "  - **Decentralised impulse** \n",
    "- Money as **“lubricant”**"
   ]
  },
  {
   "cell_type": "markdown",
   "id": "d51b1762-2090-4ab0-ae0c-9ed973fb84a8",
   "metadata": {
    "editable": true,
    "slideshow": {
     "slide_type": "slide"
    },
    "tags": []
   },
   "source": [
    "### Chartalist (Credit) Theory  \n",
    "- Origin of money = **Debt / IOU’s**  \n",
    "    - Socially enforced promises of repayment  \n",
    "- Credit seems to have existed before money (Graeber, 2011)\n",
    "    - In primitive communities where everyone knew each other → **no need for money**\n",
    "    - Social pressure ensured repayment\n",
    "    - When trade with **strangers** began → **money became useful**  \n",
    "- Money resulting from public authorities:\n",
    "    - **Centralised impulse**\n",
    "- Money is \"**memory**\": A snapshot of outstanding, directed and aggregated debt in the economy"
   ]
  },
  {
   "cell_type": "markdown",
   "id": "652a6f65-d504-4afd-a3fc-aec8fc6e6380",
   "metadata": {
    "editable": true,
    "slideshow": {
     "slide_type": "slide"
    },
    "tags": []
   },
   "source": [
    "# 2. A Model of Money"
   ]
  },
  {
   "cell_type": "markdown",
   "id": "d27c71c0-8a90-42bd-a5a6-329d1e47ede7",
   "metadata": {
    "editable": true,
    "slideshow": {
     "slide_type": "slide"
    },
    "tags": []
   },
   "source": [
    "In an important 1998 article, “Money is memory,” Kocherlakota shows that **money can be viewed as a way to keep track of promises**. \n",
    "\n",
    "*Here*: a simple variant of the Lagos and Wright (2005) model as proposed by Nosal and Rocheteau (2011) and Freixas and Rochet (2023). "
   ]
  },
  {
   "cell_type": "markdown",
   "id": "aba7b8dc-41fe-4908-8740-fa9d512cdb86",
   "metadata": {
    "editable": true,
    "slideshow": {
     "slide_type": "slide"
    },
    "tags": []
   },
   "source": [
    "## Model"
   ]
  },
  {
   "cell_type": "markdown",
   "id": "e7fa31bb-1a27-4a44-937c-2d5321cf170a",
   "metadata": {
    "editable": true,
    "slideshow": {
     "slide_type": "slide"
    },
    "tags": []
   },
   "source": [
    "**Environment**\n",
    "- Time is discrete (days)\n",
    "- The economy is **stationary**\n",
    "    - → the environment **does not change over time**:  \n",
    "        - Preferences, technologies, and matching probabilities are constant.  \n",
    "        - History doesn’t alter the structure of the economy.  \n",
    "        - Each day looks the same as the previous one (e.g., days repeat infinitely)"
   ]
  },
  {
   "cell_type": "markdown",
   "id": "7a41702f-dc02-4e11-83e5-d575032a75d3",
   "metadata": {
    "editable": true,
    "slideshow": {
     "slide_type": ""
    },
    "tags": []
   },
   "source": [
    "**Economy**\n",
    "- 2 types of agents: **buyers** and **sellers**\n",
    "- 2 markets: **centralised good** and **decentralised good**"
   ]
  },
  {
   "cell_type": "markdown",
   "id": "bed78d9c-12d6-4389-a9b0-b71288598cf8",
   "metadata": {
    "editable": true,
    "slideshow": {
     "slide_type": "slide"
    },
    "tags": []
   },
   "source": [
    "**Timing**  \n",
    "2 repeated periods for each date:\n",
    "1. Day  \n",
    "**Decentralised market**: Each buyer searches for sellers.\n",
    "    - Buyer meets seller with probability $\\sigma$\n",
    "    - When meeting, decision to contract or not\n",
    "        - Seller delivers good **immediately**: $q$ units\n",
    "        - Buyer **promises** $y$ units of another good (in centralised)\n",
    "3. Night  \n",
    "**Centralized market**: all agents meet and promised goods are delivered (or not).\n",
    "\n",
    "**Interpretation**\n",
    "- Decentralized good ~ labour or merchant exchanges in fair (day) \n",
    "- Centralized good ~ consumption or clearing of merchants obligations (night)"
   ]
  },
  {
   "cell_type": "markdown",
   "id": "2f83bafc-34af-4e6d-a776-9f77403e729d",
   "metadata": {
    "editable": true,
    "slideshow": {
     "slide_type": "slide"
    },
    "tags": []
   },
   "source": [
    "### Utilities\n",
    "*Assume quasi-linear preferences*\n",
    "\n",
    "If **contract** $(q, y)$ is executed  \n",
    "- Utility of buyer\n",
    "  \n",
    "$$U^b = u(q) - y$$\n",
    "\n",
    "- Utility of seller\n",
    "\n",
    "$$U^s = y - c(q)$$\n",
    "\n",
    "where \n",
    "- $u(.)$ is a concave utility function\n",
    "- $c(.)$ a convex cost function."
   ]
  },
  {
   "cell_type": "markdown",
   "id": "cb61bfad-8ff5-49a5-9a93-e25585364d72",
   "metadata": {
    "editable": true,
    "slideshow": {
     "slide_type": "slide"
    },
    "tags": []
   },
   "source": [
    "## Analysis\n",
    "1. No friction in the payment\n",
    "2. Friction: buyers can renege on their promise\n",
    "    - Community\n",
    "    - Strangers \n",
    "4. Introduction of money"
   ]
  },
  {
   "cell_type": "markdown",
   "id": "bb8a3fe6-028e-4ead-9163-272819ac9e9a",
   "metadata": {
    "editable": true,
    "slideshow": {
     "slide_type": "slide"
    },
    "tags": []
   },
   "source": [
    "### 1. No frictions"
   ]
  },
  {
   "cell_type": "markdown",
   "id": "b98b852e-a7ef-4f5f-aad8-c01fd2782341",
   "metadata": {
    "editable": true,
    "jp-MarkdownHeadingCollapsed": true,
    "slideshow": {
     "slide_type": ""
    },
    "tags": []
   },
   "source": [
    "In a world without frictions, all trade takes place simultaneously on the centralised market. \n",
    "\n",
    "A transaction $(q, y)$ takes place **if and only if it is mutually beneficial** (i.e., it gives a positive net utility to both parties):\n",
    "\n",
    "$$c(q)\\leq y \\leq u(q)$$"
   ]
  },
  {
   "cell_type": "markdown",
   "id": "df3ca71a-1c6f-41aa-a2f6-f83bec894ded",
   "metadata": {
    "editable": true,
    "slideshow": {
     "slide_type": "slide"
    },
    "tags": []
   },
   "source": [
    "### 2. With frictions"
   ]
  },
  {
   "cell_type": "markdown",
   "id": "a573de88-e190-4d82-9173-16a096d8d328",
   "metadata": {
    "editable": true,
    "jp-MarkdownHeadingCollapsed": true,
    "slideshow": {
     "slide_type": ""
    },
    "tags": []
   },
   "source": [
    "In a world with frictions, **buyers can renege on their commitment to provide $y$ units** of consumption to a seller in the centralised market."
   ]
  },
  {
   "cell_type": "markdown",
   "id": "081857e4-d365-4dae-bcaa-671596017faa",
   "metadata": {
    "editable": true,
    "slideshow": {
     "slide_type": "slide"
    },
    "tags": []
   },
   "source": [
    "#### Close-knit community\n",
    "Assume that reneging would provoke the **exclusion of the buyer**.\n",
    "\n",
    "**Exclusion**: loss of the **continuation payoff $V^b$** associated with future trades.\n",
    "\n",
    "$V^b$ obtains from stationarity:\n",
    "\n",
    "$$V^b = \\sigma U^b + \\frac{V^b}{1+r}$$\n",
    "\n",
    "where $r$ is the discount rate of the buyer. \n",
    "\n",
    "Solving in $V^b$:\n",
    "\n",
    "$$ V^b = \\frac{\\sigma U^b(1+r)}{r} = \\frac{\\sigma(1+r)}{r}[u(q)-y] $$"
   ]
  },
  {
   "cell_type": "markdown",
   "id": "c14b2884-06f0-4e6d-bb93-4d792e651038",
   "metadata": {
    "editable": true,
    "slideshow": {
     "slide_type": "slide"
    },
    "tags": []
   },
   "source": [
    "**Result**\n",
    "- Buyer **honours an obligation** to pay the seller whenever the payment $y$ is lower than the discounted continuation pay-off $\\frac{V^b}{1+r}$:\n",
    "\n",
    "$$y \\leq \\frac{V^b}{1+r}$$\n",
    "\n",
    "<center>&darr;</center>\n",
    "\n",
    "$$y\\leq \\frac{\\sigma u (q)}{r+\\sigma}$$\n",
    "\n",
    "\n",
    "- Comparing with **no friction** outcoume  \n",
    "  &rarr; **set of feasible transactions is strictly smaller**\n",
    "\n",
    "$$c(q)\\leq y \\leq \\frac{\\sigma u (q)}{r+\\sigma} \\leq u(q)$$\n",
    "\n",
    "**Conclusion**  \n",
    "Even in a close-knit community, the **impossibility to commit reduces the set of feasible transactions.**"
   ]
  },
  {
   "cell_type": "markdown",
   "id": "6727c180-3564-4f05-ad63-af974fecf074",
   "metadata": {
    "editable": true,
    "slideshow": {
     "slide_type": "slide"
    },
    "tags": []
   },
   "source": [
    "#### Complete strangers"
   ]
  },
  {
   "cell_type": "markdown",
   "id": "bee8e398-bb98-4f50-954b-6a95b97446f9",
   "metadata": {
    "editable": true,
    "jp-MarkdownHeadingCollapsed": true,
    "slideshow": {
     "slide_type": ""
    },
    "tags": []
   },
   "source": [
    "If the buyer and the seller are complete strangers because: **the threat of exclusion has no bite**. \n",
    "\n",
    "**Result**  \n",
    "**No trade ever takes place** because the seller knows that the buyer would never honour his payment obligation."
   ]
  },
  {
   "cell_type": "markdown",
   "id": "bb825193-51d4-44ac-8ffe-cfbc6fb50442",
   "metadata": {
    "editable": true,
    "slideshow": {
     "slide_type": "slide"
    },
    "tags": []
   },
   "source": [
    "### 3. Introducing money"
   ]
  },
  {
   "cell_type": "markdown",
   "id": "07d4a90a-f8f7-4596-b4b6-17188ab27917",
   "metadata": {
    "editable": true,
    "slideshow": {
     "slide_type": "slide"
    },
    "tags": []
   },
   "source": [
    "**Inefficiency can be overcome with money** (Kocherlakota, 1998; Lagos and Wright, 2005)."
   ]
  },
  {
   "cell_type": "markdown",
   "id": "250c8baa-094f-4c26-a60d-e4e57ca32302",
   "metadata": {
    "editable": true,
    "slideshow": {
     "slide_type": ""
    },
    "tags": []
   },
   "source": [
    "**Adjustement to the set-up**\n",
    "\n",
    "Introduce **tokens** (coins or banknotes) that are accepted as **means of payment by all agents**.\n",
    "- The buyer can\n",
    "    - Get $y$ tokens by producing $y$ units of the **centralised good** (normalise price to one token).\n",
    "    - Later purchase $q$ units of the **decentralised good**.\n",
    "- The seller agrees to deliver in exchange for the tokens if $V^t \\geq y$:\n",
    "    - The value $V^t$ that the buyer derives from the tokens is larger than the cost of producing $y$ units of the centralised good which is $y$."
   ]
  },
  {
   "cell_type": "markdown",
   "id": "aa097760-d1c9-4dd5-9b42-bdf69590cb5f",
   "metadata": {
    "editable": true,
    "slideshow": {
     "slide_type": "slide"
    },
    "tags": []
   },
   "source": [
    "**The continuation payoff $V^t$** is given by:\n",
    "- Probability $σ$ that the buyer matches with a seller tomorrow and buys $q$ units of the decentralised good with the tokens;\n",
    "- Probability $(1 − σ)$ that the buyer keeps the tokens to use them in the future\n",
    "\n",
    "$$V^t = \\frac{\\sigma u(q) + (1-\\sigma)V^t}{1+r} $$\n",
    "\n",
    "<center>&darr;</center>\n",
    "\n",
    "$$V^t = \\frac{\\sigma u (q)}{r + \\sigma} = V^b$$"
   ]
  },
  {
   "cell_type": "markdown",
   "id": "aa1eb1a1-17e5-49c9-a62c-85e6a455be3f",
   "metadata": {
    "editable": true,
    "slideshow": {
     "slide_type": "slide"
    },
    "tags": []
   },
   "source": [
    "**Result**  \n",
    "Trade will take place with money if and only if:\n",
    "\n",
    "$$c(q)\\leq y \\leq \\frac{\\sigma u (q)}{r+\\sigma} \\leq u(q)$$\n",
    "\n",
    "which is exactly the same condition as in **a close-knit community.**"
   ]
  },
  {
   "cell_type": "markdown",
   "id": "d2dddf87-e6c3-4355-bd94-a1bd6ff68b9f",
   "metadata": {
    "editable": true,
    "slideshow": {
     "slide_type": "slide"
    },
    "tags": []
   },
   "source": [
    "## Conclusion"
   ]
  },
  {
   "cell_type": "markdown",
   "id": "b4daf64c-12e2-4940-930a-021c1f58f549",
   "metadata": {
    "editable": true,
    "slideshow": {
     "slide_type": ""
    },
    "tags": []
   },
   "source": [
    "<center><b>Money allows strangers to trade as if they were members of the same community. </b></center>"
   ]
  },
  {
   "cell_type": "markdown",
   "id": "18229841-c1d9-459b-aed9-e3a73b5277ab",
   "metadata": {
    "editable": true,
    "slideshow": {
     "slide_type": "slide"
    },
    "tags": []
   },
   "source": [
    "### Note\n",
    "**1. Shift in timing of trading**  \n",
    "The timing of the trades between strangers is opposite to what happens in the close-knit community:\n",
    "- <u>Close-knit community</u>: trade relies on **credit**, which is repaid because of the **threat of exclusion**.\n",
    "- <u>Among strangers</u>: the buyer needs to **work first** to obtain the **tokens**.\n",
    "\n",
    "Money then works as **a record-keeping device**: the tokens held by the buyer testify that the buyer has worked in the past.\n",
    "\n",
    "**2. Technological disruption**\n",
    "- For many centuries, this record-keeping was provided by the government (i.e., central bank money) and the banks (i.e, deposit accounts). \n",
    "- Blockchain: promise of distributed ledger technologies is that payments can be registered without the intervention of any central authority."
   ]
  },
  {
   "cell_type": "markdown",
   "id": "9406393e-41f8-4d2a-9419-7f438e6cc1b8",
   "metadata": {
    "editable": true,
    "slideshow": {
     "slide_type": "slide"
    },
    "tags": []
   },
   "source": [
    "# 3. The Need for Money"
   ]
  },
  {
   "cell_type": "markdown",
   "id": "10eee14b-5c1a-40f5-b5f4-1e8d17554cf8",
   "metadata": {
    "editable": true,
    "slideshow": {
     "slide_type": "slide"
    },
    "tags": []
   },
   "source": [
    "As **societies grow**, money becomes a key feature\n",
    "- Physical interaction and bilateral **trust evaporates** (economies of tokens)\n",
    "- The increase of number of transactions and population size (buyers and sellers) calls for something that makes **payment final** and whose value is **easily verified**"
   ]
  },
  {
   "cell_type": "markdown",
   "id": "b09c6544-29c7-4bbd-beaa-39930cf94792",
   "metadata": {
    "editable": true,
    "slideshow": {
     "slide_type": "slide"
    },
    "tags": []
   },
   "source": [
    "<center><img src=\"figures/uruk.png\" width=\"700\"></center>"
   ]
  },
  {
   "cell_type": "markdown",
   "id": "7a2860c2-2f88-437e-8648-c5ea4ac00c50",
   "metadata": {
    "editable": true,
    "slideshow": {
     "slide_type": "slide"
    },
    "tags": []
   },
   "source": [
    "## Issuance of money and debt\n"
   ]
  },
  {
   "cell_type": "markdown",
   "id": "bc345468-e664-447e-9901-c68c6cf0c61b",
   "metadata": {
    "editable": true,
    "slideshow": {
     "slide_type": "slide"
    },
    "tags": []
   },
   "source": [
    "Birthplace of writing and accounting\n",
    "\n",
    "> “In the classic model of the Sumerian economy, the temple functioned as an administrative authority governing commodity production, collection, and redistribution. The discovery of administrative tablets from these complexes suggests that **token use and consequently writing evolved as a tool of centralized economic governance**.\n",
    ">\n",
    "> An economy based on **large-scale redistribution of goods cannot function on goodwill**. It requires **pre-commitment—promises of delivery** that allow planning.\n",
    ">\n",
    "> When people started living in large communities like Uruk, they shared their **lives with strangers as well as friends**. It may have been possible to know everyone in a large farming village, but not in a vast city, such as Uruk. **What were once implicit agreements among neighbors now became explicit contractual agreements among strangers.**\n",
    ">\n",
    "> - Goetzmann, William N.. Money Changes Everything. Princeton University Press. “"
   ]
  },
  {
   "cell_type": "markdown",
   "id": "6bbdd339-b68e-4a23-841d-5fdca415aabe",
   "metadata": {
    "editable": true,
    "slideshow": {
     "slide_type": "slide"
    },
    "tags": []
   },
   "source": [
    "**Tributary economies**\n",
    "- Egypt, Mesopotamia:  \n",
    "  - Goods and services flow mainly between rulers and subjects  \n",
    "- **Money**’s role tied to **political authority** and **record-keeping**"
   ]
  },
  {
   "cell_type": "markdown",
   "id": "c137da4b-2c29-4379-9063-6ea4ea1fa261",
   "metadata": {
    "editable": true,
    "slideshow": {
     "slide_type": ""
    },
    "tags": []
   },
   "source": [
    "**Key player: The State**\n",
    "- State as the main issuer of money\n",
    "- Coins = tokens of state debt  \n",
    "- Why trusted?  \n",
    "  - State can levy taxes in the same medium  \n",
    "  - Unique position: only the state ensures universal acceptance  "
   ]
  },
  {
   "cell_type": "markdown",
   "id": "10d57549-416c-463e-93a0-74cadc5773bb",
   "metadata": {
    "editable": true,
    "slideshow": {
     "slide_type": "slide"
    },
    "tags": []
   },
   "source": [
    "> Say a king wishes to support a standing army of fifty thousand men. Under ancient or medieval conditions, feeding such a force was an enormous problem—unless they were on the march, one would need to employ almost as many men and animals just to locate, acquire, and transport the necessary provisions.\n",
    ">\n",
    "> On the other hand, if one simply **hands out coins to the soldiers and then demands that every family in the kingdom was obliged to pay one of those coins back to you**, one would, in one blow, turn one's entire national economy into a vast machine for the provisioning of soldiers, since now every family, in order to get their hands on the coins, must find some way to contribute to the general effort to provide soldiers with things they want.\n",
    ">\n",
    "> **Markets are brought into existence as a side effect.**\n",
    "> \n",
    "> - Graeber (2011)"
   ]
  },
  {
   "cell_type": "markdown",
   "id": "8c418287-697f-47d0-9fab-7dc72e655954",
   "metadata": {
    "editable": true,
    "slideshow": {
     "slide_type": "slide"
    },
    "tags": []
   },
   "source": [
    "# 4. The Value of Money"
   ]
  },
  {
   "cell_type": "markdown",
   "id": "6467d2c7-ec80-4336-8794-867343ba515c",
   "metadata": {
    "editable": true,
    "slideshow": {
     "slide_type": "slide"
    },
    "tags": []
   },
   "source": [
    "## Competing Views of Value  \n",
    "\n",
    "**Metallist theory**  \n",
    "- Money inherits the value of its material components  \n",
    "- Example: gold coins = worth as much as their metal content  \n",
    "- Problem: value fluctuates with metal supply  \n",
    "\n",
    "\n",
    "**Credit theory**  \n",
    "- Money is a token of a promise\n",
    "- Money’s value is anchored in expectations and promises  \n",
    "- Token of debt: enforceable claim against issuer  \n",
    "- Trust is critical → repayment depends on issuer’s credibility"
   ]
  },
  {
   "cell_type": "markdown",
   "id": "bca58ddc-dc6b-4f63-b81e-4d7b199a5346",
   "metadata": {
    "editable": true,
    "slideshow": {
     "slide_type": "slide"
    },
    "tags": []
   },
   "source": [
    "## Complementarities  \n",
    "- Both theories played a role historically:  \n",
    "  - **Metallist** → explains early **commodity-based currencies**  \n",
    "  - **Credit** → explains money as **obligations backed by trust**  \n",
    "- Until 1971  \n",
    "    - Before: `gold standard` → metallist logic still relevant  \n",
    "    - **1971**: Nixon ends gold convertibility (Bretton Woods collapse)  \n",
    "- From then: credit theory dominates  \n",
    "  - **Fiat money = pure token of trust in state/central bank**  "
   ]
  },
  {
   "cell_type": "markdown",
   "id": "aa835f17-49f3-4d89-b794-a6e18fe6dd01",
   "metadata": {
    "editable": true,
    "slideshow": {
     "slide_type": "slide"
    },
    "tags": []
   },
   "source": [
    "# 5. The definition of Money"
   ]
  },
  {
   "cell_type": "markdown",
   "id": "c6c5ec68-cee6-46e7-9b3c-275a3aad565b",
   "metadata": {
    "editable": true,
    "slideshow": {
     "slide_type": "slide"
    },
    "tags": []
   },
   "source": [
    "## The Three Features of Money  \n",
    "Criteria any candidate form of money should satisfy:\n",
    "1. **Means of Payment**\n",
    "2. **Unit of Account**\n",
    "3. **Store of Value**  "
   ]
  },
  {
   "cell_type": "markdown",
   "id": "654eb294-61d4-4c8f-85ec-98cb083436d4",
   "metadata": {
    "editable": true,
    "slideshow": {
     "slide_type": "slide"
    },
    "tags": []
   },
   "source": [
    "## 1. Means of Payment  \n",
    "\n",
    "- **Money is a recognized medium to transfer value or promise of transfer**\n",
    "    - Used in exchange of goods and services\n",
    "- Solves the **double coincidence of wants** problem  \n",
    "    - Transfers debt and reduces reliance on promises  \n",
    "- **Information reduction**:  \n",
    "  - Paying directly requires **less information** than exchanging IOUs  \n",
    "- **Cuts chains of intermediation**\n",
    "    - Avoid overuse of promises and **removes trust from certain exchanges**\n",
    "    - **Finalizes transactions**: buyers and sellers have no further claims on each other  "
   ]
  },
  {
   "cell_type": "markdown",
   "id": "166c6dfc-31a4-45d8-a8b5-b2f7ea2796e7",
   "metadata": {
    "editable": true,
    "slideshow": {
     "slide_type": "slide"
    },
    "tags": []
   },
   "source": [
    "## 2. Unit of Account  \n",
    "\n",
    "- **Money serves as a yardstick**  \n",
    "    - Unit used to quote prices and record debt  \n",
    "- Facilitates **efficient pricing** and **information transmission**\n",
    "    - **Microeconomic principle**: Relative pricing is inefficient  \n",
    "        - One single, stable unit of account is more efficient  \n",
    "        - “Goods cost money, not other goods”\n",
    "    - Combinatorial explosion when relative pricing for all goods \n",
    "        - Example: with 100 goods → relative pricing requires 4,950 bilateral quotes  "
   ]
  },
  {
   "cell_type": "markdown",
   "id": "71924698-b9e9-440c-a4a8-b1e5521df464",
   "metadata": {
    "editable": true,
    "slideshow": {
     "slide_type": "slide"
    },
    "tags": []
   },
   "source": [
    "## 3. Store of Value  \n",
    "\n",
    "- **Money is used to transfer purchasing power into the future**  \n",
    "- Relies on:  \n",
    "  - **Memory**  \n",
    "  - **Stability of value** / **durability** of the medium\n",
    "- Requires **liquidity** to ensure usability  \n",
    "- Value is **context-dependent**:  \n",
    "  - Markets  \n",
    "  - Government  \n",
    "  - Broader environment  \n",
    "- Money is by definition **consensus driven** — **a coordination game**"
   ]
  },
  {
   "cell_type": "markdown",
   "id": "33fc925f-d073-4905-a666-3e1fe0b5a282",
   "metadata": {
    "editable": true,
    "slideshow": {
     "slide_type": "slide"
    },
    "tags": []
   },
   "source": [
    "# 6. The Governance of Money"
   ]
  },
  {
   "cell_type": "markdown",
   "id": "80b42e40-834a-4c2d-9622-a20d84fef633",
   "metadata": {
    "editable": true,
    "slideshow": {
     "slide_type": "slide"
    },
    "tags": []
   },
   "source": [
    "The **quantity** and **quality** of money is circulation has en impact on the **overall efficiency** of an economy.\n",
    "\n",
    "**2 key concepts**:\n",
    "- **Liquidity**\n",
    "- **Inflation**"
   ]
  },
  {
   "cell_type": "markdown",
   "id": "98c1f9bd-d43a-4307-b730-11bfca81482f",
   "metadata": {
    "editable": true,
    "slideshow": {
     "slide_type": "slide"
    },
    "tags": []
   },
   "source": [
    "## Liquidity  \n",
    "**Definition**: ease with which an asset can be turned into a means of payment (money)  \n",
    "\n",
    "2 dimensions:  \n",
    "  - **Market liquidity** → ability to sell the asset quickly at fair price  \n",
    "  - **Funding liquidity** → ability to borrow against the asset  "
   ]
  },
  {
   "cell_type": "markdown",
   "id": "5eb2e806-2127-4e8d-8c5d-647ffba9cabd",
   "metadata": {
    "editable": true,
    "slideshow": {
     "slide_type": "slide"
    },
    "tags": []
   },
   "source": [
    "## Inflation  \n",
    "**Definition**: change in the value of money (price level)  \n",
    "\n",
    "Classical framework: **Quantity Theory of Money**  \n",
    "- Central issue: how does inflation work?  \n",
    "- Core concern of modern **Monetary Policy**  "
   ]
  },
  {
   "cell_type": "markdown",
   "id": "61b4a908-7ae1-4a57-a6f5-4a1c6f502d02",
   "metadata": {
    "editable": true,
    "slideshow": {
     "slide_type": "slide"
    },
    "tags": []
   },
   "source": [
    "## Quantity Theory of Money"
   ]
  },
  {
   "cell_type": "markdown",
   "id": "6088c216-cafc-4911-b663-ebea30194355",
   "metadata": {
    "editable": true,
    "slideshow": {
     "slide_type": "slide"
    },
    "tags": []
   },
   "source": [
    "### Historical Origins  \n",
    "- Concept linked to **Jean Bodin (1530–1596)**  \n",
    "- Question: why had prices been increasing for one century?  "
   ]
  },
  {
   "cell_type": "code",
   "execution_count": null,
   "id": "19a767b3-7b0e-42b8-8202-e83a5de2a4ad",
   "metadata": {},
   "outputs": [],
   "source": []
  },
  {
   "cell_type": "markdown",
   "id": "5b2e6c46-2cd2-434e-8811-56f3528f1251",
   "metadata": {
    "editable": true,
    "slideshow": {
     "slide_type": "slide"
    },
    "tags": []
   },
   "source": [
    "**Case Study: Spain in the 16th Century**\n",
    "- Large influx of gold and silver from conquests in the Americas  \n",
    "- Result: **sustained rise in money supply**\n",
    "- Consequence: **price level doubled in Spain between 1550 and 1600**  "
   ]
  },
  {
   "cell_type": "markdown",
   "id": "0ec8550b-4ab5-4867-b8e5-2f2120261d4e",
   "metadata": {
    "editable": true,
    "slideshow": {
     "slide_type": "slide"
    },
    "tags": []
   },
   "source": [
    "### Core Idea  \n",
    "**The quantity of money determines the value of money**\n",
    "- Explanation of the relationship between **money supply** and **inflation** \n",
    "\n",
    "**Notation:**\n",
    "  - **P** = price level of a basket of goods (e.g. Consumer Price Index)  \n",
    "  - **1/P** = value of money  \n",
    "\n",
    "**Inflation** &rarr; rise in **P** → fall in **1/P** (value of money)  "
   ]
  },
  {
   "cell_type": "markdown",
   "id": "5f0e3a4f-3f72-4fb1-a182-c8f95918f91c",
   "metadata": {
    "editable": true,
    "slideshow": {
     "slide_type": "slide"
    },
    "tags": []
   },
   "source": [
    "### Supply and Demand for Money  \n",
    "\n",
    "**Money Supply**  \n",
    "- Assume given (e.g., set by government)  \n",
    "*In reality: depends on central bank, banks, and consumers*\n",
    "\n",
    "**Money Demand**  \n",
    "- How much wealth people want to hold in liquid form  \n",
    "*Determined by real income, interest rates, access to cash, etc.*"
   ]
  },
  {
   "cell_type": "markdown",
   "id": "6cdcdb65-de92-4f36-aeb7-3c4646184e7f",
   "metadata": {
    "editable": true,
    "slideshow": {
     "slide_type": "slide"
    },
    "tags": []
   },
   "source": [
    "<center><img src=\"figures/quantity_theory_money_1.png\" width=\"700\"></center>"
   ]
  },
  {
   "cell_type": "markdown",
   "id": "1d3e0c9f-fa22-442c-a162-9fd195e7cad7",
   "metadata": {
    "editable": true,
    "slideshow": {
     "slide_type": "slide"
    },
    "tags": []
   },
   "source": [
    "<center><img src=\"figures/quantity_theory_money_2.png\" width=\"700\"></center>\n",
    "\n",
    "\n",
    "When **money supply** increases: \n",
    "<center> Value of money decreases  \n",
    "→ More money needed to buy the same basket of goods</center>"
   ]
  },
  {
   "cell_type": "markdown",
   "id": "70286c18-7b76-4336-a8ca-0b24248d23fe",
   "metadata": {
    "editable": true,
    "slideshow": {
     "slide_type": "slide"
    },
    "tags": []
   },
   "source": [
    "### Mechanism (Long Run)  \n",
    "\n",
    "- Increase in money supply → excess supply of money  \n",
    "- Excess supply → more spending on goods and services  \n",
    "- Supply of goods is fixed → **prices must rise**  \n",
    "- Adjustment works directly (spending) or indirectly (via credit)  "
   ]
  },
  {
   "cell_type": "markdown",
   "id": "dce5e91f-8ead-44d2-99ed-68553dfbfc11",
   "metadata": {
    "editable": true,
    "slideshow": {
     "slide_type": "slide"
    },
    "tags": []
   },
   "source": [
    "## Discussion"
   ]
  },
  {
   "cell_type": "markdown",
   "id": "e695c0ae-2885-4b78-a40d-d609ca8f9fe0",
   "metadata": {
    "editable": true,
    "slideshow": {
     "slide_type": "slide"
    },
    "tags": []
   },
   "source": [
    "### Inflation Costs (Short Run)  \n",
    "\n",
    "- **Wages are sticky** → individual purchasing power initially reduced  \n",
    "- **Uncertainty** undermines planning  \n",
    "  - Money is a yardstick → lack of price predictability impedes financial decisions  \n",
    "- **Menu costs**: updating prices is costly  "
   ]
  },
  {
   "cell_type": "markdown",
   "id": "509e03fe-e437-416c-af66-0bf558c434e0",
   "metadata": {
    "editable": true,
    "slideshow": {
     "slide_type": "slide"
    },
    "tags": []
   },
   "source": [
    "### Special Cost of Inflation  \n",
    "\n",
    "- **Arbitrary redistribution of wealth**  \n",
    "  Unanticipated inflation **transfers purchasing power between creditors and debtors**\n",
    "  - Higher-than-expected inflation → **benefits debtors** (real value of debt falls)  \n",
    "  - Lower-than-expected inflation → **benefits creditors** (real value of debt rises)  \n",
    "- In practice: high inflation is more variable and less predictable  \n",
    "- Key consequence: **barrier to long-term contracts and financing in unstable economies**  "
   ]
  },
  {
   "cell_type": "markdown",
   "id": "03104627-27ca-4faa-8331-705888da4cce",
   "metadata": {
    "editable": true,
    "slideshow": {
     "slide_type": "slide"
    },
    "tags": []
   },
   "source": [
    "### Limitations of the Model  \n",
    "\n",
    "- Abstracts from **credit** and **behavioral dimensions** under uncertainty  \n",
    "- Prices can move even if money supply is fixed → role of expectations  \n",
    "\n",
    "Examples:  \n",
    "- Medieval food prices fluctuated independently of money supply  \n",
    "- When uncertainty rises → liquidity hoarding (money as credit) → reduced spending  "
   ]
  }
 ],
 "metadata": {
  "kernelspec": {
   "display_name": "Python 3 (ipykernel)",
   "language": "python",
   "name": "python3"
  },
  "language_info": {
   "codemirror_mode": {
    "name": "ipython",
    "version": 3
   },
   "file_extension": ".py",
   "mimetype": "text/x-python",
   "name": "python",
   "nbconvert_exporter": "python",
   "pygments_lexer": "ipython3",
   "version": "3.12.7"
  }
 },
 "nbformat": 4,
 "nbformat_minor": 5
}
