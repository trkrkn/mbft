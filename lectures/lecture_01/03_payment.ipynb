{
 "cells": [
  {
   "cell_type": "markdown",
   "id": "33a008b7-636d-43ec-9ee6-7d1fec8558e3",
   "metadata": {
    "editable": true,
    "slideshow": {
     "slide_type": "slide"
    },
    "tags": []
   },
   "source": [
    "# Payments\n",
    "## 4 Key Questions"
   ]
  },
  {
   "cell_type": "markdown",
   "id": "f1f77802-9e0d-43fc-9518-6e4405c1ae6b",
   "metadata": {
    "editable": true,
    "slideshow": {
     "slide_type": "slide"
    },
    "tags": []
   },
   "source": [
    "## 1. What are the Different Forms of Payment? "
   ]
  },
  {
   "cell_type": "code",
   "execution_count": null,
   "id": "e250a68d-a695-434b-beae-c4b9d330d08f",
   "metadata": {
    "editable": true,
    "slideshow": {
     "slide_type": ""
    },
    "tags": []
   },
   "outputs": [],
   "source": []
  },
  {
   "cell_type": "markdown",
   "id": "2a5efb61-815b-464e-9e35-95f3a40f2504",
   "metadata": {
    "editable": true,
    "slideshow": {
     "slide_type": "slide"
    },
    "tags": []
   },
   "source": [
    "## 2. How Payments Work Today?"
   ]
  },
  {
   "cell_type": "code",
   "execution_count": null,
   "id": "8463a6bb-be8b-49a8-9909-409b46d886dd",
   "metadata": {
    "editable": true,
    "slideshow": {
     "slide_type": ""
    },
    "tags": []
   },
   "outputs": [],
   "source": []
  },
  {
   "cell_type": "markdown",
   "id": "6c69aec0-d72a-4159-ab2a-95801f998e09",
   "metadata": {
    "editable": true,
    "slideshow": {
     "slide_type": "slide"
    },
    "tags": []
   },
   "source": [
    "## 3. What is Special About the Economics of Payments?"
   ]
  },
  {
   "cell_type": "code",
   "execution_count": null,
   "id": "732fbcae-a508-4c68-9804-546661a8b7b4",
   "metadata": {
    "editable": true,
    "slideshow": {
     "slide_type": ""
    },
    "tags": []
   },
   "outputs": [],
   "source": []
  },
  {
   "cell_type": "markdown",
   "id": "1466e192-9c5e-4d4f-b418-b48698dfac06",
   "metadata": {
    "editable": true,
    "slideshow": {
     "slide_type": "slide"
    },
    "tags": []
   },
   "source": [
    "## 4. Should Payment Systems Be Centralised?"
   ]
  },
  {
   "cell_type": "code",
   "execution_count": null,
   "id": "e7c88c83-5b49-4dbc-b2f1-d3aaee72c289",
   "metadata": {
    "editable": true,
    "slideshow": {
     "slide_type": ""
    },
    "tags": []
   },
   "outputs": [],
   "source": []
  },
  {
   "cell_type": "markdown",
   "id": "76e2bd9c-0b93-4552-8a56-6ee3d55a5bfa",
   "metadata": {
    "editable": true,
    "slideshow": {
     "slide_type": "slide"
    },
    "tags": []
   },
   "source": [
    "# Map"
   ]
  },
  {
   "cell_type": "markdown",
   "id": "79c32a1c-4cc0-4d5f-8a98-f74c8bf296b6",
   "metadata": {
    "editable": true,
    "slideshow": {
     "slide_type": ""
    },
    "tags": []
   },
   "source": [
    "1. Means of Payment\n",
    "2. Payment Infrastructures\n",
    "3. A Model of Payment\n",
    "4. Information in Payments"
   ]
  },
  {
   "cell_type": "markdown",
   "id": "fd133cb0-ff7f-458c-93d6-94ccdc2a0ca4",
   "metadata": {
    "editable": true,
    "slideshow": {
     "slide_type": "slide"
    },
    "tags": []
   },
   "source": [
    "# 1. Means of payment"
   ]
  },
  {
   "cell_type": "markdown",
   "id": "bb5e3bf3-66c6-46d8-9729-2ce2859b03fd",
   "metadata": {
    "editable": true,
    "slideshow": {
     "slide_type": "slide"
    },
    "tags": []
   },
   "source": [
    "### Payment\n",
    "**Definition**: The web of arrangements that allow for the exchange of goods and services and assets.  \n",
    "\n",
    "Money is at the heart of it. But there exist multiple means of payment\n",
    "\n",
    "**Evolution of Means of Payment**  \n",
    "Shaped by\n",
    "  - Technology  \n",
    "  - Institutions  \n",
    "  - Trust and credibility  \n",
    "  - Practical needs of exchange and trade  "
   ]
  },
  {
   "cell_type": "markdown",
   "id": "43eccd9b-ba30-40b1-9744-3a759625752b",
   "metadata": {
    "editable": true,
    "slideshow": {
     "slide_type": "slide"
    },
    "tags": []
   },
   "source": [
    "| # | Type of Money      | Key Features                                               | Historical Examples                |\n",
    "|---|--------------------|------------------------------------------------------------|------------------------------------|\n",
    "| 1 | **Commodity money** | Intrinsic value, widely accepted objects                   | Gold, silver, shells, salt, silk   |\n",
    "| 2 | **Paper money**     | Credit notes and banknotes, backed (or not) by commodities | Chinese “flying money”, Assignats, Continentals |\n",
    "| 3 | **Fiat money**      | Value from government decree, legal tender                 | US dollar (post-1971), Euro, Yen   |\n",
    "| 4 | **Digital money**   | Electronic claims on issuers, fast and borderless          | Bank deposits, PayPal, debit cards, CBDCs | \n",
    "\n",
    "\n",
    "Each stage reflects a response to the **limits** of the previous system.  "
   ]
  },
  {
   "cell_type": "markdown",
   "id": "18663609-e5d5-4814-9fe3-e0a7c63e1efa",
   "metadata": {
    "editable": true,
    "slideshow": {
     "slide_type": "slide"
    },
    "tags": []
   },
   "source": [
    "## 1. Commodity Money  "
   ]
  },
  {
   "cell_type": "markdown",
   "id": "ad86da44-1f9a-4bae-96c1-889a9e4a4bb7",
   "metadata": {
    "editable": true,
    "jp-MarkdownHeadingCollapsed": true,
    "slideshow": {
     "slide_type": ""
    },
    "tags": []
   },
   "source": [
    "First forms of money = **money with intrinsic value**  \n",
    "\n",
    "<u>Examples</u>: shells (global), silk (China), whale teeth (Fiji), salt (Venice)  \n",
    "\n",
    "**Necessary characteristics:**\n",
    "1. Can be made into standardized quantities → **unit of account**\n",
    "2. Durable → **store of value**\n",
    "3. High value relative to weight/size → **easily transportable**\n",
    "4. Divisible into small quantities → **easy to trade**\n",
    "\n",
    "Best candidate: **gold**  "
   ]
  },
  {
   "cell_type": "markdown",
   "id": "4ce4dde3-f515-43be-b303-e1618889bc50",
   "metadata": {
    "editable": true,
    "slideshow": {
     "slide_type": "slide"
    },
    "tags": []
   },
   "source": [
    "## 2. Paper Money"
   ]
  },
  {
   "cell_type": "markdown",
   "id": "28053da6-f447-445b-bd9d-aff5787ade1e",
   "metadata": {
    "editable": true,
    "slideshow": {
     "slide_type": ""
    },
    "tags": []
   },
   "source": [
    "### Origins  \n",
    "- Initially: **credit notes** (promises against commodity money)  \n",
    "- Reduced transportation costs  \n",
    "- Leveraged parallel technology: **paper**"
   ]
  },
  {
   "cell_type": "markdown",
   "id": "2b85a930-807d-494d-963f-c9ebec2c50aa",
   "metadata": {
    "editable": true,
    "slideshow": {
     "slide_type": "slide"
    },
    "tags": []
   },
   "source": [
    "**First Introductions**  \n",
    "- **China: 7th century (Tang dynasty)**\n",
    "    - Tang dynasty (618–907): shortage of coins → acceptance of paper notes  \n",
    "    - Traders deposited metallic currency with corporations → received bearer notes (*hequan*)  \n",
    "    - Authorities adopted and generalized the system → **“flying money”**  \n",
    "    - Early example of state involvement in paper money  \n",
    "- **Europe: Sweden, 1656**\n",
    "    - 1660: debasement of coinage → citizens rushed for old coins  \n",
    "    - Stockholms Banco (Palmstruch): massive issuance of banknotes (not linked to any deposit!)\n",
    "    - Notes became popular (lighter than copper coins)  \n",
    "    - Over-issuance under royal pressure to finance wars  \n",
    "    - Loss of confidence → redemption crisis → bank failure  \n",
    "    - Palmstruch imprisoned (died 1671)  "
   ]
  },
  {
   "cell_type": "markdown",
   "id": "afb2af73-440e-451b-bce3-6a803c8e5e89",
   "metadata": {
    "editable": true,
    "slideshow": {
     "slide_type": "slide"
    },
    "tags": []
   },
   "source": [
    "### Paper Money and Wars  \n",
    "In the 18th century: paper money emerged as a massive means to to finance wars of independence  \n",
    "- **US Independence (Continentals)**  \n",
    "- **French Revolution (Assignats)**  \n",
    "\n",
    "**Benefits**: expanded funding capacity, paid salaries and supplies  \n",
    "**Risks**: over-issuance with no explicit backing → hyperinflation  \n",
    "\n",
    "**After wars**: partial return to gold standard (mix of coins and notes)  \n"
   ]
  },
  {
   "cell_type": "markdown",
   "id": "65095cb2-a7ce-4053-876e-b4a800929857",
   "metadata": {
    "editable": true,
    "slideshow": {
     "slide_type": "slide"
    },
    "tags": []
   },
   "source": [
    "## 3. Fiat Money  "
   ]
  },
  {
   "cell_type": "markdown",
   "id": "2b904b03-0c12-4d37-9a4a-e3b4d4d3bc3a",
   "metadata": {
    "editable": true,
    "slideshow": {
     "slide_type": "slide"
    },
    "tags": []
   },
   "source": [
    "**Definition**: Money whose value comes from **government decree** (no intrinsic value)  \n",
    "- Legal tender enforced by law: must be accepted for payments\n",
    "> “This note is a legal tender for all debts, public and private” \n",
    "- Accepted for taxes → critical for stability"
   ]
  },
  {
   "cell_type": "markdown",
   "id": "533441e9-bd77-4bf7-9903-d9a6c3c38beb",
   "metadata": {
    "editable": true,
    "slideshow": {
     "slide_type": "slide"
    },
    "tags": []
   },
   "source": [
    "**Benefits**: reduced coordination and transaction costs  \n",
    "\n",
    "**Risks**: concentration of power, inflation risk, time inconsistency\n",
    "- If a government prints too much money → threatens its value\n",
    "- When time inconsistency is internalized, investment in projects decrease\n",
    "\n",
    "> “Ultimately, if a fiat currency is to outperform a commodity currency, policymakers must be credibly committed… As long as the government stands behind its paper money and doesn’t issue too much of it, we will use it.”\n",
    ">\n",
    "> — Cecchetti & Schoenholtz  \n",
    "\n",
    "<center><b>Core principle: money is about trust</b></center>"
   ]
  },
  {
   "cell_type": "markdown",
   "id": "e0af118c-85de-4d3c-a6e1-03ba794abb5e",
   "metadata": {
    "editable": true,
    "slideshow": {
     "slide_type": "slide"
    },
    "tags": []
   },
   "source": [
    "## 4. Digital Money  "
   ]
  },
  {
   "attachments": {},
   "cell_type": "markdown",
   "id": "ec963496-6701-4069-95bd-e5a7dbb13dad",
   "metadata": {
    "editable": true,
    "slideshow": {
     "slide_type": "slide"
    },
    "tags": []
   },
   "source": [
    "**Definition**: Monetary value represented by a **claim on issuer** (e.g., bank)  \n",
    "\n",
    "**Characteristics:**  \n",
    "  - Stored digitally  \n",
    "  - Issued on receipt of funds  \n",
    "  - Accepted as means of payment beyond issuer\n",
    "\n",
    "**Advantages:**\n",
    "  - Fast, often instantaneous transfers  \n",
    "  - Borderless reach  \n",
    "\n",
    "**Forms**  \n",
    "- Electronic funds transfers  \n",
    "- Stored-value cards (e.g., gift cards)  \n",
    "- Bank deposits, central bank reserves  ®\n",
    "\n",
    "**Synchronisation problem**: adoption of new medium requires coordination between buyers and merchants (see network effects and platforms)"
   ]
  },
  {
   "cell_type": "markdown",
   "id": "dc42d006-81a5-471a-9cf0-da85748e5aad",
   "metadata": {
    "editable": true,
    "slideshow": {
     "slide_type": "slide"
    },
    "tags": []
   },
   "source": [
    "# 2. Payment Systems"
   ]
  },
  {
   "cell_type": "markdown",
   "id": "a9e4c4dc-e0e1-4a79-a82c-c6f82421cd91",
   "metadata": {
    "editable": true,
    "jp-MarkdownHeadingCollapsed": true,
    "slideshow": {
     "slide_type": "slide"
    },
    "tags": []
   },
   "source": [
    "**Main purpose of a payment**: **discharge** a debt incurred by the **payer** by transferring an asset to the **payee**\n",
    "\n",
    "\n",
    "**Payment system**\n",
    "- The technologies, laws, and contracts that **enable payments** and determine when **settlement is final**\n",
    "- Payment systems are the **plumbing of the financial system**.\n",
    "- They enable the safe, efficient, and timely transfer of funds between individuals, firms, and banks.\n",
    "- Governments and central banks treat them as **critical infrastructure** because disruptions can cause **systemic risk**."
   ]
  },
  {
   "cell_type": "markdown",
   "id": "e90b10b6-ed2b-49db-9f00-163bdf1e31ba",
   "metadata": {
    "editable": true,
    "slideshow": {
     "slide_type": "slide"
    },
    "tags": []
   },
   "source": [
    "## Outside vs. Inside Money  "
   ]
  },
  {
   "cell_type": "markdown",
   "id": "113ed16e-3acf-47db-9889-5163888f6a44",
   "metadata": {
    "editable": true,
    "slideshow": {
     "slide_type": ""
    },
    "tags": []
   },
   "source": [
    "While in principle a payment may be made with an asset, in practice virtually all modern payments are\n",
    "\n",
    "**Outside money**  \n",
    "- Fiat or asset-backed money\n",
    "- Net positive asset supply\n",
    "- Examples: central bank currency, gold, government bonds  \n",
    "\n",
    "**Inside money**  \n",
    "- Private credit circulating as medium of exchange  \n",
    "- Zero net supply within private sector:\n",
    "    - asset of one agent ~ liability of another  \n",
    "- Example: demand deposits  \n",
    "\n",
    "Modern infrastructures must interact with both **outside** and **inside** money  "
   ]
  },
  {
   "cell_type": "markdown",
   "id": "9989a268-bf3e-434f-baba-a3bcec423656",
   "metadata": {
    "editable": true,
    "slideshow": {
     "slide_type": "slide"
    },
    "tags": []
   },
   "source": [
    "## Token-Based vs. Account-Based Systems  "
   ]
  },
  {
   "cell_type": "markdown",
   "id": "231e7400-fe32-4900-aac3-fdd1d617190d",
   "metadata": {
    "editable": true,
    "slideshow": {
     "slide_type": ""
    },
    "tags": []
   },
   "source": [
    "**Token-based**  \n",
    "- Physical or digital **tokens** (coins, notes, e-tokens)  \n",
    "- **Verification**: authenticity of the token  \n",
    "- **Advantage**: anonymity  \n",
    "- **Risk**: counterfeiting  \n",
    "\n",
    "**Account-based**  \n",
    "- Operate through **account records** (banks, cards, decentralized ledgers)  \n",
    "- **Verification**: identity of account holder + transaction record  \n",
    "- **Advantage**: safety, efficiency, lower costs\n",
    "- **Risk**: tampering, un-authorized entries, exclusion"
   ]
  },
  {
   "cell_type": "markdown",
   "id": "ff6007d6-eca1-488f-92e8-1331b2da73e2",
   "metadata": {
    "editable": true,
    "slideshow": {
     "slide_type": "slide"
    },
    "tags": []
   },
   "source": [
    "**Historically**"
   ]
  },
  {
   "cell_type": "markdown",
   "id": "0d389fcf-8bab-4de7-82ac-c8369305392b",
   "metadata": {
    "editable": true,
    "slideshow": {
     "slide_type": ""
    },
    "tags": []
   },
   "source": [
    "Both systems have long coexisted (e.g., banknotes + deposits)  \n",
    "- **Limitations of physical tokens (coins/metal):** costly and risky for large/long-distance payments\n",
    "- **Medieval fairs**: banks cleared merchant balances → early clearing systems  \n",
    "    - Account-based systems start in Venice 14th, transfers for clients of the same bank\n",
    "    - With increase in economic activity → growth and need for more payment options\n",
    "        - Clearinghouses appear to enable transfers between different banks (clearing and settlements)\n",
    "- Development of clearinghouses laid foundations for **central banks**  \n",
    "- **19th century US & Europe:** clearinghouses expanded into modern account-based systems  "
   ]
  },
  {
   "cell_type": "markdown",
   "id": "f5ee4103-863c-415a-b80a-cf914727b013",
   "metadata": {
    "editable": true,
    "jp-MarkdownHeadingCollapsed": true,
    "slideshow": {
     "slide_type": "slide"
    },
    "tags": []
   },
   "source": [
    "## Backbone of Modern Payment Systems  "
   ]
  },
  {
   "cell_type": "markdown",
   "id": "a93b738f-4d35-4393-9f90-e1eb61afcb5d",
   "metadata": {
    "editable": true,
    "slideshow": {
     "slide_type": "slide"
    },
    "tags": []
   },
   "source": [
    "Banks hold accounts at the **central bank** to enable interbank transfers (**reserves**) \n",
    "- Non-member banks can access indirectly via correspondent banks  \n",
    "\n",
    "**Examples of central bank payment systems**  \n",
    "- Fedwire (US)  \n",
    "- TARGET (EU)  \n",
    "- CHIPS (UK)  \n",
    "\n",
    "**Retail payments**  \n",
    "Similar to account transfers within a bank but through the reserves of the central bank.\n",
    "\n",
    "\n",
    "In addition to direct transfers:\n",
    "- Paper checks  \n",
    "- Credit cards  "
   ]
  },
  {
   "cell_type": "markdown",
   "id": "7ca70342-3e0f-4aaf-a43d-fb8c9d29bdf9",
   "metadata": {
    "editable": true,
    "slideshow": {
     "slide_type": "slide"
    },
    "tags": []
   },
   "source": [
    "## Settlement Systems "
   ]
  },
  {
   "cell_type": "markdown",
   "id": "a7f517d9-d028-4934-98af-d51b0f9c74af",
   "metadata": {
    "editable": true,
    "slideshow": {
     "slide_type": "slide"
    },
    "tags": []
   },
   "source": [
    "A crucial dimension of payment: **how and when payments are considered final**.  \n",
    "- Settlement defines the moment when a payment is **irrevocable and unconditional**.  \n",
    "- Different infrastructures handle settlement differently, reflecting trade-offs between **speed, liquidity, efficiency, and cost**.\n",
    "\n",
    "**2 main types of settlement systems**:\n",
    "- Real-Time Gross Settlement \n",
    "- Automated Clearing House"
   ]
  },
  {
   "cell_type": "markdown",
   "id": "070c4108-1d2d-48cc-870c-89a5025bdb8f",
   "metadata": {
    "editable": true,
    "slideshow": {
     "slide_type": "slide"
    },
    "tags": []
   },
   "source": [
    "### 1. RTGS – Real-Time Gross Settlement  "
   ]
  },
  {
   "cell_type": "markdown",
   "id": "9e847f1d-e753-410e-8452-4380561dc7cc",
   "metadata": {
    "editable": true,
    "slideshow": {
     "slide_type": ""
    },
    "tags": []
   },
   "source": [
    "**Definition**: Payments settled individually, in real-time, with finality \n",
    "- “Gross” = each transaction processed separately  \n",
    "\n",
    "**Features**:  \n",
    "  - Immediate settlement between banks  \n",
    "  - Irrevocable and final once processed  \n",
    "  - Eliminates settlement risk\n",
    "\n",
    "**Examples**: Fedwire (US), TARGET2 (Eurozone), BOJ-NET (Japan), CHAPS (UK)  \n",
    "\n",
    "**Use cases**: large-value, time-critical payments (interbank transfers, securities settlement)  \n",
    "\n",
    "**Drawback**: liquidity-intensive (banks must hold sufficient balances at central bank)  "
   ]
  },
  {
   "cell_type": "markdown",
   "id": "8aacd37a-6651-4f3a-9e98-8a812a879113",
   "metadata": {
    "editable": true,
    "slideshow": {
     "slide_type": "slide"
    },
    "tags": []
   },
   "source": [
    "**RTGS Example: TARGET2**\n",
    "- Pan-European RTGS system operated by the Eurosystem  \n",
    "- Settles payments in central bank money  \n",
    "- Handles large-value and urgent transactions across the Eurozone  \n",
    "- Backbone of European financial stability infrastructure  "
   ]
  },
  {
   "cell_type": "markdown",
   "id": "ed83cd5a-97b0-43b5-9fad-f57eb0f01505",
   "metadata": {
    "editable": true,
    "slideshow": {
     "slide_type": "slide"
    },
    "tags": []
   },
   "source": [
    "### 2. ACH – Automated Clearing House  "
   ]
  },
  {
   "cell_type": "markdown",
   "id": "b4b3ee2f-2dab-42b0-a33c-f2df3d586ebe",
   "metadata": {
    "editable": true,
    "slideshow": {
     "slide_type": ""
    },
    "tags": []
   },
   "source": [
    "**Definition**: Batch-processing system with net settlement (end-of-day or periodic)  \n",
    "\n",
    "**Features**:  \n",
    "- Payments grouped into batches  \n",
    "- Settlement deferred  \n",
    "- Cost-efficient, less liquidity needed compared to RTGS  \n",
    "\n",
    "**Examples**: Nacha ACH (US), SEPA Credit Transfer/Direct Debit (EU)  \n",
    "\n",
    "**Use cases**: low-value, high-volume payments (salaries, utility bills, e-commerce)  \n",
    "\n",
    "**Drawback**: slower than RTGS; settlement not instantaneous  "
   ]
  },
  {
   "cell_type": "markdown",
   "id": "fa4791f1-375f-49dc-aaaa-7c96b200a419",
   "metadata": {
    "editable": true,
    "slideshow": {
     "slide_type": "slide"
    },
    "tags": []
   },
   "source": [
    "**ACH Example: SEPA (Single Euro Payments Area)**\n",
    "\n",
    "Single integrated EU market for **euro payments** with same rules and costs across participating countries. Launched 2008, fully implemented by 2014.  \n",
    "\n",
    "**Scope**(euro-denominated payments only): 36 countries: EU + EFTA (Iceland, Norway, Liechtenstein, Switzerland) + Monaco, San Marino, Andorra, Vatican  \n",
    "\n",
    "**SEPA Instruments** \n",
    "- **SEPA Credit Transfer (SCT)**: Standardized euro transfers, usually settled next day (D+1)     \n",
    "- **SEPA Direct Debit (SDD)**: Framework for recurring payments (utilities, subscriptions)  \n",
    "  - Works across borders  \n",
    "    (Belgian account can authorize a French firm)  \n",
    "- **SCT Instant (SCT Inst)**: <10 seconds Real-time euro payments (up to €100,000, 24/7/365)  \n",
    "    - Introduced 2017\n",
    "    - Used in P2P and e-commerce"
   ]
  },
  {
   "cell_type": "markdown",
   "id": "c605e7c5-6fa9-45ad-bc5e-1c841286ebcb",
   "metadata": {
    "editable": true,
    "slideshow": {
     "slide_type": "slide"
    },
    "tags": []
   },
   "source": [
    "### Policy and Stability of Settlements "
   ]
  },
  {
   "cell_type": "markdown",
   "id": "54eb9741-1ef8-4f55-bfff-82ea0477bc83",
   "metadata": {
    "editable": true,
    "slideshow": {
     "slide_type": ""
    },
    "tags": []
   },
   "source": [
    "- **Central banks** typically operate **RTGS systems** → backbone of financial stability  \n",
    "- **ACH networks**: usually under central bank oversight, but often run by **banking associations or private operators**\n",
    "\n",
    "**Growing interest in faster payments:**\n",
    "  - Faster Payments (UK)  \n",
    "  - FedNow (US)  \n",
    "  - PIX (Brazil)  \n",
    "\n",
    "These systems blur the line between ACH (retail, deferred) and RTGS (wholesale, immediate)  \n",
    "\n",
    "**Key point**:  \n",
    "RTGS and ACH are complementary  \n",
    "- RTGS = speed and finality, but costly  \n",
    "- ACH = efficiency and scale, but slower  "
   ]
  },
  {
   "cell_type": "markdown",
   "id": "0759ffe4-580b-41b0-9143-7d0de885f423",
   "metadata": {
    "editable": true,
    "slideshow": {
     "slide_type": "slide"
    },
    "tags": []
   },
   "source": [
    "## Credit Cards"
   ]
  },
  {
   "cell_type": "markdown",
   "id": "0cc3db89-459c-4eef-ae1e-d6d743c91d79",
   "metadata": {
    "editable": true,
    "slideshow": {
     "slide_type": "slide"
    },
    "tags": []
   },
   "source": [
    "**Definition**: A credit card payment is a **retail payment instrument** in which:\n",
    "- A **cardholder authorizes** a purchase of goods or services using a credit card issued by a bank (**the issuer**).\n",
    "- The **merchant** receives payment through its bank (**the acquirer**) via a card network (e.g., Visa, Mastercard).\n",
    "- The **issuer extends credit** to the cardholder by settling the transaction on their behalf, while the cardholder agrees to repay the issuer (in full or in part, with possible interest).\n",
    "\n",
    "**Credit Cards** operate on top of the **interbank payment backbone**  \n",
    "\n",
    "A single purchase involves multiple layers of:  \n",
    "- Networks  \n",
    "- Clearing and settlement arrangements  \n",
    "- Contracts and liability rules  \n",
    "- Creates complexity and interdependencies well beyond the buyer and seller  "
   ]
  },
  {
   "cell_type": "markdown",
   "id": "bb3e2df4-1065-4c44-8349-f7e7a9a23c23",
   "metadata": {
    "editable": true,
    "slideshow": {
     "slide_type": "slide"
    },
    "tags": []
   },
   "source": [
    "### Advantages of Credit Cards  \n",
    "- **Defer payment** → consumer buys now, pays later  \n",
    "- **Online credentials** enable e-commerce and remote transactions  \n",
    "- **Global platform** → accepted worldwide  \n",
    "- **Cross-currency mobility** → convenient for international travel and trade  \n",
    "\n",
    "### Challenges and Risks  \n",
    "- Exposure to **cyber-criminality**  \n",
    "- **Back-office costs** rise with fraud monitoring and dispute resolution  \n",
    "- Vulnerability to **malware and fraudulent devices** (e.g., skimmers, phishing)  \n",
    "- Constant need for security upgrades and consumer protection measures  "
   ]
  },
  {
   "cell_type": "markdown",
   "id": "6c3492bb-ef37-41f7-b522-441c9ad36ab7",
   "metadata": {
    "editable": true,
    "slideshow": {
     "slide_type": "slide"
    },
    "tags": []
   },
   "source": [
    "### Key Players in Credit Card Payments  "
   ]
  },
  {
   "cell_type": "markdown",
   "id": "ef1267e2-73b2-4945-a6cd-73092d3e3490",
   "metadata": {
    "editable": true,
    "slideshow": {
     "slide_type": ""
    },
    "tags": []
   },
   "source": [
    "**Issuing bank**  \n",
    "- The bank that issues the credit card to the customer  \n",
    "- Extends credit and guarantees payment to the merchant (through the network)  \n",
    "\n",
    "**Acquiring bank (merchant’s bank)**  \n",
    "- Provides payment services to the merchant  \n",
    "- Collects authorization requests and forwards them through the network  \n",
    "- Ensures merchant receives funds (minus fees)  \n",
    "\n",
    "**Card network**  \n",
    "- Connects issuers and acquirers  \n",
    "- Routes authorization, clearing, and settlement messages  \n",
    "- Examples: Visa, Mastercard, American Express, Discover "
   ]
  },
  {
   "cell_type": "markdown",
   "id": "0e7d953a-5592-4f37-8a39-bcd7fa8a7c28",
   "metadata": {
    "editable": true,
    "slideshow": {
     "slide_type": "slide"
    },
    "tags": []
   },
   "source": [
    "### Steps in a Credit Card Payment  \n",
    "1. Authorization\n",
    "2. Authentication\n",
    "3. Clearing\n",
    "4. Settlement"
   ]
  },
  {
   "cell_type": "markdown",
   "id": "f66e6d57-3270-4623-9586-ed141d5e47a7",
   "metadata": {
    "editable": true,
    "slideshow": {
     "slide_type": "slide"
    },
    "tags": []
   },
   "source": [
    "1. **Authorization**  \n",
    "   - Cardholder presents card details to merchant  \n",
    "   - Merchant sends request to acquiring bank → card network → issuing bank  \n",
    "   - Issuing bank checks available credit and approves or declines  "
   ]
  },
  {
   "cell_type": "markdown",
   "id": "24fe1808-9b23-4652-af3f-cf59c73b9a09",
   "metadata": {
    "editable": true,
    "slideshow": {
     "slide_type": "slide"
    },
    "tags": []
   },
   "source": [
    "2. **Authentication**  \n",
    "   - Additional verification of cardholder identity  \n",
    "   - Methods: PIN, signature, 3-D Secure (e.g., SMS/biometric code for online payments)  "
   ]
  },
  {
   "cell_type": "markdown",
   "id": "e05a99a0-da2e-4797-97c9-a2330dc9d450",
   "metadata": {
    "editable": true,
    "slideshow": {
     "slide_type": "slide"
    },
    "tags": []
   },
   "source": [
    "3. **Clearing**  \n",
    "   - Transaction details transmitted through the card network  \n",
    "   - Issuing and acquiring banks reconcile transaction records  "
   ]
  },
  {
   "cell_type": "markdown",
   "id": "efb1b363-8c24-459a-92f4-be0a790de010",
   "metadata": {
    "editable": true,
    "slideshow": {
     "slide_type": "slide"
    },
    "tags": []
   },
   "source": [
    "4. **Settlement**  \n",
    "   - Actual transfer of funds between issuing and acquiring banks via interbank payment system  \n",
    "   - Merchant receives funds (minus fees), cardholder owes issuer  "
   ]
  },
  {
   "cell_type": "markdown",
   "id": "1c3877e2-7132-43bf-b530-b7899e124e9e",
   "metadata": {
    "editable": true,
    "slideshow": {
     "slide_type": "slide"
    },
    "tags": []
   },
   "source": [
    "### Open vs. Closed Loop Systems  "
   ]
  },
  {
   "cell_type": "markdown",
   "id": "f9ffdd43-5b6d-417b-b87a-48bfc10edb16",
   "metadata": {
    "editable": true,
    "slideshow": {
     "slide_type": "slide"
    },
    "tags": []
   },
   "source": [
    "**Open-loop systems**  \n",
    "- Involve multiple intermediaries: issuer, acquirer, card network, merchant  \n",
    "- Widely used global models  \n",
    "- Examples: **Visa, Mastercard**  \n",
    "\n",
    "**Closed-loop systems**  \n",
    "- Issuer and network are the same entity  \n",
    "- Merchant often contracts directly with the card provider  \n",
    "- Examples: **American Express, Discover**  "
   ]
  },
  {
   "cell_type": "markdown",
   "id": "3e63ad1b-76bb-44e0-885f-0bbd661d2fcf",
   "metadata": {
    "editable": true,
    "slideshow": {
     "slide_type": "slide"
    },
    "tags": []
   },
   "source": [
    "# 3. A Model of Payments"
   ]
  },
  {
   "attachments": {},
   "cell_type": "markdown",
   "id": "3a40aa8b-55ba-4a61-9fe2-a75a07ed27f9",
   "metadata": {
    "editable": true,
    "slideshow": {
     "slide_type": "slide"
    },
    "tags": []
   },
   "source": [
    "**Why model payments?**\n",
    "\n",
    "- Modern payments (credit/debit cards, PayPal, Apple Pay, Alipay, Visa/Mastercard) are **platforms** connecting **two sides**:\n",
    "    - **Cardholders / consumers** (paying side). \n",
    "    - **Merchants** (receiving side). \n",
    "- Value arises only if **both sides adopt** → classic **two-sided market** problem.\n",
    "\n",
    "**Central question**: how should fees be set between consumers and merchants?"
   ]
  },
  {
   "cell_type": "markdown",
   "id": "6fd398b6-ec7f-456e-a36e-d2033570f164",
   "metadata": {
    "editable": true,
    "slideshow": {
     "slide_type": "slide"
    },
    "tags": []
   },
   "source": [
    "## Economics of Payment Platforms"
   ]
  },
  {
   "cell_type": "markdown",
   "id": "30cef234-65cd-435f-8d96-208fb31aa663",
   "metadata": {
    "editable": true,
    "slideshow": {
     "slide_type": ""
    },
    "tags": []
   },
   "source": [
    "**Network externalities:** \n",
    "- More cardholders → more valuable for merchants. \n",
    "- More merchants → more valuable for cardholders.  \n",
    "*More on this in `Platform` part*\n",
    "\n",
    "**Pricing structure matters more than total price:** \n",
    "- Who pays (consumer vs merchant) influences adoption. \n",
    "- A card scheme must balance both sides to achieve adoption."
   ]
  },
  {
   "cell_type": "markdown",
   "id": "e969aca8-9ebb-47ee-a36e-702422e0eb94",
   "metadata": {
    "editable": true,
    "slideshow": {
     "slide_type": "slide"
    },
    "tags": []
   },
   "source": [
    "## Rochet & Tirole’s Framework"
   ]
  },
  {
   "cell_type": "markdown",
   "id": "25d96680-122f-4e09-a78a-77a7c4fdbbf7",
   "metadata": {
    "editable": true,
    "slideshow": {
     "slide_type": ""
    },
    "tags": []
   },
   "source": [
    "Rochet and Tirole (2003) introduced a fundemantal paper on payments which influenced the rest of the economy."
   ]
  },
  {
   "cell_type": "markdown",
   "id": "17ad0bd5-99b1-41cc-b3d2-1509de6045bd",
   "metadata": {
    "editable": true,
    "slideshow": {
     "slide_type": "slide"
    },
    "tags": []
   },
   "source": [
    "**Model**\n",
    "- Fees: $f_b$ (buyers) and $f_s$ (sellers).\n",
    "- Side-specific marginal costs: $c_b$, $c_s$.\n",
    "- Markups:\n",
    "    - $p_b \\equiv f_b - c_b$\n",
    "    - $p_s \\equiv f_s - c_s$\n",
    "- Adoption:\n",
    "    - $n_b = n_b(f_b)$ with $n_b’<0$\n",
    "    - $n_s = n_s(f_s)$ with $n_s’<0$.\n",
    "- Transactions (simple network tech): $T(n_b,n_s) = n_b\\,n_s$.\n",
    "\n",
    "**Payment platform's profit**\n",
    "$$\\Pi(f_b,f_s)=\\big[(f_b-c_b)+(f_s-c_s)\\big]\\;n_b(f_b)\\,n_s(f_s)\n",
    "= (p_b+p_s)\\,n_b(f_b)\\,n_s(f_s)$$"
   ]
  },
  {
   "cell_type": "markdown",
   "id": "7ba9fff2-a276-44f8-9ceb-f18bc87c6a7b",
   "metadata": {
    "editable": true,
    "slideshow": {
     "slide_type": "slide"
    },
    "tags": []
   },
   "source": [
    "### Equilibrium price\n",
    "\n",
    "\n",
    "Differentiate profit w.r.t. fees (keeping costs inside via $p_i=f_i-c_i$):\n",
    "\n",
    "\n",
    "$$\\frac{\\partial \\Pi}{\\partial f_b}\n",
    "= n_b n_s + (p_b+p_s)\\,n_s\\,n_b’(f_b)\n",
    "= n_b n_s\\!\\left(1 + (p_b+p_s)\\frac{n_b’(f_b)}{n_b}\\right)=0$$\n",
    "\n",
    "$$\\frac{\\partial \\Pi}{\\partial f_s}\n",
    "= n_b n_s + (p_b+p_s)\\,n_b\\,n_s’(f_s)\n",
    "= n_b n_s\\!\\left(1 + (p_b+p_s)\\frac{n_s’(f_s)}{n_s}\\right)=0.\n",
    "$$\n",
    "\n",
    "Divide by $n_b n_s>0$:\n",
    "$$1 + M\\frac{n_b’(f_b)}{n_b}=0,\\qquad\n",
    "1 + M\\frac{n_s’(f_s)}{n_s}=0,$$\n",
    "where $M\\equiv p_b+p_s$ is total per-transaction markup."
   ]
  },
  {
   "cell_type": "markdown",
   "id": "e1b0e194-7a82-4bc5-a1e1-91d78e6ed9f6",
   "metadata": {
    "editable": true,
    "slideshow": {
     "slide_type": "slide"
    },
    "tags": []
   },
   "source": [
    "**Adoption elasticities**\n",
    "\n",
    "$$\\varepsilon_b^{\\,p}\\;\\equiv\\;-\\frac{p_b}{n_b}\\,n_b’(f_b)>0$$\n",
    "$$\\varepsilon_s^{\\,p}\\;\\equiv\\;-\\frac{p_s}{n_s}\\,n_s’(f_s)>0$$\n",
    "\n",
    "\n",
    "Then $\\frac{n_b’(f_b)}{n_b}=-\\frac{\\varepsilon_b^{\\,p}}{p_b}$ and similarly for $s$. \n",
    "\n",
    "Plugging into the FOCs:\n",
    "$$1 - M\\frac{\\varepsilon_b^{\\,p}}{p_b}=0 \\;\\Rightarrow\\; M=\\frac{p_b}{\\varepsilon_b^{\\,p}}$$\n",
    "\n",
    "$$1 - M\\frac{\\varepsilon_s^{\\,p}}{p_s}=0 \\;\\Rightarrow\\; M=\\frac{p_s}{\\varepsilon_s^{\\,p}}$$"
   ]
  },
  {
   "cell_type": "markdown",
   "id": "f0818087-fb21-426b-9c2f-887b544b8529",
   "metadata": {
    "editable": true,
    "slideshow": {
     "slide_type": "slide"
    },
    "tags": []
   },
   "source": [
    "### The Balancing Principle"
   ]
  },
  {
   "cell_type": "markdown",
   "id": "09ffe7d4-d51b-455b-a2df-5b56a4adf8b9",
   "metadata": {
    "editable": true,
    "slideshow": {
     "slide_type": ""
    },
    "tags": []
   },
   "source": [
    "**Balancing condition**\n",
    "\n",
    "$$\\boxed{\\;\\frac{p_b}{\\varepsilon_b^{\\,p}} \\;=\\; \\frac{p_s}{\\varepsilon_s^{\\,p}} \\;=\\; M\\;}\n",
    "\\quad\\Longleftrightarrow\\quad\n",
    "\\boxed{\\;\\frac{f_b - c_b}{\\varepsilon_b^{\\,p}} \\;=\\; \\frac{f_s - c_s}{\\varepsilon_s^{\\,p}}\\;}$$\n",
    "\n",
    "\n",
    "Intuition:\n",
    "- Raising $f_b$ changes profit via markup $p_b$ and hurts quantity via adoption elasticity $\\varepsilon_b^{\\,p} $(which already includes network feedback).\n",
    "- Optimal pricing balances those marginal trade-offs across sides.\n",
    "- The more price-sensitive side gets a lower (even negative) price; the less elastic side bears more → matches consumer rewards + merchant fees."
   ]
  },
  {
   "cell_type": "markdown",
   "id": "63d5200e-34c6-489e-8697-803c2346149d",
   "metadata": {
    "editable": true,
    "slideshow": {
     "slide_type": "slide"
    },
    "tags": []
   },
   "source": [
    "### Comparison with Lerner Formula\n",
    "**Importance**: The Lerner rule is a benchmark in industrial organization — it links **market power** directly to demand elasticity.  \n",
    "\n",
    "**Traditional Lerner condition**:  \n",
    "  $$\\frac{p - c}{p} = \\frac{1}{\\varepsilon}$$  \n",
    "  → price–cost margin equals the inverse demand elasticity.  \n",
    "\n",
    "**Difference**\n",
    "- In two-sided markets, the platform **must balance margins across both sides**:  \n",
    "  - Each side’s demand elasticity already reflects **network externalities**.  \n",
    "  - No single Lerner condition holds — instead, a **balancing condition** across sides emerges.  \n",
    "- This explains why **cardholders may receive subsidies** (negative price, rewards) while **merchants pay fees**: the platform redistributes to maximize joint adoption.  "
   ]
  },
  {
   "cell_type": "markdown",
   "id": "4bd6c321-1e6c-4bf2-b00c-cc5e27b1bfe2",
   "metadata": {
    "editable": true,
    "slideshow": {
     "slide_type": "slide"
    },
    "tags": []
   },
   "source": [
    "### Discussion\n",
    "**Price structure**: In two-sided markets, what matters is **the division of fees** (who pays what), not just the total. \n",
    "\n",
    "**Rochet & Tirole’s key insight:** \n",
    "- Optimal pricing structure balances participation on both sides.\n",
    "- Platform may subsidize one side to attract the other.\n",
    "\n",
    "**Example:** \n",
    "- Credit card markets often subsidize cardholders (low or negative $f_C$, via rewards). \n",
    "- Merchants bear higher fees ($f_M$), since they gain from increased sales. "
   ]
  },
  {
   "cell_type": "markdown",
   "id": "999aeae3-5e41-4e27-b5c2-689d440ac33c",
   "metadata": {
    "editable": true,
    "slideshow": {
     "slide_type": "slide"
    },
    "tags": []
   },
   "source": [
    "**Social vs Private Optimum**"
   ]
  },
  {
   "cell_type": "markdown",
   "id": "4ac7fbdc-2420-43cb-9182-4042d6ab066a",
   "metadata": {
    "editable": true,
    "slideshow": {
     "slide_type": ""
    },
    "tags": []
   },
   "source": [
    "- **Private platform objective:** maximize profit = transaction volume × (fees – costs). \n",
    "- **Social planner objective:** maximize total welfare (consumer surplus + merchant surplus – costs). \n",
    "- Distortion arises because platforms may overcharge one side or underprovide adoption. \n",
    "- Raises **policy questions** about interchange fee regulation."
   ]
  },
  {
   "cell_type": "markdown",
   "id": "05df85b4-61d4-409f-889f-5d5d08d0a511",
   "metadata": {
    "editable": true,
    "slideshow": {
     "slide_type": ""
    },
    "tags": []
   },
   "source": [
    "**Policy Implications**"
   ]
  },
  {
   "cell_type": "markdown",
   "id": "2a9701ef-5ac0-4cc2-99c4-7df39246d820",
   "metadata": {
    "editable": true,
    "slideshow": {
     "slide_type": ""
    },
    "tags": []
   },
   "source": [
    "- **Regulators care** because fee structure affects adoption and social welfare. \n",
    "- **Key issues:** \n",
    "    - Interchange fee caps (EU, Australia). \n",
    "    - Promoting access for smaller merchants. \n",
    "    - Encouraging innovation while avoiding excessive merchant fees. "
   ]
  },
  {
   "cell_type": "markdown",
   "id": "a88d0733-06d9-40af-8ad8-2f868108e383",
   "metadata": {
    "editable": true,
    "slideshow": {
     "slide_type": "slide"
    },
    "tags": []
   },
   "source": [
    "# 4. Information in Payments"
   ]
  },
  {
   "cell_type": "markdown",
   "id": "4d0dadaf-0a50-425a-9ceb-e88f75c1fa3a",
   "metadata": {
    "editable": true,
    "slideshow": {
     "slide_type": "slide"
    },
    "tags": []
   },
   "source": [
    "Payments are more than value transfers: they generate **information flows**.  \n",
    "- Key tension: **Privacy vs. Control**.  \n",
    "- Central to debates about modern money, banking, and digital finance.  "
   ]
  },
  {
   "cell_type": "markdown",
   "id": "493892c3-9d68-497a-820a-da30f1d212c6",
   "metadata": {
    "editable": true,
    "slideshow": {
     "slide_type": "slide"
    },
    "tags": []
   },
   "source": [
    "## Payments as Information Flows  "
   ]
  },
  {
   "cell_type": "markdown",
   "id": "2e328aeb-e45b-4bde-8e6c-162e35319527",
   "metadata": {
    "editable": true,
    "slideshow": {
     "slide_type": ""
    },
    "tags": []
   },
   "source": [
    "- Each transaction creates a **data trail**:  \n",
    "  - Who pays whom  \n",
    "  - When, where, how much  \n",
    "  - Purpose of payment (explicit or inferred)  \n",
    "- This information has:  \n",
    "  - **Economic uses** (credit scoring, targeted services)  \n",
    "  - **Regulatory uses** (AML, taxation, supervision)  \n",
    "  - **Privacy implications** (surveillance, autonomy)  "
   ]
  },
  {
   "cell_type": "markdown",
   "id": "8f03c700-2efd-45bd-84ca-085d8d0edfd7",
   "metadata": {
    "editable": true,
    "slideshow": {
     "slide_type": "slide"
    },
    "tags": []
   },
   "source": [
    "## Centralized Ledgers  "
   ]
  },
  {
   "cell_type": "markdown",
   "id": "2abd6ab7-58bb-4512-bfad-62a63a2cd556",
   "metadata": {
    "editable": true,
    "slideshow": {
     "slide_type": ""
    },
    "tags": []
   },
   "source": [
    "**Definition**: a single entity maintains official records of accounts and transactions.  \n",
    "- Examples:  \n",
    "  - Commercial bank deposit ledgers  \n",
    "  - Central bank RTGS systems (TARGET2, Fedwire)  \n",
    "\n",
    "**Advantages**\n",
    "- Efficiency → one authoritative record  \n",
    "- Control → enforcement of rules, compliance  \n",
    "- Auditability → straightforward oversight  "
   ]
  },
  {
   "cell_type": "markdown",
   "id": "607c6ebd-977c-48d7-baa8-42be7becec5a",
   "metadata": {
    "editable": true,
    "slideshow": {
     "slide_type": "slide"
    },
    "tags": []
   },
   "source": [
    "**Privacy Concerns**"
   ]
  },
  {
   "cell_type": "markdown",
   "id": "310210d2-c59e-4869-8cca-6f1c53e3ea6b",
   "metadata": {
    "editable": true,
    "slideshow": {
     "slide_type": ""
    },
    "tags": []
   },
   "source": [
    "- Centralized systems require **identity verification** (KYC/AML).  \n",
    "- Every transaction linked to an account holder.  \n",
    "- Trade-off: anonymity lost, traceability gained.  \n",
    "- Contrast:  \n",
    "  - **Token-based systems (cash, coins):** privacy by design, no ledger.  \n",
    "  - **Account-based systems (deposits, CBDCs):** inherently tied to identities.  "
   ]
  },
  {
   "cell_type": "markdown",
   "id": "59ca2098-872d-46b1-b0eb-3e9c980c8d08",
   "metadata": {
    "editable": true,
    "slideshow": {
     "slide_type": "slide"
    },
    "tags": []
   },
   "source": [
    "## Privacy Trade-Off"
   ]
  },
  {
   "cell_type": "markdown",
   "id": "384e8cdd-410a-4a74-9c08-64410a2a0f18",
   "metadata": {
    "editable": true,
    "slideshow": {
     "slide_type": ""
    },
    "tags": []
   },
   "source": [
    "- **Individuals:** value privacy for autonomy, consumption, political activity.  \n",
    "- **States & regulators:** value transparency to combat illicit finance, tax evasion.  \n",
    "- **Banks & platforms:** monetize data (advertising, credit scoring). "
   ]
  },
  {
   "cell_type": "markdown",
   "id": "0efaee16-d83e-44dc-a08a-ec289b8e2b62",
   "metadata": {
    "editable": true,
    "slideshow": {
     "slide_type": ""
    },
    "tags": []
   },
   "source": [
    "**More centralization** → more control and efficiency, but less privacy.  \n",
    "\n",
    "**More privacy** (cash, decentralized tokens) → harder regulation, higher risk of illicit use.  "
   ]
  },
  {
   "cell_type": "markdown",
   "id": "6db71aff-c0ea-47b6-a110-c22b11068964",
   "metadata": {
    "editable": true,
    "slideshow": {
     "slide_type": "slide"
    },
    "tags": []
   },
   "source": [
    "### Current Debates  \n",
    "Balance **privacy rights** with **financial integrity and security**. "
   ]
  },
  {
   "cell_type": "markdown",
   "id": "e874eb92-30eb-481f-a9dc-f18c5f79396c",
   "metadata": {
    "editable": true,
    "slideshow": {
     "slide_type": ""
    },
    "tags": []
   },
   "source": [
    "**CBDCs**  \n",
    "- Likely built on centralized or semi-centralized ledgers.  \n",
    "- Key design question: allow anonymity like cash, or ensure full traceability?  \n",
    "\n",
    "**Cryptocurrencies**  \n",
    "- Promise decentralization and privacy.  \n",
    "- In reality: pseudonymous, not anonymous.  \n",
    "- Exchanges pressured to apply KYC/AML.  \n",
    "\n",
    "**BigTech platforms**  \n",
    "- Centralize payment data for billions of users.  \n",
    "- Raise concerns about surveillance capitalism and private concentration of financial data.  "
   ]
  }
 ],
 "metadata": {
  "kernelspec": {
   "display_name": "Python 3 (ipykernel)",
   "language": "python",
   "name": "python3"
  },
  "language_info": {
   "codemirror_mode": {
    "name": "ipython",
    "version": 3
   },
   "file_extension": ".py",
   "mimetype": "text/x-python",
   "name": "python",
   "nbconvert_exporter": "python",
   "pygments_lexer": "ipython3",
   "version": "3.12.7"
  }
 },
 "nbformat": 4,
 "nbformat_minor": 5
}
