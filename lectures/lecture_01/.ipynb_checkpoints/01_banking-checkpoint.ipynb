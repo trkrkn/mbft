{
 "cells": [
  {
   "cell_type": "markdown",
   "id": "8a444985-d62b-4dab-b733-02c4835ae36c",
   "metadata": {
    "editable": true,
    "slideshow": {
     "slide_type": "slide"
    },
    "tags": []
   },
   "source": [
    "# Banking\n",
    "## 5 Key Questions"
   ]
  },
  {
   "cell_type": "markdown",
   "id": "7699c552-d56d-4244-bf6b-bafca32294bc",
   "metadata": {
    "editable": true,
    "slideshow": {
     "slide_type": "slide"
    },
    "tags": [
     "start"
    ]
   },
   "source": [
    "## 1. What is a Bank?"
   ]
  },
  {
   "cell_type": "code",
   "execution_count": null,
   "id": "8d0d3971-2f1b-482d-a785-599ecf25b0d1",
   "metadata": {
    "editable": true,
    "slideshow": {
     "slide_type": ""
    },
    "tags": []
   },
   "outputs": [],
   "source": []
  },
  {
   "cell_type": "markdown",
   "id": "d97f14bd-5c3b-4c94-ba82-fdf8d1600984",
   "metadata": {
    "editable": true,
    "slideshow": {
     "slide_type": "slide"
    },
    "tags": []
   },
   "source": [
    "## 2. Why Do We Need Banks?"
   ]
  },
  {
   "cell_type": "code",
   "execution_count": null,
   "id": "85568891-b0bf-42d4-aa0d-9d6b7cf51aba",
   "metadata": {
    "editable": true,
    "slideshow": {
     "slide_type": ""
    },
    "tags": []
   },
   "outputs": [],
   "source": []
  },
  {
   "cell_type": "markdown",
   "id": "4651ef9f-9781-4871-b196-e7e2a3f8f03c",
   "metadata": {
    "editable": true,
    "slideshow": {
     "slide_type": "slide"
    },
    "tags": []
   },
   "source": [
    "## 3. What Makes Banks Unique?"
   ]
  },
  {
   "cell_type": "code",
   "execution_count": null,
   "id": "ea5fcdcf-09c8-49fb-910d-36970d0d3a12",
   "metadata": {
    "editable": true,
    "slideshow": {
     "slide_type": ""
    },
    "tags": []
   },
   "outputs": [],
   "source": []
  },
  {
   "cell_type": "markdown",
   "id": "dfe865f6-b78a-443b-ae55-90c178a654dd",
   "metadata": {
    "editable": true,
    "slideshow": {
     "slide_type": "slide"
    },
    "tags": []
   },
   "source": [
    "## 4. Why Regulate Banks?"
   ]
  },
  {
   "cell_type": "code",
   "execution_count": null,
   "id": "979d33f7-8dc0-4929-be06-fe13060c52d5",
   "metadata": {
    "editable": true,
    "slideshow": {
     "slide_type": ""
    },
    "tags": []
   },
   "outputs": [],
   "source": []
  },
  {
   "cell_type": "markdown",
   "id": "e8a157a2-b5f6-4700-9318-b96bbb9514e1",
   "metadata": {
    "editable": true,
    "slideshow": {
     "slide_type": "slide"
    },
    "tags": []
   },
   "source": [
    "## 5. What is Modern Banking?"
   ]
  },
  {
   "cell_type": "code",
   "execution_count": null,
   "id": "e9e6791a-e7c8-48eb-9ec1-5740372cfdda",
   "metadata": {
    "editable": true,
    "slideshow": {
     "slide_type": ""
    },
    "tags": []
   },
   "outputs": [],
   "source": []
  },
  {
   "cell_type": "markdown",
   "id": "82c3d7d9-57cc-4d4e-a6f7-93a52d53036a",
   "metadata": {
    "editable": true,
    "slideshow": {
     "slide_type": "slide"
    },
    "tags": []
   },
   "source": [
    "# Map"
   ]
  },
  {
   "cell_type": "markdown",
   "id": "0f0c25e7-1212-465d-b932-65df595bbfce",
   "metadata": {
    "editable": true,
    "jp-MarkdownHeadingCollapsed": true,
    "slideshow": {
     "slide_type": ""
    },
    "tags": []
   },
   "source": [
    "1. Definition of banking\n",
    "2. Origins of banking\n",
    "3. Modern banking"
   ]
  },
  {
   "cell_type": "markdown",
   "id": "3b800a59-bba1-4052-9801-5991d59286b9",
   "metadata": {
    "editable": true,
    "slideshow": {
     "slide_type": "slide"
    },
    "tags": []
   },
   "source": [
    "# 1. Banking"
   ]
  },
  {
   "cell_type": "markdown",
   "id": "c52ae737-e197-4425-8f23-109923842b35",
   "metadata": {
    "editable": true,
    "slideshow": {
     "slide_type": "slide"
    },
    "tags": []
   },
   "source": [
    "**Two Core Activities**\n",
    "\n",
    "- **Money** → deposits, payments  \n",
    "- **Credit** → loans, lending  "
   ]
  },
  {
   "cell_type": "markdown",
   "id": "c1f6c38a-0620-472b-8deb-6f27f09a0489",
   "metadata": {
    "editable": true,
    "slideshow": {
     "slide_type": "fragment"
    },
    "tags": []
   },
   "source": [
    "But… Modern Banks Do More\n",
    "\n",
    "- Offer **additional services** (investment, insurance, advisory, etc.)  \n",
    "- Not the **only** providers of money & credit (shadow banks, fintech, bigtech)  "
   ]
  },
  {
   "cell_type": "markdown",
   "id": "b5698db8-1441-4fb4-b3a6-89bdcc90f1aa",
   "metadata": {
    "editable": true,
    "slideshow": {
     "slide_type": "slide"
    },
    "tags": []
   },
   "source": [
    "## Definition\n",
    "\n",
    "> **A financial institution whose <u>current</u> operations consist of <u>granting loans</u> and receiving <u>deposits</u> from the <u>public</u>.**\n",
    "> \n",
    "> — Freixas and Rochet (2008)\n"
   ]
  },
  {
   "cell_type": "markdown",
   "id": "0bc48ee8-f886-4aba-bebf-e775240586d9",
   "metadata": {
    "editable": true,
    "slideshow": {
     "slide_type": "fragment"
    },
    "tags": []
   },
   "source": [
    "#### Breaking Down the Definition\n",
    "\n",
    "- **Current** → main operations  \n",
    "- **Granting loans** → credit creation  \n",
    "- **Deposits** → savings + money  \n",
    "What makes bank unique!\n",
    "- **Public** →  uninformed depositors  \n",
    "This means that access to payments → **public good**"
   ]
  },
  {
   "cell_type": "markdown",
   "id": "0f9089a2-3555-4443-84b7-978403e4a8cd",
   "metadata": {
    "editable": true,
    "slideshow": {
     "slide_type": "slide"
    },
    "tags": []
   },
   "source": [
    "### Why Regulate Banks?\n",
    "\n",
    "- **Protect depositors** from loss and fraud  \n",
    "- **Ensure trust** in money & payments  \n",
    "- **Stability**: banks sit at the core of financial system  "
   ]
  },
  {
   "cell_type": "markdown",
   "id": "46816a48-7ed9-41dd-abb3-98b5ca5ed3d4",
   "metadata": {
    "editable": true,
    "slideshow": {
     "slide_type": "slide"
    },
    "tags": []
   },
   "source": [
    "# 2. Origins of Modern Banking"
   ]
  },
  {
   "cell_type": "markdown",
   "id": "547dc12a-853a-4c99-bf88-27dab6c7f3df",
   "metadata": {
    "editable": true,
    "slideshow": {
     "slide_type": "slide"
    },
    "tags": []
   },
   "source": [
    "## Money Changing\n",
    "\n",
    "**Money changing** = the business of exchanging one form of money for another."
   ]
  },
  {
   "cell_type": "markdown",
   "id": "16e49368-60dc-4ef2-8fd1-d5084473d5e9",
   "metadata": {
    "editable": true,
    "slideshow": {
     "slide_type": ""
    },
    "tags": []
   },
   "source": [
    "### Activities\n",
    "**1. Exchange of Different Currencies**  \n",
    "In ancient marketplaces (Athens, Rome, medieval fairs in Champagne or Bruges).  \n",
    "\n",
    "- Merchants brought coins from different regions.  \n",
    "- Coins differed in:\n",
    "    - Metal content (gold, silver, copper)  \n",
    "    - Weight  \n",
    "    - Purity\n",
    "- Money changers **exchanged at agreed rates**\n",
    "      \n",
    "**2. Authentication & Valuation**\n",
    "\n",
    "- Counterfeiting was common.  \n",
    "- Money changers **assessed authenticity** by **weighing coins** and **testing their metallic content**.  \n",
    "- **Reputation** and **trust** were crucial.  "
   ]
  },
  {
   "cell_type": "markdown",
   "id": "27c31345-0857-4e9f-8d79-093cc6339876",
   "metadata": {
    "editable": true,
    "slideshow": {
     "slide_type": "slide"
    },
    "tags": []
   },
   "source": [
    "### Etymology\n",
    "  - Greek: *trapeza* = scale  \n",
    "  - Italian: *banco* = bench (for coins)\n",
    "      - When a money changer failed → the bench was broken\n",
    "      - Italian: **bancarotta** = broken bench (→ **bankruptcy**)"
   ]
  },
  {
   "cell_type": "markdown",
   "id": "3e1b6fdd-a0ff-44f4-b607-cac99bd7a0f0",
   "metadata": {
    "editable": true,
    "slideshow": {
     "slide_type": "slide"
    },
    "tags": []
   },
   "source": [
    "### From Money Changing to Safekeeping\n",
    "\n",
    "Money changers gradually expanded their role:\n",
    "\n",
    "- **Deposits**: merchants left coins in safekeeping.\n",
    "    - Reduced risk of loss/robery  \n",
    "- **Transfers**: debts settled via ledger entries (no physical coin movement).  \n",
    "- **Credit**: loans granted from pooled reserves. "
   ]
  },
  {
   "cell_type": "markdown",
   "id": "523f6415-2db5-440a-b7bc-23b483833c80",
   "metadata": {
    "editable": true,
    "slideshow": {
     "slide_type": ""
    },
    "tags": []
   },
   "source": [
    "**First bankers**\n",
    "\n",
    "- **Scriveners**: literate advisors, brokers, lenders, deposit-takers  \n",
    "- **Goldsmiths (17th c. England)**: safes for goldware → accepted deposits  \n",
    "- Early **trust-based intermediaries**  "
   ]
  },
  {
   "cell_type": "markdown",
   "id": "44bc2ccc-2923-4a66-b8b6-e605d5c16a43",
   "metadata": {
    "editable": true,
    "slideshow": {
     "slide_type": "slide"
    },
    "tags": []
   },
   "source": [
    "<u>Note</u>: **Deposits with no return**\n",
    "\n",
    "- Early deposits = **zero or negative return**  \n",
    "- Purpose: **safety**, not investment  \n",
    "- Bankers had to maintain **confidence** not to misuse deposits  "
   ]
  },
  {
   "cell_type": "markdown",
   "id": "2a26d887-27fe-4829-bb33-7c5efce2d4b3",
   "metadata": {
    "editable": true,
    "slideshow": {
     "slide_type": "slide"
    },
    "tags": []
   },
   "source": [
    "## Timeline"
   ]
  },
  {
   "cell_type": "markdown",
   "id": "6d2f7c8d-b38e-47c9-979e-1dea6e0ea002",
   "metadata": {
    "editable": true,
    "slideshow": {
     "slide_type": "slide"
    },
    "tags": []
   },
   "source": [
    "### 1. Early Banking Practices\n",
    "\n",
    "- **Mesopotamia (2000 BCE)**  \n",
    "  - Hammurabi’s Code (Babylon) → regulated loans & debt\n",
    "    \n",
    "    > Law 100: “If a merchant gives silver as a loan at interest, he shall take only 1 shekel of silver as interest on 1 shekel; if he takes more, he shall forfeit all.”\n",
    "\n",
    "\n",
    "    > Law 117: “If a man be in debt and he sell his wife, son, or daughter, they shall serve for three years in the house of the purchaser or creditor; in the fourth year they shall regain their freedom.”\n",
    " \n",
    "- **Ancient Greece**: trapeza (money changers)  "
   ]
  },
  {
   "cell_type": "markdown",
   "id": "398feb2e-f535-442e-b636-b5ea2e9c4b50",
   "metadata": {
    "editable": true,
    "slideshow": {
     "slide_type": "slide"
    },
    "tags": []
   },
   "source": [
    "### 2. Medieval & Renaissance (10th-15th c.)\n",
    "\n",
    "- **Templars (12th–14th c.)**:  \n",
    "  - Cheque-like instruments for crusaders & pilgrims  \n",
    "  - First **international financial system**  \n",
    "- **Italian city-states (12th–15th c.)**: Florence, Venice, Genoa = trade hubs  \n",
    "    - **Medici Bank (1397–1494)**: first multinational bank  \n",
    "    - **Pacioli's innovation (1494)**: double-entry bookkeeping  "
   ]
  },
  {
   "cell_type": "markdown",
   "id": "ed346d67-9889-4aa0-b237-52adc8d25019",
   "metadata": {
    "editable": true,
    "slideshow": {
     "slide_type": "slide"
    },
    "tags": []
   },
   "source": [
    "### 3. Colonial Expansion (15th–17th c.)\n",
    "\n",
    "Finance to support growth of trade\n",
    "\n",
    "- **Banco di San Giorgio (1407)** – Genoa - **First public bank**\n",
    "  - Managed public debt, accepted deposits  \n",
    "- **Bank of Amsterdam (1609)**  \n",
    "  - Standardized coinage, clearing bank, proto-central bank  \n",
    "- **Venetian banks**: financed global trade & wars  "
   ]
  },
  {
   "cell_type": "markdown",
   "id": "c06d8b6f-3a78-4ff9-bda1-3e871bcc74a8",
   "metadata": {
    "editable": true,
    "slideshow": {
     "slide_type": "slide"
    },
    "tags": []
   },
   "source": [
    "### 4. Industrial Revolution (19th c.)\n",
    "\n",
    "- **Savings & cooperative banks**  \n",
    "- **Cheque system spread**"
   ]
  },
  {
   "cell_type": "markdown",
   "id": "c9e696df-2595-4904-a696-789a319fb186",
   "metadata": {
    "editable": true,
    "slideshow": {
     "slide_type": "slide"
    },
    "tags": []
   },
   "source": [
    "### 5. Rise of Modern Banking (20th - today c.)\n",
    "\n",
    "- Post-WWII → **retail banking** boom  \n",
    "  - Checking accounts, mortgages, consumer credit  \n",
    "- **Regulation** after crises (e.g., 1929)  \n",
    "- **Globalisation** → multinational banking groups\n",
    "- **Technological Innovation**\n",
    "    - 1950s: Payment cards (Diners Club, later Visa/MasterCard)  \n",
    "    - 1967: ATMs (Barclays, UK)  \n",
    "    - 1973: SWIFT messaging system  "
   ]
  },
  {
   "cell_type": "markdown",
   "id": "837e4187-0f01-4e64-ba5d-c1996a6bbeb5",
   "metadata": {
    "editable": true,
    "slideshow": {
     "slide_type": "slide"
    },
    "tags": []
   },
   "source": [
    "# 3. Modern Banking"
   ]
  },
  {
   "cell_type": "markdown",
   "id": "ae1d092c-da68-43f4-9fb5-b2af7f33b24c",
   "metadata": {
    "editable": true,
    "slideshow": {
     "slide_type": "slide"
    },
    "tags": []
   },
   "source": [
    "### The Need for Finance\n",
    "\n",
    "> “A well-developed, smoothly functioning financial system facilitates  \n",
    "> the efficient life cycle allocation of household consumption and  \n",
    "> the efficient allocation of physical capital to its most productive use in the business sector.”  \n",
    ">\n",
    "> — Merton (1993)"
   ]
  },
  {
   "cell_type": "markdown",
   "id": "8e5632ef-0c64-4153-9888-c44ce2e1c3fc",
   "metadata": {
    "editable": true,
    "slideshow": {
     "slide_type": ""
    },
    "tags": []
   },
   "source": [
    "**For centuries… the job of banks**\n",
    "\n",
    "- Intermediated between **savers and borrowers**  \n",
    "- Provision **money & credit** at the core of the economy  \n",
    "- Ensured **trust, stability, and payments**  "
   ]
  },
  {
   "cell_type": "markdown",
   "id": "60c62856-caec-45fb-94d2-7896f5ef2513",
   "metadata": {
    "editable": true,
    "slideshow": {
     "slide_type": "slide"
    },
    "tags": []
   },
   "source": [
    "### Modern Developments \n",
    "\n",
    "**Since 1970s**\n",
    "\n",
    "- **Financial markets** developed rapidly  \n",
    "- Wave of **financial innovations**  \n",
    "- Entry of new players:  \n",
    "  - **Investment banks & securities firms** (bond issuance, securitization, derivatives)  \n",
    "  - **Institutional investors** (pension funds, mutual funds, insurance companies)  \n",
    "  - **Fintechs** (digital lending, payments, crowdfunding) \n",
    "  - **BigTechs** (digital wallets, cloud, platform finance)  "
   ]
  },
  {
   "cell_type": "markdown",
   "id": "e1761717-08e5-4a7e-aa97-2f66673704ee",
   "metadata": {
    "editable": true,
    "jp-MarkdownHeadingCollapsed": true,
    "slideshow": {
     "slide_type": ""
    },
    "tags": []
   },
   "source": [
    "**Banks vs. Alternatives**\n",
    "\n",
    "- Many services once exclusive to banks are now offered by:  \n",
    "  - **Capital markets**  \n",
    "  - **Other financial institutions**  \n",
    "  - **Technology platforms**  "
   ]
  },
  {
   "cell_type": "markdown",
   "id": "32cb75a9-af84-41cc-ba1b-0df8b0b76c11",
   "metadata": {
    "editable": true,
    "slideshow": {
     "slide_type": "slide"
    },
    "tags": []
   },
   "source": [
    "### Core Question: Why Banks Still Exist?"
   ]
  },
  {
   "cell_type": "code",
   "execution_count": null,
   "id": "f34e0c40-f456-4f0a-b975-5128d7cebd40",
   "metadata": {
    "editable": true,
    "slideshow": {
     "slide_type": ""
    },
    "tags": []
   },
   "outputs": [],
   "source": []
  },
  {
   "cell_type": "markdown",
   "id": "7400aea1-9a5b-4111-b249-9604e9da7527",
   "metadata": {
    "editable": true,
    "slideshow": {
     "slide_type": "slide"
    },
    "tags": []
   },
   "source": [
    "**Paths to understand**:\n",
    "\n",
    "- **Financial markets are imperfect**  \n",
    "    - **Information frictions** (asymmetric, incomplete, confidential)  \n",
    "- **Regulation** (entry barriers, public service, safety nets)  \n",
    "- **Capacity to adapt**  \n",
    "    - Banks evolve with a **dynamic financial landscape**  \n",
    "    - The definition of “bank” and its core activities keeps **morphing over time** "
   ]
  }
 ],
 "metadata": {
  "kernelspec": {
   "display_name": "Python 3 (ipykernel)",
   "language": "python",
   "name": "python3"
  },
  "language_info": {
   "codemirror_mode": {
    "name": "ipython",
    "version": 3
   },
   "file_extension": ".py",
   "mimetype": "text/x-python",
   "name": "python",
   "nbconvert_exporter": "python",
   "pygments_lexer": "ipython3",
   "version": "3.12.7"
  }
 },
 "nbformat": 4,
 "nbformat_minor": 5
}
