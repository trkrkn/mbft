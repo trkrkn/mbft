{
 "cells": [
  {
   "cell_type": "markdown",
   "id": "ab5c057f-80e3-4812-a5fb-e2c772de14bb",
   "metadata": {
    "editable": true,
    "slideshow": {
     "slide_type": "slide"
    },
    "tags": []
   },
   "source": [
    "# Policy & Regulation\n",
    "## 4 Key Questions"
   ]
  },
  {
   "cell_type": "markdown",
   "id": "f35c3ac3-03b5-4fbc-aad7-8c1c1098e503",
   "metadata": {
    "slideshow": {
     "slide_type": "slide"
    },
    "tags": []
   },
   "source": [
    "## Why do banks need to be regulated?"
   ]
  },
  {
   "cell_type": "code",
   "execution_count": null,
   "id": "f3bcdb7b-cb3e-41e1-b1f3-baf6e2abc32c",
   "metadata": {
    "slideshow": {
     "slide_type": ""
    },
    "tags": []
   },
   "outputs": [],
   "source": []
  },
  {
   "cell_type": "markdown",
   "id": "6fc4c0ca-f6eb-4c63-a619-1aa521ed360a",
   "metadata": {
    "slideshow": {
     "slide_type": "slide"
    },
    "tags": []
   },
   "source": [
    "## What is the difference between regulation and policy?"
   ]
  },
  {
   "cell_type": "code",
   "execution_count": null,
   "id": "a1a47e82-5503-4f44-82f9-28220cba5c94",
   "metadata": {},
   "outputs": [],
   "source": []
  },
  {
   "cell_type": "markdown",
   "id": "bb25ea14-7097-4b9d-a9e9-52f2f0022fa6",
   "metadata": {
    "slideshow": {
     "slide_type": "slide"
    },
    "tags": []
   },
   "source": [
    "## What is a central bank?"
   ]
  },
  {
   "cell_type": "code",
   "execution_count": null,
   "id": "fc681546-7a38-4f2f-a4ee-064196dd60ed",
   "metadata": {},
   "outputs": [],
   "source": []
  },
  {
   "cell_type": "markdown",
   "id": "1dd671d9-ab8c-47a8-aabe-b495651df4b9",
   "metadata": {
    "slideshow": {
     "slide_type": "slide"
    },
    "tags": []
   },
   "source": [
    "## What are the main challenges of policy and regulation?"
   ]
  },
  {
   "cell_type": "code",
   "execution_count": null,
   "id": "860e6b60-ae50-405d-8d8e-24cb9813fa87",
   "metadata": {},
   "outputs": [],
   "source": []
  },
  {
   "cell_type": "markdown",
   "id": "766f8d7d-6740-4237-a3c4-3ac4477bd7e1",
   "metadata": {
    "slideshow": {
     "slide_type": "slide"
    },
    "tags": []
   },
   "source": [
    "# Map"
   ]
  },
  {
   "cell_type": "markdown",
   "id": "dae34f9f-5d7a-45b4-b822-b32d99e9ec9a",
   "metadata": {
    "slideshow": {
     "slide_type": ""
    },
    "tags": []
   },
   "source": [
    "1. Foundations\n",
    "2. Main pillars of regulation\n",
    "3. Institutional architecture\n",
    "4. Emerging challenges"
   ]
  },
  {
   "cell_type": "markdown",
   "id": "0574266c-b2ce-4814-9781-711db9fa54e5",
   "metadata": {
    "editable": true,
    "jp-MarkdownHeadingCollapsed": true,
    "slideshow": {
     "slide_type": "slide"
    },
    "tags": []
   },
   "source": [
    "# 1. Foundations"
   ]
  },
  {
   "cell_type": "markdown",
   "id": "f50873ab-752c-400c-a394-ab6b263f64a9",
   "metadata": {
    "editable": true,
    "slideshow": {
     "slide_type": "slide"
    },
    "tags": []
   },
   "source": [
    "## Why Regulate?\n",
    "\n",
    "Banks are not just private firms; they perform **core functions for the economy**.  \n",
    "\n",
    "Regulation ensures that these functions serve the **public interest** rather than amplifying private risks.\n"
   ]
  },
  {
   "cell_type": "markdown",
   "id": "c7ffff41-a8e0-40a3-9415-034915594050",
   "metadata": {
    "slideshow": {
     "slide_type": "slide"
    },
    "tags": []
   },
   "source": [
    "### Main Reasons for Regulation\n",
    "\n",
    "1. **Market failures** \n",
    "2. **Public good role of banking** \n",
    "3. **Systemic and economic externalities**\n",
    "4. **Economic integrity**\n"
   ]
  },
  {
   "cell_type": "markdown",
   "id": "06ec2575-ded4-4b7e-9f25-80749aa714d1",
   "metadata": {
    "slideshow": {
     "slide_type": "slide"
    },
    "tags": []
   },
   "source": [
    "#### Market Failures  \n",
    "\n",
    "**Information asymmetry** - borrowers know more about their projects than  lenders  \n",
    "&rarr; credit rationing and mispricing of risk.  \n",
    "\n",
    "- **Moral hazard** - deposit insurance and limited liability may encourage excessive risk-taking.  \n",
    "\n",
    "- **Adverse selection** - in opaque markets, safe borrowers exit, risky ones remain.  \n",
    "\n",
    "<center> &darr; <br> Unregulated markets may misallocate credit and mismanage real risk.</center>\n"
   ]
  },
  {
   "cell_type": "markdown",
   "id": "8cf4ee83-297d-418e-b7a5-74b982e1644d",
   "metadata": {
    "slideshow": {
     "slide_type": "slide"
    },
    "tags": []
   },
   "source": [
    "#### Public Good Role of Banking  \n",
    "\n",
    "**Money** - banks create and distribute the dominant form of money (**deposits**).\n",
    "\n",
    "**Payments** - provide the backbone of the economy’s transaction infrastructure.  \n",
    "\n",
    "**Credit** - channel savings to productive investment.  \n",
    "\n",
    "**Trust** - confidence in banks sustains financial and economic activity.  \n",
    "\n",
    "<center> &darr; <br> These functions are systemic public goods — their breakdown affects all sectors.</center>\n"
   ]
  },
  {
   "cell_type": "markdown",
   "id": "2002d774-e066-4ed3-97a6-a18ee347c71e",
   "metadata": {
    "slideshow": {
     "slide_type": "slide"
    },
    "tags": []
   },
   "source": [
    "#### Systemic Risk and Economic Externalities  \n",
    "\n",
    "**Financial Fragility** - banks fund long-term assets with short-term deposits  \n",
    "&rarr; vulnerable to **runs** (Diamond–Dybvig).  \n",
    "\n",
    "**Interconnectedness & Contagion** - banks are linked through interbank lending, derivatives, and payment systems.  \n",
    "&rarr; distress in one institution can propagate through the network (e.g. Lehman Brothers 2008).  \n",
    "\n",
    "**Real-Economy Spillovers** - financial distress triggers layoffs, investment cuts, and lower growth.  \n",
    "&rarr; bank distress reduces lending to firms and households  \n",
    "&rarr; **credit crunch** deepens recessions.  \n",
    "\n",
    "<center> &darr; <br> Individual bank failures can create macro-financial feedback loops, justifying prudential and macroprudential regulation.</center>\n"
   ]
  },
  {
   "cell_type": "markdown",
   "id": "b288e6cd-222b-4abd-b26b-62f13372836d",
   "metadata": {
    "slideshow": {
     "slide_type": "slide"
    },
    "tags": []
   },
   "source": [
    "#### Economic Integrity  \n",
    "\n",
    "**Gatekeepers** - banks serve as entry points to the financial system and monitor the legitimacy of transactions.  \n",
    "&rarr; controls aim to stop **money laundering, terrorist financing, fraud, corruption, and sanctions evasion**.  \n",
    "\n",
    "**System legitimacy** - strong integrity frameworks preserve the **credibility and reputation** of the financial system.  \n",
    "\n",
    "**Global coordination** - international AML/CFT standards (e.g. FATF) ensure consistent enforcement across jurisdictions.  \n",
    "\n",
    "<center> &darr; <br> Ensuring integrity means preserving public trust in finance, without which monetary stability and market efficiency cannot be sustained.</center>\n"
   ]
  },
  {
   "cell_type": "markdown",
   "id": "f9ab691b-8ce3-4833-bee8-a2237079c862",
   "metadata": {
    "slideshow": {
     "slide_type": "slide"
    },
    "tags": []
   },
   "source": [
    "## Policy vs Regulation\n"
   ]
  },
  {
   "cell_type": "markdown",
   "id": "27769b48-cc2d-42df-927d-6956a21093e0",
   "metadata": {
    "slideshow": {
     "slide_type": "slide"
    },
    "tags": []
   },
   "source": [
    "Public authorities shape the financial system through two complementary layers of action:  \n",
    "\n",
    "- **Policy** defines the **vision and objectives** \n",
    "    \n",
    "    * Ex: *maintain financial stability, foster competition, or prevent financial crime*  \n",
    "    \n",
    "- **Regulation** translates these objectives into **concrete, enforceable rules and mechanisms**\n",
    "    * Ex: *capital buffers, disclosure duties, or KYC requirements*\n",
    "\n",
    "<u> Goal:</u> ensure that the financial system serves both **economic efficiency** and **public trust**."
   ]
  },
  {
   "cell_type": "markdown",
   "id": "7d1a7de7-eb14-43d6-acb4-ae0dc633d1e1",
   "metadata": {
    "slideshow": {
     "slide_type": "slide"
    },
    "tags": []
   },
   "source": [
    "| **Aspect** | **Regulation** | **Policy** |\n",
    "|-------------|----------------|-------------|\n",
    "| **Definition** | Binding rules that specify what financial institutions **must** or **must not** do. | **Strategic framework** or objectives guiding desired economic or social outcomes. |\n",
    "| **Nature** | **Legal and enforceable** (laws, directives, supervisory rules). | **Strategic and goal-oriented** (principles, objectives, priorities). |\n",
    "| **Issuer** | Regulators and supervisors (central banks, authorities). | Governments, central banks, international institutions. |\n",
    "| **Example** | Basel III capital requirements, AML obligations. | Financial stability policy, innovation policy, inclusion policy. |\n",
    "| **Objective** | Ensure compliance and sound practices. | Define desired outcomes and balance trade-offs. |\n",
    "\n"
   ]
  },
  {
   "cell_type": "markdown",
   "id": "828b86a8-34a6-4d3c-ad7a-915c43ad02ea",
   "metadata": {
    "editable": true,
    "jp-MarkdownHeadingCollapsed": true,
    "slideshow": {
     "slide_type": "slide"
    },
    "tags": []
   },
   "source": [
    "# 2. Main Pillars of Regulation"
   ]
  },
  {
   "cell_type": "markdown",
   "id": "015eafe1-c41b-435d-a308-551a4ac89afe",
   "metadata": {
    "editable": true,
    "slideshow": {
     "slide_type": "slide"
    },
    "tags": []
   },
   "source": [
    "Banks are subject to **multiple layers of regulation** — each addressing a different dimension of risk and public interest.\n",
    "\n",
    "These pillars ensure that the financial system remains:\n",
    "\n",
    "- **Safe and sound** (`prudential`)\n",
    "- **Fair and transparent** (`conduct`)\n",
    "- **Clean and trustworthy** (`integrity`)"
   ]
  },
  {
   "cell_type": "markdown",
   "id": "fa9c9d4a-9960-4b68-90ea-b4ba4dc66d35",
   "metadata": {
    "slideshow": {
     "slide_type": "slide"
    },
    "tags": []
   },
   "source": [
    "### Complementarity of the Pillars\n",
    "\n",
    "Each pillar targets a **different source of risk** — solvency, behavior, or integrity.  \n",
    "\n",
    "Together, they form a **comprehensive regulatory architecture**.  \n",
    "\n",
    "Effective supervision requires **coordination** across prudential, conduct, and integrity domains.  "
   ]
  },
  {
   "cell_type": "markdown",
   "id": "17655fe4-96c5-42ec-93e5-63353886fc7e",
   "metadata": {
    "slideshow": {
     "slide_type": "slide"
    },
    "tags": []
   },
   "source": [
    "### Balancing Objectives\n",
    "\n",
    "Regulators must navigate key **trade-offs**:\n",
    "\n",
    "- **Stability vs Competition**: excessive competition can erode stability but lack of competition can increase rents  \n",
    "- **Integrity vs Inclusion**: prevent illicit finance but risk excluding legitimate users  \n",
    "- **Innovation vs Safety**: strict rules may stifle technological innovation  \n",
    "- **National vs Supranational control**: international coordination challenges  "
   ]
  },
  {
   "cell_type": "markdown",
   "id": "14963743-ad6f-43cf-aebb-cf0741217c99",
   "metadata": {
    "slideshow": {
     "slide_type": "slide"
    },
    "tags": []
   },
   "source": [
    "### Overview of the Main Pillars"
   ]
  },
  {
   "cell_type": "markdown",
   "id": "cee86518-993b-48fe-ad15-9b7548e5461f",
   "metadata": {
    "slideshow": {
     "slide_type": ""
    },
    "tags": []
   },
   "source": [
    "| **Pillar** | **Objective** | **Focus** | **Examples of Frameworks** |\n",
    "|-------------|----------------|------------|-----------------------------|\n",
    "| **Prudential Regulation** | Financial stability and solvency | Capital, liquidity, leverage, risk management | Basel III, CRR/CRD, BRRD |\n",
    "| **Macroprudential Policy** | System-wide stability | Buffers, systemic surcharges, stress tests | ESRB, FSOC, Basel III add-ons |\n",
    "| **Conduct Regulation** | Fair treatment of customers and market participants | Disclosure, suitability, governance | MiFID II, Retail Banking Directives, CFPB (US) |\n",
    "| **Integrity Regulation** | Prevent misuse of the financial system | AML/CFT, sanctions, market abuse | FATF, AMLD, MAR, OFAC |"
   ]
  },
  {
   "cell_type": "markdown",
   "id": "3cd14689-580d-435a-90e0-ce22092140e2",
   "metadata": {
    "slideshow": {
     "slide_type": "slide"
    },
    "tags": []
   },
   "source": [
    "## 1. Prudential Regulation"
   ]
  },
  {
   "cell_type": "markdown",
   "id": "1e7ff94b-9603-4382-9b1b-80a5d81952c7",
   "metadata": {
    "slideshow": {
     "slide_type": "slide"
    },
    "tags": []
   },
   "source": [
    "### 1.1 Basel Framework (Global Standard)\n",
    "\n",
    "International banking regulation is built on a **common prudential standard** developed by the **Basel Committee on Banking Supervision (BCBS)**.\n",
    "\n",
    "The Basel framework sets the rules that determine how much **capital and liquidity** banks must hold to remain safe and resilient.  \n",
    "\n",
    "It is implemented through national laws — such as **CRR/CRD** (Capital Requirement Regulation and Directive) in the EU."
   ]
  },
  {
   "cell_type": "markdown",
   "id": "88f439ea",
   "metadata": {
    "slideshow": {
     "slide_type": "slide"
    },
    "tags": []
   },
   "source": [
    "#### Core Elements\n",
    "\n",
    "1. **Capital Requirements** - setting of\n",
    "    \n",
    "    - Minimum **Common Equity Tier 1 (CET1)**: 4.5% of risk-weighted assets.  \n",
    "    - **Total capital ratio:** 8% plus applicable buffers.  \n",
    "\n",
    "2. **Leverage Ratio** - caps on total assets relative to capital, limiting excessive balance-sheet expansion.  "
   ]
  },
  {
   "cell_type": "markdown",
   "id": "ca6b15da-8433-4bdd-a194-a914746ca1e4",
   "metadata": {
    "slideshow": {
     "slide_type": "slide"
    },
    "tags": []
   },
   "source": [
    "3. **Liquidity Ratios** - setting of\n",
    "    - **Liquidity Coverage Ratio (LCR):** enough high-quality liquid assets to survive a 30-day stress.  \n",
    "    - **Net Stable Funding Ratio (NSFR):** ensures stable long-term funding over a 1-year horizon."
   ]
  },
  {
   "cell_type": "markdown",
   "id": "fca71464",
   "metadata": {
    "slideshow": {
     "slide_type": "slide"
    },
    "tags": []
   },
   "source": [
    "#### Macro-Prudential Buffers\n",
    "\n",
    "In addition to minimum capital ratios, banks must hold **extra capital buffers** to absorb losses and smooth the financial cycle.  \n",
    "\n",
    "These buffers also come from the **Basel III framework** and are implemented in the EU through the **Capital Requirements Directive (CRD)**."
   ]
  },
  {
   "cell_type": "markdown",
   "id": "19a0845e-d524-468c-be8d-390cbfea7798",
   "metadata": {
    "slideshow": {
     "slide_type": "slide"
    },
    "tags": []
   },
   "source": [
    "**Main types:**\n",
    "\n",
    "- **Capital Conservation Buffer** – baseline cushion (2.5% CET1) to absorb unexpected losses.  \n",
    "- **Countercyclical Buffer** – built up in good times, released in downturns to support lending.  \n",
    "- **Systemic Risk Buffers** – higher requirements for systemically important or structurally risky banks (G-SIBs, O-SIIs).  \n",
    "\n",
    "**Who sets them?**  \n",
    "National or EU **supervisory authorities** (e.g. ECB/SSM, ESRB) decide when and how buffers apply."
   ]
  },
  {
   "cell_type": "markdown",
   "id": "677b95de",
   "metadata": {
    "slideshow": {
     "slide_type": "slide"
    },
    "tags": []
   },
   "source": [
    "### 1.2 Resolution & Deposit Protection"
   ]
  },
  {
   "cell_type": "markdown",
   "id": "24f46e62",
   "metadata": {
    "slideshow": {
     "slide_type": "slide"
    },
    "tags": []
   },
   "source": [
    "**Bank Recovery and Resolution Directive (BRRD, EU):**  \n",
    "\n",
    "Core framework for managing failing banks **without taxpayer bailouts**.  \n",
    "\n",
    "- Requires **recovery and resolution plans** (“living wills”) to ensure orderly wind-down.  \n",
    "- Introduces the **bail-in** tool: shareholders and creditors bear losses before public funds are used.  \n",
    "- Establishes the **Single Resolution Mechanism (SRM)** with a central **Single Resolution Board (SRB)** in the Eurozone."
   ]
  },
  {
   "cell_type": "markdown",
   "id": "d919b545-d73e-425f-802b-31896dc60d06",
   "metadata": {
    "slideshow": {
     "slide_type": "slide"
    },
    "tags": []
   },
   "source": [
    "**Deposit Guarantee Schemes (DGS):**  \n",
    "\n",
    "Protection for retail deposits:\n",
    "\n",
    "- In EU up to **€100,000 per depositor per bank**\n",
    "    - Harmonized across member states\n",
    "    - Funded by the banking sector, not taxpayers since 2014  \n",
    "- Aim to **preserve confidence** and **prevent deposit runs** during crises."
   ]
  },
  {
   "cell_type": "markdown",
   "id": "e29ae782-102d-4947-9e2b-3554b2bb838f",
   "metadata": {
    "slideshow": {
     "slide_type": "slide"
    },
    "tags": []
   },
   "source": [
    "## 2. Conduct and Consumer Protection"
   ]
  },
  {
   "cell_type": "markdown",
   "id": "c2748214-b2d0-4fc4-b8be-996016aaa9cf",
   "metadata": {
    "slideshow": {
     "slide_type": "slide"
    },
    "tags": []
   },
   "source": [
    "While prudential rules safeguard the **soundness of banks**, conduct regulation protects the **users of financial services** — ensuring that markets operate fairly and customers are treated honestly.  \n",
    "\n",
    "These rules promote **transparency, accountability, and trust** in the relationship between banks and their clients."
   ]
  },
  {
   "cell_type": "markdown",
   "id": "9355ce88-a46d-48d4-ab91-ac6b7923d74f",
   "metadata": {
    "slideshow": {
     "slide_type": "slide"
    },
    "tags": []
   },
   "source": [
    "**Main Frameworks**\n",
    "\n",
    "- **MiFID II (EU):** sets standards for investor protection, product governance, and trading transparency.  \n",
    "- **Retail Banking Directives (EU):** govern disclosure, fair treatment, and mortgage credit practices.  "
   ]
  },
  {
   "cell_type": "markdown",
   "id": "bb78381b-32ca-470e-9f0b-1181d5393672",
   "metadata": {
    "slideshow": {
     "slide_type": "slide"
    },
    "tags": []
   },
   "source": [
    "## 3. Economic Integrity Regulation"
   ]
  },
  {
   "cell_type": "markdown",
   "id": "db13f795-1ec4-4e32-9574-c6c17519f2f4",
   "metadata": {
    "slideshow": {
     "slide_type": "slide"
    },
    "tags": []
   },
   "source": [
    "Beyond stability and consumer protection, financial regulation also safeguards the **integrity of the financial system**.  \n",
    "\n",
    "Banks and market participants must ensure that finance is **not misused for illicit purposes** such as money laundering, terrorist financing, or market manipulation.  \n",
    "\n",
    "Integrity rules preserve **trust**, **reputation**, and the **legitimacy** of the financial system as a whole."
   ]
  },
  {
   "cell_type": "markdown",
   "id": "4210864a-500a-473e-8366-b606bb3c8281",
   "metadata": {
    "slideshow": {
     "slide_type": "slide"
    },
    "tags": []
   },
   "source": [
    "### 3.1 AML/CFT Frameworks"
   ]
  },
  {
   "cell_type": "markdown",
   "id": "9255d719-9dab-4ef9-a62d-7e5da48aaf64",
   "metadata": {},
   "source": [
    "The **Anti-Money Laundering (AML)** and **Countering the Financing of Terrorism (CFT)** frameworks form the backbone of **economic integrity regulation**.  \n",
    "\n",
    "They aim to prevent the financial system from being used to disguise criminal proceeds or fund illicit activities."
   ]
  },
  {
   "cell_type": "markdown",
   "id": "c66a2328-213d-4ba0-ac23-edd2edb7bba8",
   "metadata": {
    "slideshow": {
     "slide_type": "slide"
    },
    "tags": []
   },
   "source": [
    "#### Main Frameworks\n",
    "\n",
    "- **EU AML Directives (currently 6th AMLD):** harmonize national laws on customer due diligence, reporting, and beneficial ownership transparency.  \n",
    "\n",
    "- **FATF Standards:** global benchmark setting 40 Recommendations for AML/CFT policies adopted by most jurisdictions."
   ]
  },
  {
   "cell_type": "markdown",
   "id": "685e8cf8-21d2-46ce-80f1-e0568f005d92",
   "metadata": {
    "slideshow": {
     "slide_type": "slide"
    },
    "tags": []
   },
   "source": [
    "#### Core Requirements\n",
    "\n",
    "1. **Know-Your-Customer (KYC):** verify customer identity before entering a relationship.  \n",
    "\n",
    "2. **Customer Due Diligence (CDD):** assess and monitor risks associated with clients and transactions.  \n",
    "\n",
    "3. **Suspicious Transaction Reports (STRs):** report unusual or suspicious activities to national **Financial Intelligence Units (FIUs)**.  \n",
    "\n",
    "4. **Beneficial Ownership Registries:** identify the real individuals behind corporate entities.\n"
   ]
  },
  {
   "cell_type": "markdown",
   "id": "fcbe41b4-540d-4672-85da-dc6ee03a9c66",
   "metadata": {
    "slideshow": {
     "slide_type": "slide"
    },
    "tags": []
   },
   "source": [
    "### 3.2 Sanctions Compliance\n",
    "\n",
    "Sanctions regimes are a key component of **economic integrity** and **international security policy**.  \n",
    "\n",
    "They restrict access to the financial system for **blacklisted individuals, entities, or countries** involved in terrorism, corruption, or breaches of international law."
   ]
  },
  {
   "cell_type": "markdown",
   "id": "eb0c52f7-019d-4607-8007-9f0f2854ab44",
   "metadata": {
    "slideshow": {
     "slide_type": "slide"
    },
    "tags": []
   },
   "source": [
    "#### Main Frameworks\n",
    "\n",
    "- **United Nations (UN)** – global sanctions adopted by member states.  \n",
    "\n",
    "- **European Union (EU)** – common sanctions policy across all member countries.  \n",
    "\n",
    "- **United States (OFAC)** – extensive financial and trade sanctions enforced worldwide through the **Office of Foreign Assets Control**."
   ]
  },
  {
   "cell_type": "markdown",
   "id": "f611bb91-6747-4491-add8-2fb38a991d64",
   "metadata": {
    "slideshow": {
     "slide_type": "slide"
    },
    "tags": []
   },
   "source": [
    "#### Implementation in Banking\n",
    "\n",
    "- Banks must screen clients and transactions against official sanctions lists.  \n",
    "- Breaches can lead to **severe fines and reputational damage**.  \n",
    "- Compliance requires ongoing monitoring, reporting, and internal controls.\n"
   ]
  },
  {
   "cell_type": "markdown",
   "id": "6aaf5652-8dc7-4011-8c9d-5f733ee5476b",
   "metadata": {
    "slideshow": {
     "slide_type": "slide"
    },
    "tags": []
   },
   "source": [
    "### 3.3 Market Integrity and Transparency"
   ]
  },
  {
   "cell_type": "markdown",
   "id": "ec146bcc-77aa-4eab-8300-fa9bce5432ef",
   "metadata": {
    "slideshow": {
     "slide_type": "slide"
    },
    "tags": []
   },
   "source": [
    "Market integrity rules ensure that **financial markets remain fair, transparent, and free from manipulation**.  \n",
    "\n",
    "They protect investors, support price discovery, and sustain confidence in the financial system."
   ]
  },
  {
   "cell_type": "markdown",
   "id": "048b77e8-8814-4448-96f0-12de0eb9169c",
   "metadata": {
    "slideshow": {
     "slide_type": "slide"
    },
    "tags": []
   },
   "source": [
    "#### Main Framework\n",
    "\n",
    "- **Market Abuse Regulation (MAR, EU):**  \n",
    "    - Prohibits **insider trading**, **unlawful disclosure of information**, and **market manipulation**.  \n",
    "    - Applies to all instruments traded on EU markets, including derivatives.  "
   ]
  },
  {
   "cell_type": "markdown",
   "id": "43fd1db7-d0d4-4721-8e7f-a0ce3d664744",
   "metadata": {
    "slideshow": {
     "slide_type": "slide"
    },
    "tags": []
   },
   "source": [
    "#### Core Principles\n",
    "\n",
    "1. **Transparency:** timely disclosure of relevant information.  \n",
    "\n",
    "2. **Fairness:** equal access to market information and trading conditions.  \n",
    "\n",
    "3. **Surveillance:** continuous monitoring to detect abusive behavior.  \n"
   ]
  },
  {
   "cell_type": "markdown",
   "id": "042e8e10-0cdc-4e00-82fb-52f6ad45d110",
   "metadata": {
    "editable": true,
    "jp-MarkdownHeadingCollapsed": true,
    "slideshow": {
     "slide_type": "slide"
    },
    "tags": []
   },
   "source": [
    "# 3. Institutional Architecture"
   ]
  },
  {
   "cell_type": "markdown",
   "id": "97e879b9-2ea8-4401-b850-fe5fd6a981dd",
   "metadata": {
    "editable": true,
    "slideshow": {
     "slide_type": "slide"
    },
    "tags": []
   },
   "source": [
    "## 1. Regulatory Landscape in Europe"
   ]
  },
  {
   "cell_type": "markdown",
   "id": "6327dbf1-e564-43ac-af2e-c2f3ea2fab29",
   "metadata": {
    "slideshow": {
     "slide_type": "slide"
    },
    "tags": []
   },
   "source": [
    "### Key Institutions"
   ]
  },
  {
   "cell_type": "markdown",
   "id": "edf338e7-4b80-4c2c-aef5-904afe67c9b4",
   "metadata": {
    "slideshow": {
     "slide_type": "slide"
    },
    "tags": []
   },
   "source": [
    "The European regulatory architecture rests on a **multi-level framework** that combines EU-wide coordination with national implementation.  \n",
    "\n",
    "Each institution plays a distinct role in maintaining **stability, consistency, and oversight** across the banking system."
   ]
  },
  {
   "cell_type": "markdown",
   "id": "25abb1fc-651d-4809-b392-b38929090390",
   "metadata": {
    "slideshow": {
     "slide_type": "slide"
    },
    "tags": []
   },
   "source": [
    "**European Central Bank (ECB):**  \n",
    "\n",
    "- Conducts **monetary policy** \n",
    "- Ensures **banking supervision** through the *Single Supervisory Mechanism (SSM)*.  \n",
    "    - Directly supervises the largest and most significant Eurozone banks.\n",
    "\n",
    "**European Banking Authority (EBA):**  \n",
    "\n",
    "- Promotes **regulatory harmonization** across the EU through the *Single Rulebook*.  \n",
    "- Conducts **EU-wide stress tests** and develops technical standards."
   ]
  },
  {
   "cell_type": "markdown",
   "id": "0ef935cf-d900-4851-b14c-ef72230f1e59",
   "metadata": {
    "slideshow": {
     "slide_type": "slide"
    },
    "tags": []
   },
   "source": [
    "**European Securities and Markets Authority (ESMA):**  \n",
    "\n",
    "- Regulates **capital markets, securities trading, and market infrastructure** (MiFID II/MiFIR, MAR, EMIR).  \n",
    "- Ensures **investor protection** and consistent application of market rules across the EU.\n",
    "\n",
    "**European Systemic Risk Board (ESRB):**  \n",
    "\n",
    "- Oversees **macroprudential risks** and systemic vulnerabilities in the EU financial system.  \n",
    "- Issues warnings and recommendations to national authorities."
   ]
  },
  {
   "cell_type": "markdown",
   "id": "ff046e4f-f82b-4a50-890b-6f847d3d7ef6",
   "metadata": {
    "slideshow": {
     "slide_type": "slide"
    },
    "tags": []
   },
   "source": [
    "**European Anti-Money Laundering Authority (AMLA):** *(under establishment)*  \n",
    "\n",
    "- Will oversee **AML/CFT supervision** of high-risk institutions and coordinate national FIUs.  \n",
    "- Aims to ensure **consistent enforcement** of AML rules across the EU.\n",
    "\n",
    "**National Competent Authorities (NCAs):**  \n",
    "\n",
    "- Implement EU rules and supervise **smaller domestic institutions** under ECB oversight.  \n",
    "- Adapt and enforce regulation at the **national level**.\n"
   ]
  },
  {
   "cell_type": "markdown",
   "id": "5695c87a-5201-41a4-8528-d6fd66ff809c",
   "metadata": {
    "slideshow": {
     "slide_type": "slide"
    },
    "tags": []
   },
   "source": [
    "## 2. Central Banking and Supervision"
   ]
  },
  {
   "cell_type": "markdown",
   "id": "953993cb-5b09-4893-a0da-cb96f565c877",
   "metadata": {
    "slideshow": {
     "slide_type": "slide"
    },
    "tags": []
   },
   "source": [
    "Central banks stand at the **core of modern financial governance**.  \n",
    "\n",
    "They are not only responsible for **monetary policy**, but also for **financial stability**, **crisis management**, and — increasingly — **regulatory supervision**.  \n",
    "\n",
    "Their actions shape the overall stability, efficiency, and integrity of the financial system."
   ]
  },
  {
   "cell_type": "markdown",
   "id": "cc4c84c6-b508-4c03-93c7-4d4b14586371",
   "metadata": {
    "slideshow": {
     "slide_type": "slide"
    },
    "tags": []
   },
   "source": [
    "### Core Roles"
   ]
  },
  {
   "cell_type": "markdown",
   "id": "fdaa003f-59c7-4a9b-9732-1255d15db86c",
   "metadata": {
    "jp-MarkdownHeadingCollapsed": true,
    "slideshow": {
     "slide_type": "slide"
    },
    "tags": []
   },
   "source": [
    "Central banks fulfill several critical functions that go far beyond setting interest rates:\n",
    "\n",
    "1. **Government’s Bank:**  \n",
    "   - Manages **public debt**, issues government securities, and holds the state’s accounts and reserves.  \n",
    "   - Acts as fiscal agent for the Treasury.\n",
    "\n",
    "2. **Banks’ Bank:**  \n",
    "   - Provides liquidity to commercial banks through **lending facilities** and **lender-of-last-resort** operations.  \n",
    "   - Ensures the stability of the banking system during crises."
   ]
  },
  {
   "cell_type": "markdown",
   "id": "6990c188-6c67-43dc-896e-26870c9d9f85",
   "metadata": {
    "jp-MarkdownHeadingCollapsed": true,
    "slideshow": {
     "slide_type": "slide"
    },
    "tags": []
   },
   "source": [
    "3. **Money Supply and Monetary Policy:**  \n",
    "   - Controls the quantity and price of **base money** (reserves and cash).  \n",
    "   - Uses policy tools to steer short-term interest rates and influence inflation and credit conditions.\n",
    "\n",
    "4. **Payments and Infrastructure:**  \n",
    "   - Oversees and operates **payment and settlement systems** to guarantee their safety and reliability.  \n",
    "   - Example: TARGET2 in the Eurozone, Fedwire in the US."
   ]
  },
  {
   "cell_type": "markdown",
   "id": "b1f35066-9f51-4256-95e0-8a0077d901ad",
   "metadata": {
    "jp-MarkdownHeadingCollapsed": true,
    "slideshow": {
     "slide_type": "slide"
    },
    "tags": []
   },
   "source": [
    "5. **Integrity and Stability:**  \n",
    "   - Monitors the **soundness of the financial system** and helps prevent its misuse for illicit activities.  \n",
    "   - Coordinates with supervisors and FIUs on AML/CFT matters."
   ]
  },
  {
   "cell_type": "markdown",
   "id": "c12d864e-69a3-4497-bbee-0f8982ec0b7b",
   "metadata": {
    "slideshow": {
     "slide_type": "slide"
    },
    "tags": []
   },
   "source": [
    "### Principles of Central Bank Design"
   ]
  },
  {
   "cell_type": "markdown",
   "id": "9d8c6eac-45a7-4a0b-aedc-bce390e457c2",
   "metadata": {
    "slideshow": {
     "slide_type": "slide"
    },
    "tags": []
   },
   "source": [
    "A well-designed central bank must balance **independence** with **accountability** to maintain legitimacy and effectiveness."
   ]
  },
  {
   "cell_type": "markdown",
   "id": "63e9ce71-b236-4655-bd9f-69754ccad8a5",
   "metadata": {
    "slideshow": {
     "slide_type": "slide"
    },
    "tags": []
   },
   "source": [
    "#### Independence\n",
    "\n",
    "- Shields monetary policy from short-term political pressures.  \n",
    "- Essential for **price stability** and the **credibility** of commitments.\n",
    "\n",
    "> **In the EU:** the **Treaty on the Functioning of the European Union (TFEU)** guarantees the **ECB’s institutional and operational independence** — no government may seek to influence its decisions (Article 130)."
   ]
  },
  {
   "cell_type": "markdown",
   "id": "4d27433d-9318-45a2-8e69-c45fd885dfe7",
   "metadata": {
    "slideshow": {
     "slide_type": "slide"
    },
    "tags": []
   },
   "source": [
    "#### Accountability"
   ]
  },
  {
   "cell_type": "markdown",
   "id": "22f99db8-b492-4d01-b592-cd7333bb1cd1",
   "metadata": {
    "slideshow": {
     "slide_type": ""
    },
    "tags": []
   },
   "source": [
    "- Central banks must explain and justify decisions to parliaments, governments, and the public.  \n",
    "- Strengthens democratic oversight.\n",
    "> **In the EU:** the ECB reports regularly to the **European Parliament**, including quarterly hearings and publication of its **Annual Report** submitted to both Parliament and the Council."
   ]
  },
  {
   "cell_type": "markdown",
   "id": "f0fcddac-266a-463d-8e09-237d6e70329d",
   "metadata": {
    "slideshow": {
     "slide_type": "slide"
    },
    "tags": []
   },
   "source": [
    "#### Transparency"
   ]
  },
  {
   "cell_type": "markdown",
   "id": "51a35bf0-f528-4929-b050-d43cc9f60c27",
   "metadata": {
    "slideshow": {
     "slide_type": ""
    },
    "tags": []
   },
   "source": [
    "- Regular communication through **minutes, forecasts, and forward guidance**.  \n",
    "- Reduces uncertainty and anchors market expectations.\n",
    "\n",
    "> **In the EU:** the ECB publishes detailed **accounts of monetary policy meetings**, **press conferences** after each Governing Council decision, and **forward-looking projections** to clarify its policy stance."
   ]
  },
  {
   "cell_type": "markdown",
   "id": "ccaa459a-e49a-4c4d-a48b-62adb7ddf059",
   "metadata": {
    "slideshow": {
     "slide_type": "slide"
    },
    "tags": []
   },
   "source": [
    "### Monetary Policy Framework"
   ]
  },
  {
   "cell_type": "markdown",
   "id": "4a25dc30-5459-4506-837d-401de726f69f",
   "metadata": {
    "slideshow": {
     "slide_type": "slide"
    },
    "tags": []
   },
   "source": [
    "Monetary policy provides the **set of tools and operations** through which central banks influence **liquidity**, **interest rates**, and **credit conditions** in the economy.  \n",
    "\n",
    "Its design evolves with crises, financial innovation and macroeconomic conditions."
   ]
  },
  {
   "cell_type": "markdown",
   "id": "7a80135a-c996-4f6f-8610-97bdcc7cf150",
   "metadata": {
    "slideshow": {
     "slide_type": "slide"
    },
    "tags": []
   },
   "source": [
    "#### Conventional Monetary Policy"
   ]
  },
  {
   "cell_type": "markdown",
   "id": "53bcb2e7",
   "metadata": {
    "slideshow": {
     "slide_type": "slide"
    },
    "tags": []
   },
   "source": [
    "Conventional instruments operate through **short-term interest rates** and liquidity management.  \n",
    "\n",
    "They are used in normal times to steer inflation and stabilize the business cycle.\n",
    "\n",
    "**Main tools:**\n",
    "\n",
    "1. **Open Market Operations (OMOs)**  \n",
    "    - Buying or selling government securities to influence short-term interest rates and bank reserves.  \n",
    "    - Example: the ECB’s *Main Refinancing Operations (MROs)* and *Long-Term Refinancing Operations (LTROs)*.  "
   ]
  },
  {
   "cell_type": "markdown",
   "id": "31b9ef5e-a66a-47b5-bd80-0e39048f5fe3",
   "metadata": {
    "slideshow": {
     "slide_type": "slide"
    },
    "tags": []
   },
   "source": [
    "2. **Standing Facilities**  \n",
    "    - **Lending Facility** - banks borrow overnight at a penalty rate.  \n",
    "    - **Deposit Facility** - banks earn interest on excess reserves, setting a floor for market rates  \n",
    "\n",
    "3. **Reserve Requirements**  \n",
    "    - Minimum reserves that banks must hold with the central bank; affect money market liquidity."
   ]
  },
  {
   "cell_type": "markdown",
   "id": "202cde83-9a9b-4820-ac5c-22ffc13ebfb1",
   "metadata": {
    "slideshow": {
     "slide_type": "slide"
    },
    "tags": []
   },
   "source": [
    "#### Non-Conventional Monetary Policy"
   ]
  },
  {
   "cell_type": "markdown",
   "id": "e3fd06f4",
   "metadata": {
    "slideshow": {
     "slide_type": "slide"
    },
    "tags": []
   },
   "source": [
    "When conventional tools reach their limits — notably at the **zero lower bound** on interest rates — central banks resort to **non-conventional measures** to maintain stability and support economic activity."
   ]
  },
  {
   "cell_type": "markdown",
   "id": "d2809abb-94a4-4ad5-bec4-3dffe182728d",
   "metadata": {
    "slideshow": {
     "slide_type": "slide"
    },
    "tags": []
   },
   "source": [
    "**Key instruments**\n",
    "\n",
    "- **Forward Guidance**  \n",
    "  - Communication strategy that commits to setting interest rates for a defined period.  \n",
    "  - Shapes market expectations and reduces uncertainty.  \n",
    "  - Example: ECB guidance post-2013 and during the COVID-19 pandemic.\n",
    "\n",
    "- **Quantitative Easing (QE)**  \n",
    "  - Large-scale purchases of government or private securities to inject liquidity and lower long-term interest rates.  \n",
    "  - Example: ECB’s *Asset Purchase Programme (APP)* and *Pandemic Emergency Purchase Programme (PEPP)*."
   ]
  },
  {
   "cell_type": "markdown",
   "id": "2a6d8dfb-3156-4fb9-a03f-c12766e629c1",
   "metadata": {
    "slideshow": {
     "slide_type": "slide"
    },
    "tags": []
   },
   "source": [
    "- **Targeted Lending (TLTROs)**  \n",
    "  - Long-term loans to banks at favorable rates, conditional on lending to the real economy.  \n",
    "  - Supports credit flow to households and firms.\n",
    "\n",
    "- **Negative Interest Rates**  \n",
    "  - Imposing a small cost on excess reserves held by banks to encourage lending.  \n",
    "  - Example: ECB deposit rate below 0% between 2014–2022.\n"
   ]
  },
  {
   "cell_type": "markdown",
   "id": "139da01d-ae8c-4e9f-8dd4-7ca10afeae14",
   "metadata": {
    "slideshow": {
     "slide_type": "slide"
    },
    "tags": []
   },
   "source": [
    "#### Policy Objectives"
   ]
  },
  {
   "cell_type": "markdown",
   "id": "f9b6d6bd-bc02-4273-a20d-655c29532ee4",
   "metadata": {
    "slideshow": {
     "slide_type": ""
    },
    "tags": []
   },
   "source": [
    "Across both conventional and non-conventional tools, the central goals remain:\n",
    "\n",
    "- **Price Stability:** maintaining inflation close to target (≈2% in the Eurozone).  \n",
    "- **Financial Stability:** preventing credit bubbles and ensuring liquidity in stress periods.  \n",
    "- **Sustainable Growth:** supporting economic recovery without compromising long-term stability."
   ]
  },
  {
   "cell_type": "markdown",
   "id": "266cebb0-7bfd-4334-b095-6367b58c24b0",
   "metadata": {
    "slideshow": {
     "slide_type": "slide"
    },
    "tags": []
   },
   "source": [
    "### Monetary vs Fiscal Policy"
   ]
  },
  {
   "cell_type": "markdown",
   "id": "956e9114",
   "metadata": {
    "slideshow": {
     "slide_type": "slide"
    },
    "tags": []
   },
   "source": [
    "Monetary and fiscal authorities share overlapping goals but rely on **different instruments** and **time horizons**.\n",
    "\n",
    "- **Fiscal Policy** uses **spending and taxation** to influence demand and redistribute resources.  \n",
    "\n",
    "- **Monetary Policy** uses **interest rates and liquidity** to stabilize prices and the credit cycle."
   ]
  },
  {
   "cell_type": "markdown",
   "id": "617b1e3f-3db9-4651-9a55-ba4a31f3a539",
   "metadata": {
    "slideshow": {
     "slide_type": "slide"
    },
    "tags": []
   },
   "source": [
    "**Fundamental Tension** arises when governments pressure central banks to keep rates low to reduce debt costs.  \n",
    "  - Leads to inflationary risks and undermines credibility.\n",
    "\n",
    "<center>&darr;<br>Central bank independence is crucial to prevent fiscal dominance and preserve long-term stability.</center>"
   ]
  },
  {
   "cell_type": "markdown",
   "id": "120843f9-e952-4f19-b7de-64a3180de86e",
   "metadata": {
    "editable": true,
    "jp-MarkdownHeadingCollapsed": true,
    "slideshow": {
     "slide_type": "slide"
    },
    "tags": []
   },
   "source": [
    "# 4. Emerging Challenges"
   ]
  },
  {
   "cell_type": "markdown",
   "id": "0dd15ac3-4fd6-493e-895c-69bff63e1df0",
   "metadata": {
    "editable": true,
    "slideshow": {
     "slide_type": "slide"
    },
    "tags": []
   },
   "source": [
    "## 1. New Frontiers"
   ]
  },
  {
   "cell_type": "markdown",
   "id": "e7356fe7-fad4-4d9a-9d61-7963b3a88132",
   "metadata": {
    "slideshow": {
     "slide_type": "slide"
    },
    "tags": []
   },
   "source": [
    "The financial system is evolving rapidly under the influence of **technology, data, and sustainability concerns**.  \n",
    "\n",
    "These developments challenge traditional regulatory boundaries and call for **new frameworks** to ensure stability, fairness, and resilience.  \n",
    "\n",
    "The new frontiers of regulation address **three major transitions**: digitalization, cyber resilience, and climate sustainability."
   ]
  },
  {
   "cell_type": "markdown",
   "id": "3910687c-46be-4a0f-b85b-47c9bb17a637",
   "metadata": {
    "slideshow": {
     "slide_type": "slide"
    },
    "tags": []
   },
   "source": [
    "### Fintech & Digital Finance"
   ]
  },
  {
   "cell_type": "markdown",
   "id": "cd5f626a",
   "metadata": {
    "slideshow": {
     "slide_type": "slide"
    },
    "tags": []
   },
   "source": [
    "Innovation is reshaping how financial services are delivered and how risks emerge.  \n",
    "\n",
    "Regulation aims to foster innovation **without undermining financial stability or consumer protection**."
   ]
  },
  {
   "cell_type": "markdown",
   "id": "bc9e1d7d",
   "metadata": {
    "slideshow": {
     "slide_type": "slide"
    },
    "tags": []
   },
   "source": [
    "**Crypto-assets and tokenization:**  \n",
    "- The EU’s **Markets in Crypto-Assets Regulation (MiCA)** provides a harmonized framework for crypto-asset issuance, trading, and service providers.  \n",
    "- Covers stablecoins, utility tokens, and crypto-asset platforms.\n",
    "\n",
    "**Open Banking and Data Sharing:**  \n",
    "- **PSD2 (Payment Services Directive 2)** requires banks to open customer data (with consent) to licensed third parties via APIs.  \n",
    "- Encourages competition and innovation in payments and financial services."
   ]
  },
  {
   "cell_type": "markdown",
   "id": "b297101b-e6c2-47c3-a32e-c16659426899",
   "metadata": {
    "slideshow": {
     "slide_type": "slide"
    },
    "tags": []
   },
   "source": [
    "**New Entrants:**  \n",
    "  - Licensing of **neobanks**, **payment institutions**, and **BigTechs** entering finance.  \n",
    "  - Raises questions about **level playing fields**, **data concentration**, and **cross-sector oversight**."
   ]
  },
  {
   "cell_type": "markdown",
   "id": "5fcad295-6e9e-48ac-8bd9-02858736b729",
   "metadata": {
    "slideshow": {
     "slide_type": "slide"
    },
    "tags": []
   },
   "source": [
    "### Operational Resilience and Cyber Risk"
   ]
  },
  {
   "cell_type": "markdown",
   "id": "d294d9d1-c78a-47b5-9b94-dfa51a558403",
   "metadata": {
    "slideshow": {
     "slide_type": "slide"
    },
    "tags": []
   },
   "source": [
    "As finance becomes more digital and interconnected, **technological failures** and **cyberattacks** represent growing threats to financial stability.\n",
    "\n",
    "**EU’s Digital Operational Resilience Act (DORA):**  \n",
    "- Establishes a unified framework for managing ICT and cyber risks across all financial entities.  \n",
    "- Covers incident reporting, digital continuity, and oversight of third-party service providers (e.g., cloud computing).  \n"
   ]
  },
  {
   "cell_type": "markdown",
   "id": "aa41a239-6303-4397-b011-49f7a0a23d27",
   "metadata": {
    "slideshow": {
     "slide_type": "slide"
    },
    "tags": []
   },
   "source": [
    "### Climate and ESG Risks"
   ]
  },
  {
   "cell_type": "markdown",
   "id": "2cfddf1c",
   "metadata": {
    "slideshow": {
     "slide_type": "slide"
    },
    "tags": []
   },
   "source": [
    "Sustainability concerns are reshaping financial regulation as climate change introduces **new forms of systemic risk** and **market disruption**."
   ]
  },
  {
   "cell_type": "markdown",
   "id": "983ddaac",
   "metadata": {
    "slideshow": {
     "slide_type": "slide"
    },
    "tags": []
   },
   "source": [
    "**EU Green Taxonomy:**  \n",
    "- Defines which economic activities qualify as environmentally sustainable to guide investment and disclosure.  \n",
    "\n",
    "**Disclosure and Reporting:**  \n",
    "- The **Sustainable Finance Disclosure Regulation (SFDR)** and **Corporate Sustainability Reporting Directive (CSRD)** mandate transparency on ESG risks and impacts.  "
   ]
  },
  {
   "cell_type": "markdown",
   "id": "a990b50a-d2a4-4881-b41a-8a060ced161a",
   "metadata": {
    "slideshow": {
     "slide_type": "slide"
    },
    "tags": []
   },
   "source": [
    "**Climate Stress Testing:**  \n",
    "- Central banks and supervisors (e.g., ECB, BoE, NGFS) test banks’ exposure to physical and transition risks.  \n",
    "- Encourages integration of climate considerations into risk management and capital planning."
   ]
  },
  {
   "cell_type": "markdown",
   "id": "d4f76ca6-02df-4e78-a470-8a804124a8a5",
   "metadata": {
    "slideshow": {
     "slide_type": "slide"
    },
    "tags": []
   },
   "source": [
    "## 2. Policy Trade-offs"
   ]
  },
  {
   "cell_type": "markdown",
   "id": "41b81d82-bac0-494c-a42f-713f9435c208",
   "metadata": {
    "slideshow": {
     "slide_type": "slide"
    },
    "tags": []
   },
   "source": [
    "Financial regulation is about **managing trade-offs** between competing public objectives.  \n",
    "No single policy goal — stability, innovation, integrity, or inclusion — can be achieved in isolation. \n",
    "\n",
    "Effective governance requires regulators to **balance risks and benefits** across these dimensions, adapting rules as technology and markets evolve."
   ]
  },
  {
   "cell_type": "markdown",
   "id": "27ce44ae-0d46-484c-a312-2c17f0d2130d",
   "metadata": {
    "slideshow": {
     "slide_type": "slide"
    },
    "tags": []
   },
   "source": [
    "### Stability vs Innovation  \n",
    "- Strong prudential and conduct rules protect the system from excessive risk-taking.  \n",
    "- Yet, **overly restrictive regulation** may discourage experimentation and slow financial innovation.  \n",
    "- Example: strict capital rules can limit bank investment in fintech partnerships or new payment solutions.  \n",
    "→ *Challenge: support innovation while preserving financial stability.*"
   ]
  },
  {
   "cell_type": "markdown",
   "id": "7a65173a-11d6-4230-9152-2876e3285c13",
   "metadata": {
    "slideshow": {
     "slide_type": "slide"
    },
    "tags": []
   },
   "source": [
    "### Integrity vs Inclusion  \n",
    "- AML/CFT rules safeguard economic integrity and prevent illicit finance.  \n",
    "- But strict compliance can lead to **de-risking** — banks withdrawing from high-risk regions or clients, reducing access to finance.  \n",
    "- Particularly affects **small remittance providers** and **emerging economies**.  \n",
    "→ *Challenge: fight financial crime without excluding legitimate users from the system.*"
   ]
  },
  {
   "cell_type": "markdown",
   "id": "67edd1a2-10c1-4974-95f2-ac21928950a6",
   "metadata": {
    "slideshow": {
     "slide_type": "slide"
    },
    "tags": []
   },
   "source": [
    "### National vs Supranational Oversight  \n",
    "- In the EU, financial supervision is shared between **national authorities** and **EU institutions** (ECB, EBA, ESMA, AMLA).  \n",
    "- Coordination ensures consistency but can also slow decision-making and create accountability gaps.  \n",
    "→ *Challenge: align diverse national interests under a unified European framework.*"
   ]
  },
  {
   "cell_type": "markdown",
   "id": "eaeb8ecd-c397-4716-b76e-220671d21c1f",
   "metadata": {
    "slideshow": {
     "slide_type": "slide"
    },
    "tags": []
   },
   "source": [
    "### Privacy vs Security  \n",
    "- Data-sharing and surveillance are essential for detecting financial crime and systemic risks.  \n",
    "- Yet they can conflict with **data protection** and **individual privacy** (e.g., GDPR constraints vs AML monitoring).  \n",
    "→ *Challenge: find the right balance between public safety and fundamental rights.*"
   ]
  }
 ],
 "metadata": {
  "celltoolbar": "Slideshow",
  "kernelspec": {
   "display_name": "Python 3 (ipykernel)",
   "language": "python",
   "name": "python3"
  },
  "language_info": {
   "codemirror_mode": {
    "name": "ipython",
    "version": 3
   },
   "file_extension": ".py",
   "mimetype": "text/x-python",
   "name": "python",
   "nbconvert_exporter": "python",
   "pygments_lexer": "ipython3",
   "version": "3.12.7"
  }
 },
 "nbformat": 4,
 "nbformat_minor": 5
}
