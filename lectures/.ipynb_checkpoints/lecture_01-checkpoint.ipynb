{
 "cells": [
  {
   "cell_type": "markdown",
   "id": "72cac829-22c2-4241-8fbd-e276de4e3653",
   "metadata": {},
   "source": [
    "---\n",
    "title: \"Lecture 1 – Introduction\"\n",
    "format: revealjs\n",
    "# optional niceties:\n",
    "page-layout: full      # hide site chrome / use full screen\n",
    "# execute: false       # if you want to use saved outputs only\n",
    "---"
   ]
  },
  {
   "cell_type": "markdown",
   "id": "648840d6-413c-4055-9ab1-c0249654366b",
   "metadata": {},
   "source": [
    "## The origins of finance"
   ]
  },
  {
   "cell_type": "markdown",
   "id": "a7f9123b-bd16-4889-8215-c1685b642ebb",
   "metadata": {
    "slideshow": {
     "slide_type": "slide"
    }
   },
   "source": [
    "In the beginning"
   ]
  },
  {
   "cell_type": "markdown",
   "id": "ff9e4b92-3c74-427b-bc9c-64016fcda47f",
   "metadata": {},
   "source": [
    "## Dedalus and Icarus"
   ]
  },
  {
   "cell_type": "markdown",
   "id": "69113f37-1a4b-428c-a25b-a5cc5c36ec81",
   "metadata": {},
   "source": [
    "In the end"
   ]
  },
  {
   "cell_type": "code",
   "execution_count": null,
   "id": "e9f03f2e-5bcb-4ccf-819c-26b7d9f12622",
   "metadata": {},
   "outputs": [],
   "source": []
  }
 ],
 "metadata": {
  "kernelspec": {
   "display_name": "Python 3 (ipykernel)",
   "language": "python",
   "name": "python3"
  },
  "language_info": {
   "codemirror_mode": {
    "name": "ipython",
    "version": 3
   },
   "file_extension": ".py",
   "mimetype": "text/x-python",
   "name": "python",
   "nbconvert_exporter": "python",
   "pygments_lexer": "ipython3",
   "version": "3.12.7"
  }
 },
 "nbformat": 4,
 "nbformat_minor": 5
}
